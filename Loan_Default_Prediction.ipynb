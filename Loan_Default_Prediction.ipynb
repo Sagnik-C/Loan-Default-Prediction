{
  "nbformat": 4,
  "nbformat_minor": 0,
  "metadata": {
    "colab": {
      "name": "MachineHack_Loan_Default_Prediction.ipynb",
      "provenance": [],
      "collapsed_sections": []
    },
    "kernelspec": {
      "name": "python3",
      "display_name": "Python 3"
    },
    "language_info": {
      "name": "python"
    }
  },
  "cells": [
    {
      "cell_type": "markdown",
      "source": [
        "#Loan-Default Classification Challenge\n",
        "\n",
        "In this notebook we aim to utilise the given dataset to predict whether a client will default a loan or not. \n",
        "\n",
        "\n",
        "---\n",
        "\n",
        "\n",
        "Contents of the notebook:\n",
        "\n",
        "\n",
        "\n",
        "*   Importing Dataset and libraries\n",
        "*   Exploratory Data Analysis\n",
        "*   Data Preprocessing\n",
        "*   Outlier Treatment\n",
        "*   Dealing with inconsistent labels\n",
        "*   Splitting data into train and test sets\n",
        "*   Encoding Categorical variables\n",
        "*   Splitting Training Set\n",
        "*   Treating Class Imbalance with SMOTE \n",
        "*   Scaling the data\n",
        "*   Feature Selection\n",
        "*   Building Machine Learning Models\n",
        "*   Performance on Test Data\n",
        "*   Conclusion\n",
        "\n",
        "\n",
        "\n",
        "---\n",
        "\n",
        "\n",
        "\n",
        "\n"
      ],
      "metadata": {
        "id": "co7Z0MGBQHhp"
      }
    },
    {
      "cell_type": "markdown",
      "source": [
        "##Importing necessary libraries and data"
      ],
      "metadata": {
        "id": "M0nFQorZqfIF"
      }
    },
    {
      "cell_type": "code",
      "execution_count": 21,
      "metadata": {
        "id": "gY_soFOPo7S3"
      },
      "outputs": [],
      "source": [
        "import pandas as pd\n",
        "import numpy as np\n",
        "import matplotlib.pyplot as plt\n",
        "import seaborn as sns"
      ]
    },
    {
      "cell_type": "code",
      "source": [
        "from tqdm.notebook import tqdm, trange\n",
        "import warnings\n",
        "warnings.filterwarnings(\"ignore\")"
      ],
      "metadata": {
        "id": "gYnUAhZoqVE9"
      },
      "execution_count": 22,
      "outputs": []
    },
    {
      "cell_type": "code",
      "source": [
        "from sklearn.preprocessing import LabelEncoder, StandardScaler\n",
        "from sklearn.model_selection import train_test_split\n",
        "from imblearn.over_sampling import SMOTE\n",
        "from sklearn.feature_selection import SelectKBest, mutual_info_classif"
      ],
      "metadata": {
        "id": "Pgxqt_OAU1vi"
      },
      "execution_count": 112,
      "outputs": []
    },
    {
      "cell_type": "code",
      "source": [
        "data = pd.read_csv(\"train.csv\")\n",
        "data.head()"
      ],
      "metadata": {
        "colab": {
          "base_uri": "https://localhost:8080/",
          "height": 352
        },
        "id": "pu2cHokBqcCo",
        "outputId": "e7fa3cb8-260a-4a2d-e29c-204e2183bea6"
      },
      "execution_count": 24,
      "outputs": [
        {
          "output_type": "execute_result",
          "data": {
            "text/plain": [
              "         ID  Loan Amount  Funded Amount  Funded Amount Investor  Term  \\\n",
              "0  65087372        10000          32236             12329.36286    59   \n",
              "1   1450153         3609          11940             12191.99692    59   \n",
              "2   1969101        28276           9311             21603.22455    59   \n",
              "3   6651430        11170           6954             17877.15585    59   \n",
              "4  14354669        16890          13226             13539.92667    59   \n",
              "\n",
              "  Batch Enrolled  Interest Rate Grade Sub Grade Employment Duration  ...  \\\n",
              "0     BAT2522922      11.135007     B        C4            MORTGAGE  ...   \n",
              "1     BAT1586599      12.237563     C        D3                RENT  ...   \n",
              "2     BAT2136391      12.545884     F        D4            MORTGAGE  ...   \n",
              "3     BAT2428731      16.731201     C        C3            MORTGAGE  ...   \n",
              "4     BAT5341619      15.008300     C        D4            MORTGAGE  ...   \n",
              "\n",
              "    Recoveries Collection Recovery Fee Collection 12 months Medical  \\\n",
              "0     2.498291                0.793724                            0   \n",
              "1     2.377215                0.974821                            0   \n",
              "2     4.316277                1.020075                            0   \n",
              "3     0.107020                0.749971                            0   \n",
              "4  1294.818751                0.368953                            0   \n",
              "\n",
              "  Application Type  Last week Pay  Accounts Delinquent  \\\n",
              "0       INDIVIDUAL             49                    0   \n",
              "1       INDIVIDUAL            109                    0   \n",
              "2       INDIVIDUAL             66                    0   \n",
              "3       INDIVIDUAL             39                    0   \n",
              "4       INDIVIDUAL             18                    0   \n",
              "\n",
              "   Total Collection Amount  Total Current Balance  \\\n",
              "0                       31                 311301   \n",
              "1                       53                 182610   \n",
              "2                       34                  89801   \n",
              "3                       40                   9189   \n",
              "4                      430                 126029   \n",
              "\n",
              "   Total Revolving Credit Limit  Loan Status  \n",
              "0                          6619            0  \n",
              "1                         20885            0  \n",
              "2                         26155            0  \n",
              "3                         60214            0  \n",
              "4                         22579            0  \n",
              "\n",
              "[5 rows x 35 columns]"
            ],
            "text/html": [
              "\n",
              "  <div id=\"df-e354506b-9f56-45fd-99c2-0e2d9b84d687\">\n",
              "    <div class=\"colab-df-container\">\n",
              "      <div>\n",
              "<style scoped>\n",
              "    .dataframe tbody tr th:only-of-type {\n",
              "        vertical-align: middle;\n",
              "    }\n",
              "\n",
              "    .dataframe tbody tr th {\n",
              "        vertical-align: top;\n",
              "    }\n",
              "\n",
              "    .dataframe thead th {\n",
              "        text-align: right;\n",
              "    }\n",
              "</style>\n",
              "<table border=\"1\" class=\"dataframe\">\n",
              "  <thead>\n",
              "    <tr style=\"text-align: right;\">\n",
              "      <th></th>\n",
              "      <th>ID</th>\n",
              "      <th>Loan Amount</th>\n",
              "      <th>Funded Amount</th>\n",
              "      <th>Funded Amount Investor</th>\n",
              "      <th>Term</th>\n",
              "      <th>Batch Enrolled</th>\n",
              "      <th>Interest Rate</th>\n",
              "      <th>Grade</th>\n",
              "      <th>Sub Grade</th>\n",
              "      <th>Employment Duration</th>\n",
              "      <th>...</th>\n",
              "      <th>Recoveries</th>\n",
              "      <th>Collection Recovery Fee</th>\n",
              "      <th>Collection 12 months Medical</th>\n",
              "      <th>Application Type</th>\n",
              "      <th>Last week Pay</th>\n",
              "      <th>Accounts Delinquent</th>\n",
              "      <th>Total Collection Amount</th>\n",
              "      <th>Total Current Balance</th>\n",
              "      <th>Total Revolving Credit Limit</th>\n",
              "      <th>Loan Status</th>\n",
              "    </tr>\n",
              "  </thead>\n",
              "  <tbody>\n",
              "    <tr>\n",
              "      <th>0</th>\n",
              "      <td>65087372</td>\n",
              "      <td>10000</td>\n",
              "      <td>32236</td>\n",
              "      <td>12329.36286</td>\n",
              "      <td>59</td>\n",
              "      <td>BAT2522922</td>\n",
              "      <td>11.135007</td>\n",
              "      <td>B</td>\n",
              "      <td>C4</td>\n",
              "      <td>MORTGAGE</td>\n",
              "      <td>...</td>\n",
              "      <td>2.498291</td>\n",
              "      <td>0.793724</td>\n",
              "      <td>0</td>\n",
              "      <td>INDIVIDUAL</td>\n",
              "      <td>49</td>\n",
              "      <td>0</td>\n",
              "      <td>31</td>\n",
              "      <td>311301</td>\n",
              "      <td>6619</td>\n",
              "      <td>0</td>\n",
              "    </tr>\n",
              "    <tr>\n",
              "      <th>1</th>\n",
              "      <td>1450153</td>\n",
              "      <td>3609</td>\n",
              "      <td>11940</td>\n",
              "      <td>12191.99692</td>\n",
              "      <td>59</td>\n",
              "      <td>BAT1586599</td>\n",
              "      <td>12.237563</td>\n",
              "      <td>C</td>\n",
              "      <td>D3</td>\n",
              "      <td>RENT</td>\n",
              "      <td>...</td>\n",
              "      <td>2.377215</td>\n",
              "      <td>0.974821</td>\n",
              "      <td>0</td>\n",
              "      <td>INDIVIDUAL</td>\n",
              "      <td>109</td>\n",
              "      <td>0</td>\n",
              "      <td>53</td>\n",
              "      <td>182610</td>\n",
              "      <td>20885</td>\n",
              "      <td>0</td>\n",
              "    </tr>\n",
              "    <tr>\n",
              "      <th>2</th>\n",
              "      <td>1969101</td>\n",
              "      <td>28276</td>\n",
              "      <td>9311</td>\n",
              "      <td>21603.22455</td>\n",
              "      <td>59</td>\n",
              "      <td>BAT2136391</td>\n",
              "      <td>12.545884</td>\n",
              "      <td>F</td>\n",
              "      <td>D4</td>\n",
              "      <td>MORTGAGE</td>\n",
              "      <td>...</td>\n",
              "      <td>4.316277</td>\n",
              "      <td>1.020075</td>\n",
              "      <td>0</td>\n",
              "      <td>INDIVIDUAL</td>\n",
              "      <td>66</td>\n",
              "      <td>0</td>\n",
              "      <td>34</td>\n",
              "      <td>89801</td>\n",
              "      <td>26155</td>\n",
              "      <td>0</td>\n",
              "    </tr>\n",
              "    <tr>\n",
              "      <th>3</th>\n",
              "      <td>6651430</td>\n",
              "      <td>11170</td>\n",
              "      <td>6954</td>\n",
              "      <td>17877.15585</td>\n",
              "      <td>59</td>\n",
              "      <td>BAT2428731</td>\n",
              "      <td>16.731201</td>\n",
              "      <td>C</td>\n",
              "      <td>C3</td>\n",
              "      <td>MORTGAGE</td>\n",
              "      <td>...</td>\n",
              "      <td>0.107020</td>\n",
              "      <td>0.749971</td>\n",
              "      <td>0</td>\n",
              "      <td>INDIVIDUAL</td>\n",
              "      <td>39</td>\n",
              "      <td>0</td>\n",
              "      <td>40</td>\n",
              "      <td>9189</td>\n",
              "      <td>60214</td>\n",
              "      <td>0</td>\n",
              "    </tr>\n",
              "    <tr>\n",
              "      <th>4</th>\n",
              "      <td>14354669</td>\n",
              "      <td>16890</td>\n",
              "      <td>13226</td>\n",
              "      <td>13539.92667</td>\n",
              "      <td>59</td>\n",
              "      <td>BAT5341619</td>\n",
              "      <td>15.008300</td>\n",
              "      <td>C</td>\n",
              "      <td>D4</td>\n",
              "      <td>MORTGAGE</td>\n",
              "      <td>...</td>\n",
              "      <td>1294.818751</td>\n",
              "      <td>0.368953</td>\n",
              "      <td>0</td>\n",
              "      <td>INDIVIDUAL</td>\n",
              "      <td>18</td>\n",
              "      <td>0</td>\n",
              "      <td>430</td>\n",
              "      <td>126029</td>\n",
              "      <td>22579</td>\n",
              "      <td>0</td>\n",
              "    </tr>\n",
              "  </tbody>\n",
              "</table>\n",
              "<p>5 rows × 35 columns</p>\n",
              "</div>\n",
              "      <button class=\"colab-df-convert\" onclick=\"convertToInteractive('df-e354506b-9f56-45fd-99c2-0e2d9b84d687')\"\n",
              "              title=\"Convert this dataframe to an interactive table.\"\n",
              "              style=\"display:none;\">\n",
              "        \n",
              "  <svg xmlns=\"http://www.w3.org/2000/svg\" height=\"24px\"viewBox=\"0 0 24 24\"\n",
              "       width=\"24px\">\n",
              "    <path d=\"M0 0h24v24H0V0z\" fill=\"none\"/>\n",
              "    <path d=\"M18.56 5.44l.94 2.06.94-2.06 2.06-.94-2.06-.94-.94-2.06-.94 2.06-2.06.94zm-11 1L8.5 8.5l.94-2.06 2.06-.94-2.06-.94L8.5 2.5l-.94 2.06-2.06.94zm10 10l.94 2.06.94-2.06 2.06-.94-2.06-.94-.94-2.06-.94 2.06-2.06.94z\"/><path d=\"M17.41 7.96l-1.37-1.37c-.4-.4-.92-.59-1.43-.59-.52 0-1.04.2-1.43.59L10.3 9.45l-7.72 7.72c-.78.78-.78 2.05 0 2.83L4 21.41c.39.39.9.59 1.41.59.51 0 1.02-.2 1.41-.59l7.78-7.78 2.81-2.81c.8-.78.8-2.07 0-2.86zM5.41 20L4 18.59l7.72-7.72 1.47 1.35L5.41 20z\"/>\n",
              "  </svg>\n",
              "      </button>\n",
              "      \n",
              "  <style>\n",
              "    .colab-df-container {\n",
              "      display:flex;\n",
              "      flex-wrap:wrap;\n",
              "      gap: 12px;\n",
              "    }\n",
              "\n",
              "    .colab-df-convert {\n",
              "      background-color: #E8F0FE;\n",
              "      border: none;\n",
              "      border-radius: 50%;\n",
              "      cursor: pointer;\n",
              "      display: none;\n",
              "      fill: #1967D2;\n",
              "      height: 32px;\n",
              "      padding: 0 0 0 0;\n",
              "      width: 32px;\n",
              "    }\n",
              "\n",
              "    .colab-df-convert:hover {\n",
              "      background-color: #E2EBFA;\n",
              "      box-shadow: 0px 1px 2px rgba(60, 64, 67, 0.3), 0px 1px 3px 1px rgba(60, 64, 67, 0.15);\n",
              "      fill: #174EA6;\n",
              "    }\n",
              "\n",
              "    [theme=dark] .colab-df-convert {\n",
              "      background-color: #3B4455;\n",
              "      fill: #D2E3FC;\n",
              "    }\n",
              "\n",
              "    [theme=dark] .colab-df-convert:hover {\n",
              "      background-color: #434B5C;\n",
              "      box-shadow: 0px 1px 3px 1px rgba(0, 0, 0, 0.15);\n",
              "      filter: drop-shadow(0px 1px 2px rgba(0, 0, 0, 0.3));\n",
              "      fill: #FFFFFF;\n",
              "    }\n",
              "  </style>\n",
              "\n",
              "      <script>\n",
              "        const buttonEl =\n",
              "          document.querySelector('#df-e354506b-9f56-45fd-99c2-0e2d9b84d687 button.colab-df-convert');\n",
              "        buttonEl.style.display =\n",
              "          google.colab.kernel.accessAllowed ? 'block' : 'none';\n",
              "\n",
              "        async function convertToInteractive(key) {\n",
              "          const element = document.querySelector('#df-e354506b-9f56-45fd-99c2-0e2d9b84d687');\n",
              "          const dataTable =\n",
              "            await google.colab.kernel.invokeFunction('convertToInteractive',\n",
              "                                                     [key], {});\n",
              "          if (!dataTable) return;\n",
              "\n",
              "          const docLinkHtml = 'Like what you see? Visit the ' +\n",
              "            '<a target=\"_blank\" href=https://colab.research.google.com/notebooks/data_table.ipynb>data table notebook</a>'\n",
              "            + ' to learn more about interactive tables.';\n",
              "          element.innerHTML = '';\n",
              "          dataTable['output_type'] = 'display_data';\n",
              "          await google.colab.output.renderOutput(dataTable, element);\n",
              "          const docLink = document.createElement('div');\n",
              "          docLink.innerHTML = docLinkHtml;\n",
              "          element.appendChild(docLink);\n",
              "        }\n",
              "      </script>\n",
              "    </div>\n",
              "  </div>\n",
              "  "
            ]
          },
          "metadata": {},
          "execution_count": 24
        }
      ]
    },
    {
      "cell_type": "markdown",
      "source": [
        "##Exploratory Data Analysis"
      ],
      "metadata": {
        "id": "NJHD8TA3q6QH"
      }
    },
    {
      "cell_type": "markdown",
      "source": [
        "###Exploring some of the columns of interest"
      ],
      "metadata": {
        "id": "c0QeClTLr95e"
      }
    },
    {
      "cell_type": "code",
      "source": [
        "dtypesdf = pd.DataFrame(data.dtypes).reset_index()\n",
        "dtypesdf.sort_values(by=\"index\")"
      ],
      "metadata": {
        "colab": {
          "base_uri": "https://localhost:8080/",
          "height": 1000
        },
        "id": "ZRl2bZv_qvS8",
        "outputId": "d71bc9db-6f24-4866-e208-ee9e97b87158"
      },
      "execution_count": 25,
      "outputs": [
        {
          "output_type": "execute_result",
          "data": {
            "text/plain": [
              "                           index        0\n",
              "30           Accounts Delinquent    int64\n",
              "28              Application Type   object\n",
              "5                 Batch Enrolled   object\n",
              "27  Collection 12 months Medical    int64\n",
              "26       Collection Recovery Fee  float64\n",
              "14               Debit to Income  float64\n",
              "15       Delinquency - two years    int64\n",
              "9            Employment Duration   object\n",
              "2                  Funded Amount    int64\n",
              "3         Funded Amount Investor  float64\n",
              "7                          Grade   object\n",
              "10                Home Ownership  float64\n",
              "0                             ID    int64\n",
              "22           Initial List Status   object\n",
              "16         Inquires - six months    int64\n",
              "6                  Interest Rate  float64\n",
              "29                 Last week Pay    int64\n",
              "1                    Loan Amount    int64\n",
              "34                   Loan Status    int64\n",
              "13                    Loan Title   object\n",
              "17                  Open Account    int64\n",
              "12                  Payment Plan   object\n",
              "18                 Public Record    int64\n",
              "25                    Recoveries  float64\n",
              "19             Revolving Balance    int64\n",
              "20           Revolving Utilities  float64\n",
              "8                      Sub Grade   object\n",
              "4                           Term    int64\n",
              "21                Total Accounts    int64\n",
              "31       Total Collection Amount    int64\n",
              "32         Total Current Balance    int64\n",
              "23       Total Received Interest  float64\n",
              "24       Total Received Late Fee  float64\n",
              "33  Total Revolving Credit Limit    int64\n",
              "11           Verification Status   object"
            ],
            "text/html": [
              "\n",
              "  <div id=\"df-8b9470c2-2e93-46ef-8877-0fbd0a3f29b1\">\n",
              "    <div class=\"colab-df-container\">\n",
              "      <div>\n",
              "<style scoped>\n",
              "    .dataframe tbody tr th:only-of-type {\n",
              "        vertical-align: middle;\n",
              "    }\n",
              "\n",
              "    .dataframe tbody tr th {\n",
              "        vertical-align: top;\n",
              "    }\n",
              "\n",
              "    .dataframe thead th {\n",
              "        text-align: right;\n",
              "    }\n",
              "</style>\n",
              "<table border=\"1\" class=\"dataframe\">\n",
              "  <thead>\n",
              "    <tr style=\"text-align: right;\">\n",
              "      <th></th>\n",
              "      <th>index</th>\n",
              "      <th>0</th>\n",
              "    </tr>\n",
              "  </thead>\n",
              "  <tbody>\n",
              "    <tr>\n",
              "      <th>30</th>\n",
              "      <td>Accounts Delinquent</td>\n",
              "      <td>int64</td>\n",
              "    </tr>\n",
              "    <tr>\n",
              "      <th>28</th>\n",
              "      <td>Application Type</td>\n",
              "      <td>object</td>\n",
              "    </tr>\n",
              "    <tr>\n",
              "      <th>5</th>\n",
              "      <td>Batch Enrolled</td>\n",
              "      <td>object</td>\n",
              "    </tr>\n",
              "    <tr>\n",
              "      <th>27</th>\n",
              "      <td>Collection 12 months Medical</td>\n",
              "      <td>int64</td>\n",
              "    </tr>\n",
              "    <tr>\n",
              "      <th>26</th>\n",
              "      <td>Collection Recovery Fee</td>\n",
              "      <td>float64</td>\n",
              "    </tr>\n",
              "    <tr>\n",
              "      <th>14</th>\n",
              "      <td>Debit to Income</td>\n",
              "      <td>float64</td>\n",
              "    </tr>\n",
              "    <tr>\n",
              "      <th>15</th>\n",
              "      <td>Delinquency - two years</td>\n",
              "      <td>int64</td>\n",
              "    </tr>\n",
              "    <tr>\n",
              "      <th>9</th>\n",
              "      <td>Employment Duration</td>\n",
              "      <td>object</td>\n",
              "    </tr>\n",
              "    <tr>\n",
              "      <th>2</th>\n",
              "      <td>Funded Amount</td>\n",
              "      <td>int64</td>\n",
              "    </tr>\n",
              "    <tr>\n",
              "      <th>3</th>\n",
              "      <td>Funded Amount Investor</td>\n",
              "      <td>float64</td>\n",
              "    </tr>\n",
              "    <tr>\n",
              "      <th>7</th>\n",
              "      <td>Grade</td>\n",
              "      <td>object</td>\n",
              "    </tr>\n",
              "    <tr>\n",
              "      <th>10</th>\n",
              "      <td>Home Ownership</td>\n",
              "      <td>float64</td>\n",
              "    </tr>\n",
              "    <tr>\n",
              "      <th>0</th>\n",
              "      <td>ID</td>\n",
              "      <td>int64</td>\n",
              "    </tr>\n",
              "    <tr>\n",
              "      <th>22</th>\n",
              "      <td>Initial List Status</td>\n",
              "      <td>object</td>\n",
              "    </tr>\n",
              "    <tr>\n",
              "      <th>16</th>\n",
              "      <td>Inquires - six months</td>\n",
              "      <td>int64</td>\n",
              "    </tr>\n",
              "    <tr>\n",
              "      <th>6</th>\n",
              "      <td>Interest Rate</td>\n",
              "      <td>float64</td>\n",
              "    </tr>\n",
              "    <tr>\n",
              "      <th>29</th>\n",
              "      <td>Last week Pay</td>\n",
              "      <td>int64</td>\n",
              "    </tr>\n",
              "    <tr>\n",
              "      <th>1</th>\n",
              "      <td>Loan Amount</td>\n",
              "      <td>int64</td>\n",
              "    </tr>\n",
              "    <tr>\n",
              "      <th>34</th>\n",
              "      <td>Loan Status</td>\n",
              "      <td>int64</td>\n",
              "    </tr>\n",
              "    <tr>\n",
              "      <th>13</th>\n",
              "      <td>Loan Title</td>\n",
              "      <td>object</td>\n",
              "    </tr>\n",
              "    <tr>\n",
              "      <th>17</th>\n",
              "      <td>Open Account</td>\n",
              "      <td>int64</td>\n",
              "    </tr>\n",
              "    <tr>\n",
              "      <th>12</th>\n",
              "      <td>Payment Plan</td>\n",
              "      <td>object</td>\n",
              "    </tr>\n",
              "    <tr>\n",
              "      <th>18</th>\n",
              "      <td>Public Record</td>\n",
              "      <td>int64</td>\n",
              "    </tr>\n",
              "    <tr>\n",
              "      <th>25</th>\n",
              "      <td>Recoveries</td>\n",
              "      <td>float64</td>\n",
              "    </tr>\n",
              "    <tr>\n",
              "      <th>19</th>\n",
              "      <td>Revolving Balance</td>\n",
              "      <td>int64</td>\n",
              "    </tr>\n",
              "    <tr>\n",
              "      <th>20</th>\n",
              "      <td>Revolving Utilities</td>\n",
              "      <td>float64</td>\n",
              "    </tr>\n",
              "    <tr>\n",
              "      <th>8</th>\n",
              "      <td>Sub Grade</td>\n",
              "      <td>object</td>\n",
              "    </tr>\n",
              "    <tr>\n",
              "      <th>4</th>\n",
              "      <td>Term</td>\n",
              "      <td>int64</td>\n",
              "    </tr>\n",
              "    <tr>\n",
              "      <th>21</th>\n",
              "      <td>Total Accounts</td>\n",
              "      <td>int64</td>\n",
              "    </tr>\n",
              "    <tr>\n",
              "      <th>31</th>\n",
              "      <td>Total Collection Amount</td>\n",
              "      <td>int64</td>\n",
              "    </tr>\n",
              "    <tr>\n",
              "      <th>32</th>\n",
              "      <td>Total Current Balance</td>\n",
              "      <td>int64</td>\n",
              "    </tr>\n",
              "    <tr>\n",
              "      <th>23</th>\n",
              "      <td>Total Received Interest</td>\n",
              "      <td>float64</td>\n",
              "    </tr>\n",
              "    <tr>\n",
              "      <th>24</th>\n",
              "      <td>Total Received Late Fee</td>\n",
              "      <td>float64</td>\n",
              "    </tr>\n",
              "    <tr>\n",
              "      <th>33</th>\n",
              "      <td>Total Revolving Credit Limit</td>\n",
              "      <td>int64</td>\n",
              "    </tr>\n",
              "    <tr>\n",
              "      <th>11</th>\n",
              "      <td>Verification Status</td>\n",
              "      <td>object</td>\n",
              "    </tr>\n",
              "  </tbody>\n",
              "</table>\n",
              "</div>\n",
              "      <button class=\"colab-df-convert\" onclick=\"convertToInteractive('df-8b9470c2-2e93-46ef-8877-0fbd0a3f29b1')\"\n",
              "              title=\"Convert this dataframe to an interactive table.\"\n",
              "              style=\"display:none;\">\n",
              "        \n",
              "  <svg xmlns=\"http://www.w3.org/2000/svg\" height=\"24px\"viewBox=\"0 0 24 24\"\n",
              "       width=\"24px\">\n",
              "    <path d=\"M0 0h24v24H0V0z\" fill=\"none\"/>\n",
              "    <path d=\"M18.56 5.44l.94 2.06.94-2.06 2.06-.94-2.06-.94-.94-2.06-.94 2.06-2.06.94zm-11 1L8.5 8.5l.94-2.06 2.06-.94-2.06-.94L8.5 2.5l-.94 2.06-2.06.94zm10 10l.94 2.06.94-2.06 2.06-.94-2.06-.94-.94-2.06-.94 2.06-2.06.94z\"/><path d=\"M17.41 7.96l-1.37-1.37c-.4-.4-.92-.59-1.43-.59-.52 0-1.04.2-1.43.59L10.3 9.45l-7.72 7.72c-.78.78-.78 2.05 0 2.83L4 21.41c.39.39.9.59 1.41.59.51 0 1.02-.2 1.41-.59l7.78-7.78 2.81-2.81c.8-.78.8-2.07 0-2.86zM5.41 20L4 18.59l7.72-7.72 1.47 1.35L5.41 20z\"/>\n",
              "  </svg>\n",
              "      </button>\n",
              "      \n",
              "  <style>\n",
              "    .colab-df-container {\n",
              "      display:flex;\n",
              "      flex-wrap:wrap;\n",
              "      gap: 12px;\n",
              "    }\n",
              "\n",
              "    .colab-df-convert {\n",
              "      background-color: #E8F0FE;\n",
              "      border: none;\n",
              "      border-radius: 50%;\n",
              "      cursor: pointer;\n",
              "      display: none;\n",
              "      fill: #1967D2;\n",
              "      height: 32px;\n",
              "      padding: 0 0 0 0;\n",
              "      width: 32px;\n",
              "    }\n",
              "\n",
              "    .colab-df-convert:hover {\n",
              "      background-color: #E2EBFA;\n",
              "      box-shadow: 0px 1px 2px rgba(60, 64, 67, 0.3), 0px 1px 3px 1px rgba(60, 64, 67, 0.15);\n",
              "      fill: #174EA6;\n",
              "    }\n",
              "\n",
              "    [theme=dark] .colab-df-convert {\n",
              "      background-color: #3B4455;\n",
              "      fill: #D2E3FC;\n",
              "    }\n",
              "\n",
              "    [theme=dark] .colab-df-convert:hover {\n",
              "      background-color: #434B5C;\n",
              "      box-shadow: 0px 1px 3px 1px rgba(0, 0, 0, 0.15);\n",
              "      filter: drop-shadow(0px 1px 2px rgba(0, 0, 0, 0.3));\n",
              "      fill: #FFFFFF;\n",
              "    }\n",
              "  </style>\n",
              "\n",
              "      <script>\n",
              "        const buttonEl =\n",
              "          document.querySelector('#df-8b9470c2-2e93-46ef-8877-0fbd0a3f29b1 button.colab-df-convert');\n",
              "        buttonEl.style.display =\n",
              "          google.colab.kernel.accessAllowed ? 'block' : 'none';\n",
              "\n",
              "        async function convertToInteractive(key) {\n",
              "          const element = document.querySelector('#df-8b9470c2-2e93-46ef-8877-0fbd0a3f29b1');\n",
              "          const dataTable =\n",
              "            await google.colab.kernel.invokeFunction('convertToInteractive',\n",
              "                                                     [key], {});\n",
              "          if (!dataTable) return;\n",
              "\n",
              "          const docLinkHtml = 'Like what you see? Visit the ' +\n",
              "            '<a target=\"_blank\" href=https://colab.research.google.com/notebooks/data_table.ipynb>data table notebook</a>'\n",
              "            + ' to learn more about interactive tables.';\n",
              "          element.innerHTML = '';\n",
              "          dataTable['output_type'] = 'display_data';\n",
              "          await google.colab.output.renderOutput(dataTable, element);\n",
              "          const docLink = document.createElement('div');\n",
              "          docLink.innerHTML = docLinkHtml;\n",
              "          element.appendChild(docLink);\n",
              "        }\n",
              "      </script>\n",
              "    </div>\n",
              "  </div>\n",
              "  "
            ]
          },
          "metadata": {},
          "execution_count": 25
        }
      ]
    },
    {
      "cell_type": "code",
      "source": [
        "num_cols = dtypesdf.loc[dtypesdf[0]!=object]\n",
        "numdata = data[list(num_cols['index'])]"
      ],
      "metadata": {
        "id": "tEBzWVZBswR_"
      },
      "execution_count": 26,
      "outputs": []
    },
    {
      "cell_type": "code",
      "source": [
        "\n",
        "f, axes = plt.subplots(7, 4, figsize=(15,15))\n",
        "idx1, idx2 = 0, 0\n",
        "for column in numdata.columns:\n",
        "  row = idx1//4\n",
        "  col = idx1-row*4\n",
        "  axes[row,col].set_title(column, fontsize = '10')\n",
        "  sns.distplot(x=numdata[column], ax=axes[row][col])\n",
        "  idx1+=1\n",
        "  idx2 = (idx1//6) \n",
        "plt.tight_layout()"
      ],
      "metadata": {
        "colab": {
          "base_uri": "https://localhost:8080/",
          "height": 1000
        },
        "id": "bYgxIqJBsdB0",
        "outputId": "8b7632fe-eac3-43cc-f0a1-8fb46402e851"
      },
      "execution_count": 27,
      "outputs": [
        {
          "output_type": "display_data",
          "data": {
            "text/plain": [
              "<Figure size 1080x1080 with 28 Axes>"
            ],
            "image/png": "[encoded data removed]"
          },
          "metadata": {
            "needs_background": "light"
          }
        }
      ]
    },
    {
      "cell_type": "markdown",
      "source": [
        "######From the above plot we can conclude that features like Total \n",
        "\n",
        "*   Total Received Late Fee, Total Collection Amount, Collection Recovery Fee, Recoveries, Accounts Delinquent, Collection 12 months Medical do not contribute to the variance/information required for making prediction. They are either constants, highly imbalanced or vary within a very small range. \n",
        "\n",
        "*   We also conclude that the target variable is also imbalanced. \n",
        "\n"
      ],
      "metadata": {
        "id": "hRNKZQdk5NMD"
      }
    },
    {
      "cell_type": "code",
      "source": [
        "obj_cols = dtypesdf.loc[dtypesdf[0]==object]\n",
        "objdata = data[list(obj_cols['index'])]"
      ],
      "metadata": {
        "id": "cPhm0q8o6JeG"
      },
      "execution_count": 28,
      "outputs": []
    },
    {
      "cell_type": "code",
      "source": [
        "f, axes = plt.subplots(3, 3, figsize=(15,20))\n",
        "idx1, idx2 = 0, 0\n",
        "for column in objdata.columns:\n",
        "  if column==\"Loan Title\":\n",
        "    continue\n",
        "  row = idx1//3\n",
        "  col = idx1-row*3\n",
        "  axes[row,col].set_title(column, fontsize = '10')\n",
        "  sns.countplot(y=objdata[column], ax=axes[row][col])\n",
        "  idx1+=1\n",
        "plt.tight_layout()"
      ],
      "metadata": {
        "colab": {
          "base_uri": "https://localhost:8080/",
          "height": 1000
        },
        "id": "OOWsKgkh6iTx",
        "outputId": "b3d76e6f-b26a-40c1-a33e-e37ca2d1c191"
      },
      "execution_count": 29,
      "outputs": [
        {
          "output_type": "display_data",
          "data": {
            "text/plain": [
              "<Figure size 1080x1440 with 9 Axes>"
            ],
            "image/png": "[encoded data removed]"
          },
          "metadata": {
            "needs_background": "light"
          }
        }
      ]
    },
    {
      "cell_type": "markdown",
      "source": [
        "#####From the plots we can conclude:\n",
        "\n",
        "*   Loan titles is not quite understandable from the figure we need to inspect\n",
        "*   Payment Plan, Application Type have constant values thus they do not contribute to any additional information that might be useful for prediction \n",
        "\n"
      ],
      "metadata": {
        "id": "EGk2g49C7XA5"
      }
    },
    {
      "cell_type": "code",
      "source": [
        "plt.figure(figsize=(16,15))\n",
        "plt.yticks(rotation=15, fontsize=8)\n",
        "sns.countplot(y=objdata[\"Loan Title\"])"
      ],
      "metadata": {
        "colab": {
          "base_uri": "https://localhost:8080/",
          "height": 895
        },
        "id": "t1_xq4eLBwaE",
        "outputId": "5fac078a-83db-4ac1-885a-50875f15e5d3"
      },
      "execution_count": 30,
      "outputs": [
        {
          "output_type": "execute_result",
          "data": {
            "text/plain": [
              "<matplotlib.axes._subplots.AxesSubplot at 0x7fcfc5dfa8d0>"
            ]
          },
          "metadata": {},
          "execution_count": 30
        },
        {
          "output_type": "display_data",
          "data": {
            "text/plain": [
              "<Figure size 1152x1080 with 1 Axes>"
            ],
            "image/png": "[encoded data removed]"
          },
          "metadata": {
            "needs_background": "light"
          }
        }
      ]
    },
    {
      "cell_type": "code",
      "source": [
        "dfinsp1 = objdata.groupby(\"Loan Title\").agg(\"count\")[\"Grade\"].reset_index()\n",
        "dfinsp1"
      ],
      "metadata": {
        "colab": {
          "base_uri": "https://localhost:8080/",
          "height": 424
        },
        "id": "uTVeK4La7Tcv",
        "outputId": "1222af55-d2f2-43c3-d03e-6c92d28fc126"
      },
      "execution_count": 31,
      "outputs": [
        {
          "output_type": "execute_result",
          "data": {
            "text/plain": [
              "             Loan Title  Grade\n",
              "0              Bathroom     14\n",
              "1    Bill Consolidation     15\n",
              "2           Bill Payoff     12\n",
              "3              Business    183\n",
              "4                    CC      6\n",
              "..                  ...    ...\n",
              "104              payoff     50\n",
              "105            personal     26\n",
              "106                refi     25\n",
              "107              relief      9\n",
              "108            vacation     10\n",
              "\n",
              "[109 rows x 2 columns]"
            ],
            "text/html": [
              "\n",
              "  <div id=\"df-9c0dbafc-9f2e-4f5d-9207-3018e74660ac\">\n",
              "    <div class=\"colab-df-container\">\n",
              "      <div>\n",
              "<style scoped>\n",
              "    .dataframe tbody tr th:only-of-type {\n",
              "        vertical-align: middle;\n",
              "    }\n",
              "\n",
              "    .dataframe tbody tr th {\n",
              "        vertical-align: top;\n",
              "    }\n",
              "\n",
              "    .dataframe thead th {\n",
              "        text-align: right;\n",
              "    }\n",
              "</style>\n",
              "<table border=\"1\" class=\"dataframe\">\n",
              "  <thead>\n",
              "    <tr style=\"text-align: right;\">\n",
              "      <th></th>\n",
              "      <th>Loan Title</th>\n",
              "      <th>Grade</th>\n",
              "    </tr>\n",
              "  </thead>\n",
              "  <tbody>\n",
              "    <tr>\n",
              "      <th>0</th>\n",
              "      <td>Bathroom</td>\n",
              "      <td>14</td>\n",
              "    </tr>\n",
              "    <tr>\n",
              "      <th>1</th>\n",
              "      <td>Bill Consolidation</td>\n",
              "      <td>15</td>\n",
              "    </tr>\n",
              "    <tr>\n",
              "      <th>2</th>\n",
              "      <td>Bill Payoff</td>\n",
              "      <td>12</td>\n",
              "    </tr>\n",
              "    <tr>\n",
              "      <th>3</th>\n",
              "      <td>Business</td>\n",
              "      <td>183</td>\n",
              "    </tr>\n",
              "    <tr>\n",
              "      <th>4</th>\n",
              "      <td>CC</td>\n",
              "      <td>6</td>\n",
              "    </tr>\n",
              "    <tr>\n",
              "      <th>...</th>\n",
              "      <td>...</td>\n",
              "      <td>...</td>\n",
              "    </tr>\n",
              "    <tr>\n",
              "      <th>104</th>\n",
              "      <td>payoff</td>\n",
              "      <td>50</td>\n",
              "    </tr>\n",
              "    <tr>\n",
              "      <th>105</th>\n",
              "      <td>personal</td>\n",
              "      <td>26</td>\n",
              "    </tr>\n",
              "    <tr>\n",
              "      <th>106</th>\n",
              "      <td>refi</td>\n",
              "      <td>25</td>\n",
              "    </tr>\n",
              "    <tr>\n",
              "      <th>107</th>\n",
              "      <td>relief</td>\n",
              "      <td>9</td>\n",
              "    </tr>\n",
              "    <tr>\n",
              "      <th>108</th>\n",
              "      <td>vacation</td>\n",
              "      <td>10</td>\n",
              "    </tr>\n",
              "  </tbody>\n",
              "</table>\n",
              "<p>109 rows × 2 columns</p>\n",
              "</div>\n",
              "      <button class=\"colab-df-convert\" onclick=\"convertToInteractive('df-9c0dbafc-9f2e-4f5d-9207-3018e74660ac')\"\n",
              "              title=\"Convert this dataframe to an interactive table.\"\n",
              "              style=\"display:none;\">\n",
              "        \n",
              "  <svg xmlns=\"http://www.w3.org/2000/svg\" height=\"24px\"viewBox=\"0 0 24 24\"\n",
              "       width=\"24px\">\n",
              "    <path d=\"M0 0h24v24H0V0z\" fill=\"none\"/>\n",
              "    <path d=\"M18.56 5.44l.94 2.06.94-2.06 2.06-.94-2.06-.94-.94-2.06-.94 2.06-2.06.94zm-11 1L8.5 8.5l.94-2.06 2.06-.94-2.06-.94L8.5 2.5l-.94 2.06-2.06.94zm10 10l.94 2.06.94-2.06 2.06-.94-2.06-.94-.94-2.06-.94 2.06-2.06.94z\"/><path d=\"M17.41 7.96l-1.37-1.37c-.4-.4-.92-.59-1.43-.59-.52 0-1.04.2-1.43.59L10.3 9.45l-7.72 7.72c-.78.78-.78 2.05 0 2.83L4 21.41c.39.39.9.59 1.41.59.51 0 1.02-.2 1.41-.59l7.78-7.78 2.81-2.81c.8-.78.8-2.07 0-2.86zM5.41 20L4 18.59l7.72-7.72 1.47 1.35L5.41 20z\"/>\n",
              "  </svg>\n",
              "      </button>\n",
              "      \n",
              "  <style>\n",
              "    .colab-df-container {\n",
              "      display:flex;\n",
              "      flex-wrap:wrap;\n",
              "      gap: 12px;\n",
              "    }\n",
              "\n",
              "    .colab-df-convert {\n",
              "      background-color: #E8F0FE;\n",
              "      border: none;\n",
              "      border-radius: 50%;\n",
              "      cursor: pointer;\n",
              "      display: none;\n",
              "      fill: #1967D2;\n",
              "      height: 32px;\n",
              "      padding: 0 0 0 0;\n",
              "      width: 32px;\n",
              "    }\n",
              "\n",
              "    .colab-df-convert:hover {\n",
              "      background-color: #E2EBFA;\n",
              "      box-shadow: 0px 1px 2px rgba(60, 64, 67, 0.3), 0px 1px 3px 1px rgba(60, 64, 67, 0.15);\n",
              "      fill: #174EA6;\n",
              "    }\n",
              "\n",
              "    [theme=dark] .colab-df-convert {\n",
              "      background-color: #3B4455;\n",
              "      fill: #D2E3FC;\n",
              "    }\n",
              "\n",
              "    [theme=dark] .colab-df-convert:hover {\n",
              "      background-color: #434B5C;\n",
              "      box-shadow: 0px 1px 3px 1px rgba(0, 0, 0, 0.15);\n",
              "      filter: drop-shadow(0px 1px 2px rgba(0, 0, 0, 0.3));\n",
              "      fill: #FFFFFF;\n",
              "    }\n",
              "  </style>\n",
              "\n",
              "      <script>\n",
              "        const buttonEl =\n",
              "          document.querySelector('#df-9c0dbafc-9f2e-4f5d-9207-3018e74660ac button.colab-df-convert');\n",
              "        buttonEl.style.display =\n",
              "          google.colab.kernel.accessAllowed ? 'block' : 'none';\n",
              "\n",
              "        async function convertToInteractive(key) {\n",
              "          const element = document.querySelector('#df-9c0dbafc-9f2e-4f5d-9207-3018e74660ac');\n",
              "          const dataTable =\n",
              "            await google.colab.kernel.invokeFunction('convertToInteractive',\n",
              "                                                     [key], {});\n",
              "          if (!dataTable) return;\n",
              "\n",
              "          const docLinkHtml = 'Like what you see? Visit the ' +\n",
              "            '<a target=\"_blank\" href=https://colab.research.google.com/notebooks/data_table.ipynb>data table notebook</a>'\n",
              "            + ' to learn more about interactive tables.';\n",
              "          element.innerHTML = '';\n",
              "          dataTable['output_type'] = 'display_data';\n",
              "          await google.colab.output.renderOutput(dataTable, element);\n",
              "          const docLink = document.createElement('div');\n",
              "          docLink.innerHTML = docLinkHtml;\n",
              "          element.appendChild(docLink);\n",
              "        }\n",
              "      </script>\n",
              "    </div>\n",
              "  </div>\n",
              "  "
            ]
          },
          "metadata": {},
          "execution_count": 31
        }
      ]
    },
    {
      "cell_type": "markdown",
      "source": [
        "#####Retaining Loan titles with atleast 25 available records"
      ],
      "metadata": {
        "id": "jasMN8_29wHb"
      }
    },
    {
      "cell_type": "code",
      "source": [
        "titlestokeep = dfinsp1.loc[dfinsp1[\"Grade\"]>25]"
      ],
      "metadata": {
        "id": "JIlvihMy8GwV"
      },
      "execution_count": 32,
      "outputs": []
    },
    {
      "cell_type": "code",
      "source": [
        "titlestokeep"
      ],
      "metadata": {
        "colab": {
          "base_uri": "https://localhost:8080/",
          "height": 1000
        },
        "id": "Ke25NcYM9Cu4",
        "outputId": "1d10f448-d41b-40df-b71d-0babae008b58"
      },
      "execution_count": 33,
      "outputs": [
        {
          "output_type": "execute_result",
          "data": {
            "text/plain": [
              "                    Loan Title  Grade\n",
              "3                     Business    183\n",
              "14               Car financing    135\n",
              "17                 Consolidate     55\n",
              "19               Consolidation     97\n",
              "20          Consolidation Loan     55\n",
              "22                 Credit Card     34\n",
              "23   Credit Card Consolidation     68\n",
              "24            Credit Card Debt     45\n",
              "25            Credit Card Loan     30\n",
              "27          Credit Card Payoff     35\n",
              "29       Credit Card Refinance     38\n",
              "32                Credit Cards     32\n",
              "36          Credit card payoff     32\n",
              "37       Credit card refinance     31\n",
              "38     Credit card refinancing  30728\n",
              "40          DEBT CONSOLIDATION     46\n",
              "41                        Debt     30\n",
              "42          Debt Consolidation   3544\n",
              "44     Debt Consolidation Loan     71\n",
              "49          Debt consolidation  24841\n",
              "52                     Freedom     45\n",
              "55                  Green loan     45\n",
              "57            Home Improvement     68\n",
              "59                 Home buying     94\n",
              "60            Home improvement   2211\n",
              "63                Lending Club     32\n",
              "65                        Loan     34\n",
              "69              Major purchase    487\n",
              "71            Medical expenses    237\n",
              "73       Moving and relocation    157\n",
              "75                       Other   2455\n",
              "77                      Payoff     33\n",
              "79               Personal Loan     78\n",
              "82                   Refinance     29\n",
              "84                    Vacation    114\n",
              "89                 consolidate     42\n",
              "90               consolidation     51\n",
              "91          consolidation loan     33\n",
              "97          debt consolidation    105\n",
              "104                     payoff     50\n",
              "105                   personal     26"
            ],
            "text/html": [
              "\n",
              "  <div id=\"df-2f213774-e638-4163-89d3-f08505c6ac98\">\n",
              "    <div class=\"colab-df-container\">\n",
              "      <div>\n",
              "<style scoped>\n",
              "    .dataframe tbody tr th:only-of-type {\n",
              "        vertical-align: middle;\n",
              "    }\n",
              "\n",
              "    .dataframe tbody tr th {\n",
              "        vertical-align: top;\n",
              "    }\n",
              "\n",
              "    .dataframe thead th {\n",
              "        text-align: right;\n",
              "    }\n",
              "</style>\n",
              "<table border=\"1\" class=\"dataframe\">\n",
              "  <thead>\n",
              "    <tr style=\"text-align: right;\">\n",
              "      <th></th>\n",
              "      <th>Loan Title</th>\n",
              "      <th>Grade</th>\n",
              "    </tr>\n",
              "  </thead>\n",
              "  <tbody>\n",
              "    <tr>\n",
              "      <th>3</th>\n",
              "      <td>Business</td>\n",
              "      <td>183</td>\n",
              "    </tr>\n",
              "    <tr>\n",
              "      <th>14</th>\n",
              "      <td>Car financing</td>\n",
              "      <td>135</td>\n",
              "    </tr>\n",
              "    <tr>\n",
              "      <th>17</th>\n",
              "      <td>Consolidate</td>\n",
              "      <td>55</td>\n",
              "    </tr>\n",
              "    <tr>\n",
              "      <th>19</th>\n",
              "      <td>Consolidation</td>\n",
              "      <td>97</td>\n",
              "    </tr>\n",
              "    <tr>\n",
              "      <th>20</th>\n",
              "      <td>Consolidation Loan</td>\n",
              "      <td>55</td>\n",
              "    </tr>\n",
              "    <tr>\n",
              "      <th>22</th>\n",
              "      <td>Credit Card</td>\n",
              "      <td>34</td>\n",
              "    </tr>\n",
              "    <tr>\n",
              "      <th>23</th>\n",
              "      <td>Credit Card Consolidation</td>\n",
              "      <td>68</td>\n",
              "    </tr>\n",
              "    <tr>\n",
              "      <th>24</th>\n",
              "      <td>Credit Card Debt</td>\n",
              "      <td>45</td>\n",
              "    </tr>\n",
              "    <tr>\n",
              "      <th>25</th>\n",
              "      <td>Credit Card Loan</td>\n",
              "      <td>30</td>\n",
              "    </tr>\n",
              "    <tr>\n",
              "      <th>27</th>\n",
              "      <td>Credit Card Payoff</td>\n",
              "      <td>35</td>\n",
              "    </tr>\n",
              "    <tr>\n",
              "      <th>29</th>\n",
              "      <td>Credit Card Refinance</td>\n",
              "      <td>38</td>\n",
              "    </tr>\n",
              "    <tr>\n",
              "      <th>32</th>\n",
              "      <td>Credit Cards</td>\n",
              "      <td>32</td>\n",
              "    </tr>\n",
              "    <tr>\n",
              "      <th>36</th>\n",
              "      <td>Credit card payoff</td>\n",
              "      <td>32</td>\n",
              "    </tr>\n",
              "    <tr>\n",
              "      <th>37</th>\n",
              "      <td>Credit card refinance</td>\n",
              "      <td>31</td>\n",
              "    </tr>\n",
              "    <tr>\n",
              "      <th>38</th>\n",
              "      <td>Credit card refinancing</td>\n",
              "      <td>30728</td>\n",
              "    </tr>\n",
              "    <tr>\n",
              "      <th>40</th>\n",
              "      <td>DEBT CONSOLIDATION</td>\n",
              "      <td>46</td>\n",
              "    </tr>\n",
              "    <tr>\n",
              "      <th>41</th>\n",
              "      <td>Debt</td>\n",
              "      <td>30</td>\n",
              "    </tr>\n",
              "    <tr>\n",
              "      <th>42</th>\n",
              "      <td>Debt Consolidation</td>\n",
              "      <td>3544</td>\n",
              "    </tr>\n",
              "    <tr>\n",
              "      <th>44</th>\n",
              "      <td>Debt Consolidation Loan</td>\n",
              "      <td>71</td>\n",
              "    </tr>\n",
              "    <tr>\n",
              "      <th>49</th>\n",
              "      <td>Debt consolidation</td>\n",
              "      <td>24841</td>\n",
              "    </tr>\n",
              "    <tr>\n",
              "      <th>52</th>\n",
              "      <td>Freedom</td>\n",
              "      <td>45</td>\n",
              "    </tr>\n",
              "    <tr>\n",
              "      <th>55</th>\n",
              "      <td>Green loan</td>\n",
              "      <td>45</td>\n",
              "    </tr>\n",
              "    <tr>\n",
              "      <th>57</th>\n",
              "      <td>Home Improvement</td>\n",
              "      <td>68</td>\n",
              "    </tr>\n",
              "    <tr>\n",
              "      <th>59</th>\n",
              "      <td>Home buying</td>\n",
              "      <td>94</td>\n",
              "    </tr>\n",
              "    <tr>\n",
              "      <th>60</th>\n",
              "      <td>Home improvement</td>\n",
              "      <td>2211</td>\n",
              "    </tr>\n",
              "    <tr>\n",
              "      <th>63</th>\n",
              "      <td>Lending Club</td>\n",
              "      <td>32</td>\n",
              "    </tr>\n",
              "    <tr>\n",
              "      <th>65</th>\n",
              "      <td>Loan</td>\n",
              "      <td>34</td>\n",
              "    </tr>\n",
              "    <tr>\n",
              "      <th>69</th>\n",
              "      <td>Major purchase</td>\n",
              "      <td>487</td>\n",
              "    </tr>\n",
              "    <tr>\n",
              "      <th>71</th>\n",
              "      <td>Medical expenses</td>\n",
              "      <td>237</td>\n",
              "    </tr>\n",
              "    <tr>\n",
              "      <th>73</th>\n",
              "      <td>Moving and relocation</td>\n",
              "      <td>157</td>\n",
              "    </tr>\n",
              "    <tr>\n",
              "      <th>75</th>\n",
              "      <td>Other</td>\n",
              "      <td>2455</td>\n",
              "    </tr>\n",
              "    <tr>\n",
              "      <th>77</th>\n",
              "      <td>Payoff</td>\n",
              "      <td>33</td>\n",
              "    </tr>\n",
              "    <tr>\n",
              "      <th>79</th>\n",
              "      <td>Personal Loan</td>\n",
              "      <td>78</td>\n",
              "    </tr>\n",
              "    <tr>\n",
              "      <th>82</th>\n",
              "      <td>Refinance</td>\n",
              "      <td>29</td>\n",
              "    </tr>\n",
              "    <tr>\n",
              "      <th>84</th>\n",
              "      <td>Vacation</td>\n",
              "      <td>114</td>\n",
              "    </tr>\n",
              "    <tr>\n",
              "      <th>89</th>\n",
              "      <td>consolidate</td>\n",
              "      <td>42</td>\n",
              "    </tr>\n",
              "    <tr>\n",
              "      <th>90</th>\n",
              "      <td>consolidation</td>\n",
              "      <td>51</td>\n",
              "    </tr>\n",
              "    <tr>\n",
              "      <th>91</th>\n",
              "      <td>consolidation loan</td>\n",
              "      <td>33</td>\n",
              "    </tr>\n",
              "    <tr>\n",
              "      <th>97</th>\n",
              "      <td>debt consolidation</td>\n",
              "      <td>105</td>\n",
              "    </tr>\n",
              "    <tr>\n",
              "      <th>104</th>\n",
              "      <td>payoff</td>\n",
              "      <td>50</td>\n",
              "    </tr>\n",
              "    <tr>\n",
              "      <th>105</th>\n",
              "      <td>personal</td>\n",
              "      <td>26</td>\n",
              "    </tr>\n",
              "  </tbody>\n",
              "</table>\n",
              "</div>\n",
              "      <button class=\"colab-df-convert\" onclick=\"convertToInteractive('df-2f213774-e638-4163-89d3-f08505c6ac98')\"\n",
              "              title=\"Convert this dataframe to an interactive table.\"\n",
              "              style=\"display:none;\">\n",
              "        \n",
              "  <svg xmlns=\"http://www.w3.org/2000/svg\" height=\"24px\"viewBox=\"0 0 24 24\"\n",
              "       width=\"24px\">\n",
              "    <path d=\"M0 0h24v24H0V0z\" fill=\"none\"/>\n",
              "    <path d=\"M18.56 5.44l.94 2.06.94-2.06 2.06-.94-2.06-.94-.94-2.06-.94 2.06-2.06.94zm-11 1L8.5 8.5l.94-2.06 2.06-.94-2.06-.94L8.5 2.5l-.94 2.06-2.06.94zm10 10l.94 2.06.94-2.06 2.06-.94-2.06-.94-.94-2.06-.94 2.06-2.06.94z\"/><path d=\"M17.41 7.96l-1.37-1.37c-.4-.4-.92-.59-1.43-.59-.52 0-1.04.2-1.43.59L10.3 9.45l-7.72 7.72c-.78.78-.78 2.05 0 2.83L4 21.41c.39.39.9.59 1.41.59.51 0 1.02-.2 1.41-.59l7.78-7.78 2.81-2.81c.8-.78.8-2.07 0-2.86zM5.41 20L4 18.59l7.72-7.72 1.47 1.35L5.41 20z\"/>\n",
              "  </svg>\n",
              "      </button>\n",
              "      \n",
              "  <style>\n",
              "    .colab-df-container {\n",
              "      display:flex;\n",
              "      flex-wrap:wrap;\n",
              "      gap: 12px;\n",
              "    }\n",
              "\n",
              "    .colab-df-convert {\n",
              "      background-color: #E8F0FE;\n",
              "      border: none;\n",
              "      border-radius: 50%;\n",
              "      cursor: pointer;\n",
              "      display: none;\n",
              "      fill: #1967D2;\n",
              "      height: 32px;\n",
              "      padding: 0 0 0 0;\n",
              "      width: 32px;\n",
              "    }\n",
              "\n",
              "    .colab-df-convert:hover {\n",
              "      background-color: #E2EBFA;\n",
              "      box-shadow: 0px 1px 2px rgba(60, 64, 67, 0.3), 0px 1px 3px 1px rgba(60, 64, 67, 0.15);\n",
              "      fill: #174EA6;\n",
              "    }\n",
              "\n",
              "    [theme=dark] .colab-df-convert {\n",
              "      background-color: #3B4455;\n",
              "      fill: #D2E3FC;\n",
              "    }\n",
              "\n",
              "    [theme=dark] .colab-df-convert:hover {\n",
              "      background-color: #434B5C;\n",
              "      box-shadow: 0px 1px 3px 1px rgba(0, 0, 0, 0.15);\n",
              "      filter: drop-shadow(0px 1px 2px rgba(0, 0, 0, 0.3));\n",
              "      fill: #FFFFFF;\n",
              "    }\n",
              "  </style>\n",
              "\n",
              "      <script>\n",
              "        const buttonEl =\n",
              "          document.querySelector('#df-2f213774-e638-4163-89d3-f08505c6ac98 button.colab-df-convert');\n",
              "        buttonEl.style.display =\n",
              "          google.colab.kernel.accessAllowed ? 'block' : 'none';\n",
              "\n",
              "        async function convertToInteractive(key) {\n",
              "          const element = document.querySelector('#df-2f213774-e638-4163-89d3-f08505c6ac98');\n",
              "          const dataTable =\n",
              "            await google.colab.kernel.invokeFunction('convertToInteractive',\n",
              "                                                     [key], {});\n",
              "          if (!dataTable) return;\n",
              "\n",
              "          const docLinkHtml = 'Like what you see? Visit the ' +\n",
              "            '<a target=\"_blank\" href=https://colab.research.google.com/notebooks/data_table.ipynb>data table notebook</a>'\n",
              "            + ' to learn more about interactive tables.';\n",
              "          element.innerHTML = '';\n",
              "          dataTable['output_type'] = 'display_data';\n",
              "          await google.colab.output.renderOutput(dataTable, element);\n",
              "          const docLink = document.createElement('div');\n",
              "          docLink.innerHTML = docLinkHtml;\n",
              "          element.appendChild(docLink);\n",
              "        }\n",
              "      </script>\n",
              "    </div>\n",
              "  </div>\n",
              "  "
            ]
          },
          "metadata": {},
          "execution_count": 33
        }
      ]
    },
    {
      "cell_type": "markdown",
      "source": [
        "####Let us check for available null values"
      ],
      "metadata": {
        "id": "F1lfl8-W_DcT"
      }
    },
    {
      "cell_type": "code",
      "source": [
        "data.isnull().mean()*100"
      ],
      "metadata": {
        "colab": {
          "base_uri": "https://localhost:8080/"
        },
        "id": "x9AngqW1_Cj3",
        "outputId": "13f91d39-8249-4f25-8843-9c7eb0ecdc24"
      },
      "execution_count": 34,
      "outputs": [
        {
          "output_type": "execute_result",
          "data": {
            "text/plain": [
              "ID                              0.0\n",
              "Loan Amount                     0.0\n",
              "Funded Amount                   0.0\n",
              "Funded Amount Investor          0.0\n",
              "Term                            0.0\n",
              "Batch Enrolled                  0.0\n",
              "Interest Rate                   0.0\n",
              "Grade                           0.0\n",
              "Sub Grade                       0.0\n",
              "Employment Duration             0.0\n",
              "Home Ownership                  0.0\n",
              "Verification Status             0.0\n",
              "Payment Plan                    0.0\n",
              "Loan Title                      0.0\n",
              "Debit to Income                 0.0\n",
              "Delinquency - two years         0.0\n",
              "Inquires - six months           0.0\n",
              "Open Account                    0.0\n",
              "Public Record                   0.0\n",
              "Revolving Balance               0.0\n",
              "Revolving Utilities             0.0\n",
              "Total Accounts                  0.0\n",
              "Initial List Status             0.0\n",
              "Total Received Interest         0.0\n",
              "Total Received Late Fee         0.0\n",
              "Recoveries                      0.0\n",
              "Collection Recovery Fee         0.0\n",
              "Collection 12 months Medical    0.0\n",
              "Application Type                0.0\n",
              "Last week Pay                   0.0\n",
              "Accounts Delinquent             0.0\n",
              "Total Collection Amount         0.0\n",
              "Total Current Balance           0.0\n",
              "Total Revolving Credit Limit    0.0\n",
              "Loan Status                     0.0\n",
              "dtype: float64"
            ]
          },
          "metadata": {},
          "execution_count": 34
        }
      ]
    },
    {
      "cell_type": "markdown",
      "source": [
        "####Let us also look for correlations between the numerical variables"
      ],
      "metadata": {
        "id": "Uk4KrMePOjQb"
      }
    },
    {
      "cell_type": "code",
      "source": [
        "plt.figure(figsize=(16,8))\n",
        "sns.heatmap(numdata.corr())"
      ],
      "metadata": {
        "colab": {
          "base_uri": "https://localhost:8080/",
          "height": 642
        },
        "id": "wRPjNyzcOpGY",
        "outputId": "54b1d997-eeb1-4c49-f65d-4e1c3003223a"
      },
      "execution_count": 35,
      "outputs": [
        {
          "output_type": "execute_result",
          "data": {
            "text/plain": [
              "<matplotlib.axes._subplots.AxesSubplot at 0x7fcfc8f05490>"
            ]
          },
          "metadata": {},
          "execution_count": 35
        },
        {
          "output_type": "display_data",
          "data": {
            "text/plain": [
              "<Figure size 1152x576 with 2 Axes>"
            ],
            "image/png": "[encoded data removed]"
          },
          "metadata": {
            "needs_background": "light"
          }
        }
      ]
    },
    {
      "cell_type": "markdown",
      "source": [
        "#####From the above plot we observe the following:\n",
        "\n",
        "*   All variablese except Accounts Delinquent have insignificant correlation with each other\n",
        "*   From a previous plot we had found that Accounts Delinquent had a constant value. Thus, our heatmap of correlations is aligned with that observation.\n",
        "\n"
      ],
      "metadata": {
        "id": "OzoQSPc3PjHi"
      }
    },
    {
      "cell_type": "markdown",
      "source": [
        "##Data Preprocessing"
      ],
      "metadata": {
        "id": "hAfSVVYs-zd0"
      }
    },
    {
      "cell_type": "code",
      "source": [
        "test_data = pd.read_csv(\"test.csv\")"
      ],
      "metadata": {
        "id": "RGcby1uq-q6O"
      },
      "execution_count": 36,
      "outputs": []
    },
    {
      "cell_type": "code",
      "source": [
        "df = pd.concat([data, test_data],axis = 0).reset_index(drop = True)\n",
        "df = pd.concat([test_data.assign(ind='test'), data.assign(ind='train')], axis = 0)"
      ],
      "metadata": {
        "id": "5ODSRUBV_aHZ"
      },
      "execution_count": 68,
      "outputs": []
    },
    {
      "cell_type": "code",
      "source": [
        "#Removing unnecessary variables as found during EDA\n",
        "\n",
        "df = df.drop([\"Total Received Late Fee\", \"Total Collection Amount\", \"Collection Recovery Fee\", \"Recoveries\", \"Accounts Delinquent\", \"Collection 12 months Medical\", \"Payment Plan\", \"Application Type\"], axis=1)"
      ],
      "metadata": {
        "id": "MnPmGgGk_5y_"
      },
      "execution_count": 69,
      "outputs": []
    },
    {
      "cell_type": "code",
      "source": [
        "# Remove space in the columns\n",
        "df.columns = df.columns.str.replace('-','')\n",
        "df.columns = df.columns.str.replace(' ','_')"
      ],
      "metadata": {
        "id": "hEVZIh3HBAiI"
      },
      "execution_count": 70,
      "outputs": []
    },
    {
      "cell_type": "markdown",
      "source": [
        "#####Feature Engineering"
      ],
      "metadata": {
        "id": "EVxmweVBdPz2"
      }
    },
    {
      "cell_type": "code",
      "source": [
        "df['Available_Accounts'] = df['Total_Accounts'] - df['Open_Account']\n",
        "df = df.drop(['Total_Accounts', 'Open_Account'], axis=1)"
      ],
      "metadata": {
        "id": "WILUOLd7afEp"
      },
      "execution_count": 73,
      "outputs": []
    },
    {
      "cell_type": "code",
      "source": [
        "numdata.columns = numdata.columns.str.replace('-','')\n",
        "numdata.columns = numdata.columns.str.replace(' ','_')"
      ],
      "metadata": {
        "id": "ESkC7Dd5SGzK"
      },
      "execution_count": 72,
      "outputs": []
    },
    {
      "cell_type": "markdown",
      "source": [
        "##Outlier Treatment"
      ],
      "metadata": {
        "id": "J1POZiSfC0YX"
      }
    },
    {
      "cell_type": "code",
      "source": [
        "numdatanew = numdata.drop([\"Total_Received_Late_Fee\", \"Total_Collection_Amount\", \"Collection_Recovery_Fee\", \"Recoveries\", \"Accounts_Delinquent\", \"Collection_12_months_Medical\"], axis=1)"
      ],
      "metadata": {
        "id": "rqmpELdjDOyP"
      },
      "execution_count": 41,
      "outputs": []
    },
    {
      "cell_type": "code",
      "source": [
        "f, axes = plt.subplots(5, 4, figsize=(15,15))\n",
        "idx1, idx2 = 0, 0\n",
        "for column in numdatanew.columns:\n",
        "  row = idx1//4\n",
        "  col = idx1-row*4\n",
        "  # axes[row,col].set_title(column, fontsize = '10')\n",
        "  sns.boxplot(x=numdatanew[column], ax=axes[row][col])\n",
        "  idx1+=1\n",
        "  idx2 = (idx1//6) \n",
        "plt.tight_layout()"
      ],
      "metadata": {
        "colab": {
          "base_uri": "https://localhost:8080/",
          "height": 1000
        },
        "id": "uN9PqzoDC540",
        "outputId": "52b59ab6-3f27-4ae5-9c28-982c7804de56"
      },
      "execution_count": 74,
      "outputs": [
        {
          "output_type": "display_data",
          "data": {
            "text/plain": [
              "<Figure size 1080x1080 with 20 Axes>"
            ],
            "image/png": "[encoded data removed]"
          },
          "metadata": {
            "needs_background": "light"
          }
        }
      ]
    },
    {
      "cell_type": "markdown",
      "source": [
        "#####Some variables have some serious outlier issues. For instance Delinquencytwo_years, Public_Record, Inquiressix_months. Although certain other variables also show outliers however unusual transactions might as well mean cases of frauds. Thus we remove those outliers very seletively. "
      ],
      "metadata": {
        "id": "hqPlcogtJ9z9"
      }
    },
    {
      "cell_type": "code",
      "source": [
        "#Outlier removal iteration 1\n",
        "\n",
        "u1 = df[\"Delinquency__two_years\"].mean()\n",
        "stdev1 = df[\"Delinquency__two_years\"].std()\n",
        "u2 = df[\"Total_Received_Interest\"].mean()\n",
        "stdev2 = df[\"Total_Received_Interest\"].std()\n",
        "u3 = df[\"Inquires__six_months\"].mean()\n",
        "stdev3 = df[\"Inquires__six_months\"].std()\n",
        "df = df.loc[(df[\"Delinquency__two_years\"]<u1+2*stdev1) & (df[\"Total_Received_Interest\"]<u2+3*stdev2) & (df[\"Inquires__six_months\"]<u3+2*stdev3)]"
      ],
      "metadata": {
        "id": "B2i9U5AsEXK_"
      },
      "execution_count": 43,
      "outputs": []
    },
    {
      "cell_type": "code",
      "source": [
        "#Outlier removal iteration 2\n",
        "\n",
        "u1 = df[\"Revolving_Balance\"].mean()\n",
        "stdev1 = df[\"Revolving_Balance\"].std()\n",
        "u2 = df[\"Total_Revolving_Credit_Limit\"].mean()\n",
        "stdev2 = df[\"Total_Revolving_Credit_Limit\"].std()\n",
        "u3 = df[\"Total_Accounts\"].mean()\n",
        "stdev3 = df[\"Total_Accounts\"].std()\n",
        "df = df.loc[(df[\"Revolving_Balance\"]<u1+3*stdev1) & (df[\"Total_Revolving_Credit_Limit\"]<u2+3*stdev2) & (df[\"Total_Accounts\"]<u3+3*stdev3)]"
      ],
      "metadata": {
        "id": "PpvvRyazQUxc"
      },
      "execution_count": 44,
      "outputs": []
    },
    {
      "cell_type": "markdown",
      "source": [
        "####Checking the presence of outliers once again"
      ],
      "metadata": {
        "id": "iR-xcH0sRy-k"
      }
    },
    {
      "cell_type": "code",
      "source": [
        "f, axes = plt.subplots(5, 4, figsize=(15,15))\n",
        "idx1, idx2 = 0, 0\n",
        "for column in numdatanew.columns:\n",
        "  row = idx1//4\n",
        "  col = idx1-row*4\n",
        "  if column=='Open_Account':\n",
        "    column='Available_Accounts'\n",
        "  if column=='Total_Accounts':\n",
        "    continue  \n",
        "  sns.boxplot(x=df[column], ax=axes[row][col])\n",
        "  idx1+=1\n",
        "  idx2 = (idx1//6) \n",
        "plt.tight_layout()"
      ],
      "metadata": {
        "colab": {
          "base_uri": "https://localhost:8080/",
          "height": 1000
        },
        "id": "3sYqT-8lRw5h",
        "outputId": "9a473a87-1f89-45e0-d8c7-ea9cdef59d64"
      },
      "execution_count": 76,
      "outputs": [
        {
          "output_type": "display_data",
          "data": {
            "text/plain": [
              "<Figure size 1080x1080 with 20 Axes>"
            ],
            "image/png": "[encoded data removed]"
          },
          "metadata": {
            "needs_background": "light"
          }
        }
      ]
    },
    {
      "cell_type": "markdown",
      "source": [
        "#####In the above plots we can see that number of outliers for certain categories have dropped. Howevee, Available_Accounts has a negative tail, which maybe due to incorrect imputation."
      ],
      "metadata": {
        "id": "zJ5TpW-cTRdJ"
      }
    },
    {
      "cell_type": "code",
      "source": [
        "df['Available_Accounts'] = abs(df['Available_Accounts'])"
      ],
      "metadata": {
        "id": "BezZfUU0bvn8"
      },
      "execution_count": 77,
      "outputs": []
    },
    {
      "cell_type": "markdown",
      "source": [
        "##Dealing with inconsistent labels"
      ],
      "metadata": {
        "id": "wWEGTd5yTqJF"
      }
    },
    {
      "cell_type": "code",
      "source": [
        "df['Verification_Status'].unique()"
      ],
      "metadata": {
        "colab": {
          "base_uri": "https://localhost:8080/"
        },
        "id": "K7LLaxPRTd8V",
        "outputId": "75474320-3ce1-4382-b25c-35af0d09c07c"
      },
      "execution_count": 78,
      "outputs": [
        {
          "output_type": "execute_result",
          "data": {
            "text/plain": [
              "array(['Source Verified', 'Verified', 'Not Verified'], dtype=object)"
            ]
          },
          "metadata": {},
          "execution_count": 78
        }
      ]
    },
    {
      "cell_type": "code",
      "source": [
        "df['Loan_Title'].unique()"
      ],
      "metadata": {
        "colab": {
          "base_uri": "https://localhost:8080/"
        },
        "id": "cq0ApT5VTwLm",
        "outputId": "9e9b6d93-ea4c-4932-8fd9-47a64e368802"
      },
      "execution_count": 79,
      "outputs": [
        {
          "output_type": "execute_result",
          "data": {
            "text/plain": [
              "array(['Home improvement', 'Credit card refinancing',\n",
              "       'Debt consolidation', 'Debt Consolidation', 'CC Loan',\n",
              "       'credit card refinance', 'Credit Card Consolidation', 'MYLOAN',\n",
              "       'Other', 'CC Consolidation', 'Moving and relocation', 'Car Loan',\n",
              "       'Bill Payoff', 'Car financing', 'Personal', 'Credit Consolidation',\n",
              "       'credit card consolidation', 'Home Improvement', 'Personal Loan',\n",
              "       'Medical expenses', 'personal', 'Consolidation', 'CONSOLIDATE',\n",
              "       'Refinance', 'Business', 'DEBT CONSOLIDATION', 'Major purchase',\n",
              "       'Home Improvement Loan', 'refi', 'Credit Card Debt',\n",
              "       'Consolidation Loan', 'consolidation loan', 'Vacation',\n",
              "       'debt consolidation', 'consolidate', 'Consolidate',\n",
              "       'Credit card payoff', 'Credit Card Refinance', 'home improvement',\n",
              "       'payoff', 'Debt Consolidation Loan', 'Credit Cards',\n",
              "       'CC-Refinance', 'Debt payoff', 'debt consolidation loan',\n",
              "       'Credit card pay off', 'Green loan', 'loan1', 'credit card',\n",
              "       'CONSOLIDATION', 'Home buying', 'Loan 1', 'Credit Card Refi',\n",
              "       'Pool', 'Cards', 'My Loan', 'Get Debt Free', 'Pay Off', 'House',\n",
              "       'debt', 'Dept consolidation', 'Freedom', 'consolidation',\n",
              "       'Credit Loan', 'Debt Free', 'Lending Club', 'Card Consolidation',\n",
              "       'CC consolidation', 'Debt Loan', 'Debt Payoff', 'Credit Card Loan',\n",
              "       'Loan Consolidation', 'relief', 'Home', 'Debt Reduction', 'Debt',\n",
              "       'Credit Card Payoff', 'CC', 'cards', 'Payoff', 'conso',\n",
              "       'Credit card refinance', 'Bill Consolidation', 'Medical loan',\n",
              "       'Wedding Loan', 'Loan', 'Credit payoff', 'Credit Card',\n",
              "       'Credit Card consolidation', 'CC Refi', 'pay off bills',\n",
              "       'Lending loan', 'debt loan', 'CC Refinance', 'Bathroom',\n",
              "       'vacation', 'Getting Ahead', 'Refinance Loan', 'bills',\n",
              "       'Personal loan', 'get out of debt', 'Home loan', 'Consolidated',\n",
              "       'Debt Consolidation 2013', 'Credit', 'Medical',\n",
              "       'Credit Card Paydown', 'Credit Card Refinance Loan',\n",
              "       'credit pay off'], dtype=object)"
            ]
          },
          "metadata": {},
          "execution_count": 79
        }
      ]
    },
    {
      "cell_type": "markdown",
      "source": [
        "Columns Verification Status and Loan Title have inconsistent labels. It can be corrected using dictionaries for each column."
      ],
      "metadata": {
        "id": "V57ao6phT3V9"
      }
    },
    {
      "cell_type": "code",
      "source": [
        "title = pd.DataFrame(df['Loan_Title'].value_counts())"
      ],
      "metadata": {
        "id": "Y8hIx6hHTyGd"
      },
      "execution_count": 80,
      "outputs": []
    },
    {
      "cell_type": "code",
      "source": [
        "## Correct the labels in Loan Title\n",
        "title_dict = {'Debt Consolidation 2013': 'debt_consolidation','Debt Reduction':'debt_consolidation','Debt':'debt_consolidation','conso':'debt_consolidation',\n",
        "'debt loan': 'debt_consolidation','get out of debt':'debt_consolidation','Consolidated':'debt_consolidation','Debt Payoff':'debt_consolidation',\n",
        "'Loan Consolidation': 'debt_consolidation','relief':'debt_consolidation','Lending Club':'debt_consolidation','Debt Loan':'debt_consolidation',\n",
        "'CONSOLIDATION': 'debt_consolidation','Get Debt Free':'debt_consolidation','Freedom':'debt_consolidation','consolidation':'debt_consolidation','Lending loan':'debt_consolidation',\n",
        "'Debt Free': 'debt_consolidation','Debt Consolidation Loan':'debt_consolidation','Debt payoff':'debt_consolidation','debt consolidation loan':'debt_consolidation',\n",
        "'Consolidation': 'debt_consolidation','Debt Consolidation':'debt_consolidation','Debt consolidation':'debt_consolidation','CONSOLIDATE':'debt_consolidation',\n",
        "'DEBT CONSOLIDATION': 'debt_consolidation','Consolidation Loan':'debt_consolidation','consolidation loan':'debt_consolidation','debt consolidation':'debt_consolidation',\n",
        "'consolidate': 'debt_consolidation','Consolidate':'debt_consolidation','debt':'debt_consolidation','Credit Card':'credit_card','Credit Card consolidation':'credit_card',\n",
        "'Dept consolidation':'debt_consolidation','CC Refi': 'credit_card','pay off bills':'credit_card','CC-Refinance':'credit_card','Refinance Loan':'credit_card',\n",
        "'bills': 'credit_card','Credit':'credit_card','Credit Card Paydown':'credit_card','Credit Card Refinance Loan':'credit_card',\n",
        "'credit pay off': 'credit_card','Credit card refinancing':'credit_card','CC Loan':'credit_card','credit card refinance':'credit_card',\n",
        "'Credit Card Loan': 'credit_card','Credit Card Consolidation':'credit_card','Card Consolidation':'credit_card','CC consolidation':'credit_card',\n",
        "'Bill Payoff': 'credit_card','Credit Consolidation':'credit_card','credit card consolidation':'credit_card','Refinance':'credit_card',\n",
        "'refi':'credit_card','Credit Card Debt':'credit_card','Credit card payoff':'credit_card','Credit Card Refinance':'credit_card','CC Consolidation':'credit_card',\n",
        "'payoff':'credit_card','Credit Cards':'credit_card','CC Refinance':'credit_card','Credit card pay off':'credit_card','cards':'credit_card',\n",
        "'credit card':'credit_card','Credit Card Refi':'credit_card','Cards':'credit_card','Pay Off':'credit_card',\n",
        "'Credit Loan':'credit_card','Credit Card Payoff':'credit_card','CC':'credit_card','Payoff':'credit_card',\n",
        "'Credit card refinance':'credit_card','Bill Consolidation':'credit_card','Credit payoff':'credit_card','Home improvement':'BuyingHouse&HomeImprovement',\n",
        "'Home Improvement':'BuyingHouse&HomeImprovement','Home Improvement Loan':'BuyingHouse&HomeImprovement','home improvement':'BuyingHouse&HomeImprovement','Pool':'BuyingHouse&HomeImprovement',\n",
        "'Home buying':'BuyingHouse&HomeImprovement','House':'BuyingHouse&HomeImprovement','Home':'BuyingHouse&HomeImprovement','Bathroom':'BuyingHouse&HomeImprovement',\n",
        "'Home loan':'BuyingHouse&HomeImprovement','Getting Ahead': 'BuyingHouse&HomeImprovement','Moving and relocation':'moving','other':'Other','vacation':'vacation',\n",
        "'Vacation':'vacation','Wedding Loan':'wedding','MYLOAN':'personal','Personal':'personal',\n",
        "'Personal Loan': 'personal','loan1':'personal','Loan 1':'personal','My Loan':'personal',\n",
        "'Loan': 'personal','Personal loan':'personal','Major purchase':'major_purchase','Medical expenses':'medical',\n",
        "'Medical loan': 'medical','Medical':'medical','Car Loan':'car','Car financing':'car',\n",
        "'car':'car','Business': 'business','Green loan':'renewable_energy'}\n",
        "df['Loan_Title'].replace(title_dict, inplace = True)"
      ],
      "metadata": {
        "id": "plsqXkHDT6f-"
      },
      "execution_count": 81,
      "outputs": []
    },
    {
      "cell_type": "code",
      "source": [
        "df['Loan_Title'].unique()"
      ],
      "metadata": {
        "colab": {
          "base_uri": "https://localhost:8080/"
        },
        "id": "jCMdsaXvT9D9",
        "outputId": "13f7f69e-7c06-4686-ab46-2917c03ebea9"
      },
      "execution_count": 82,
      "outputs": [
        {
          "output_type": "execute_result",
          "data": {
            "text/plain": [
              "array(['BuyingHouse&HomeImprovement', 'credit_card', 'debt_consolidation',\n",
              "       'personal', 'Other', 'moving', 'car', 'medical', 'business',\n",
              "       'major_purchase', 'vacation', 'renewable_energy', 'wedding'],\n",
              "      dtype=object)"
            ]
          },
          "metadata": {},
          "execution_count": 82
        }
      ]
    },
    {
      "cell_type": "markdown",
      "source": [
        "##Splitting the dataset into train and test sets"
      ],
      "metadata": {
        "id": "_b-4qWBoUE5y"
      }
    },
    {
      "cell_type": "code",
      "source": [
        "test, train = df[df['ind'].eq('test')], df[df['ind'].eq('train')]"
      ],
      "metadata": {
        "id": "wrw0wB2xUEjp"
      },
      "execution_count": 83,
      "outputs": []
    },
    {
      "cell_type": "code",
      "source": [
        "# Drop 'ind' column from test and train datasets\n",
        "train.drop(['ind'], axis=1, inplace=True)\n",
        "test.drop(['ind','Loan_Status'], axis=1, inplace=True)"
      ],
      "metadata": {
        "id": "UaR1SZDiUKmD"
      },
      "execution_count": 84,
      "outputs": []
    },
    {
      "cell_type": "code",
      "source": [
        "## Overall distribution of Loan Status\n",
        "\n",
        "#Countplot of loan status\n",
        "plt.figure(figsize=(10,3))\n",
        "ax=sns.countplot(y='Loan_Status',data=df, palette='hls',order = train['Loan_Status'].value_counts().index)\n",
        "plt.title('Loan Status Distribution')\n",
        "total = len(train['Loan_Status'])\n",
        "for p in ax.patches:\n",
        "        percentage = '{:.3f}%'.format(100 * p.get_width()/total)\n",
        "        x = p.get_x() + p.get_width() + 0.02\n",
        "        y = p.get_y() + p.get_height()/2\n",
        "        ax.annotate(percentage, (x, y))\n",
        "plt.show()"
      ],
      "metadata": {
        "colab": {
          "base_uri": "https://localhost:8080/",
          "height": 241
        },
        "id": "oVpEbVVRUM6c",
        "outputId": "e3bfcf5d-8cff-47e1-ac0a-14778f03e2a8"
      },
      "execution_count": 85,
      "outputs": [
        {
          "output_type": "display_data",
          "data": {
            "text/plain": [
              "<Figure size 720x216 with 1 Axes>"
            ],
            "image/png": "[encoded data removed]"
          },
          "metadata": {
            "needs_background": "light"
          }
        }
      ]
    },
    {
      "cell_type": "markdown",
      "source": [
        "Out of 67463 loan applicants, 90.75% applicants are non-defaulters and 9.25% have defaulted. \n",
        "\n",
        "This also means that the train dataset is imbalanced. To resolve this, stratified K-fold cross validation with shuffle setting as True will be used to ensure equal distribution of the Loan Status labels during building the model."
      ],
      "metadata": {
        "id": "wtR91TYzUYP8"
      }
    },
    {
      "cell_type": "markdown",
      "source": [
        "##Encoding Categorical Variables"
      ],
      "metadata": {
        "id": "xo2sMxaoUkes"
      }
    },
    {
      "cell_type": "markdown",
      "source": [
        "As we will be using tree-based algorithms for building the model, we shall choose label encoding for encoding categorical variables. "
      ],
      "metadata": {
        "id": "oqvR51GQUtOK"
      }
    },
    {
      "cell_type": "code",
      "source": [
        "features = ['Grade','Verification_Status','Initial_List_Status','Loan_Title', 'Batch_Enrolled', 'Employment_Duration', 'Sub_Grade']\n",
        "\n",
        "le = LabelEncoder()\n",
        "\n",
        "# Fit the encoder and tranform each column\n",
        "for col in features:\n",
        "    train.loc[:, col]= le.fit_transform(train[col])\n",
        "\n",
        "train = pd.DataFrame(train, columns = train.columns)"
      ],
      "metadata": {
        "id": "s0J218jwURES"
      },
      "execution_count": 86,
      "outputs": []
    },
    {
      "cell_type": "markdown",
      "source": [
        "##Splitting the training set "
      ],
      "metadata": {
        "id": "KuSnbUGJWuDE"
      }
    },
    {
      "cell_type": "markdown",
      "source": [
        "####Splitting in Feature matrix(X) and target labels(y)"
      ],
      "metadata": {
        "id": "2Ou5bnC4XOnI"
      }
    },
    {
      "cell_type": "code",
      "source": [
        "X = train.drop([\"Loan_Status\"], axis=1)\n",
        "y = train[\"Loan_Status\"]"
      ],
      "metadata": {
        "id": "B9LZVU5AW2Sr"
      },
      "execution_count": 106,
      "outputs": []
    },
    {
      "cell_type": "code",
      "source": [
        "sns.countplot(y) #Keeping this plot as a reference for later"
      ],
      "metadata": {
        "colab": {
          "base_uri": "https://localhost:8080/",
          "height": 298
        },
        "id": "yqlPlsEAXg93",
        "outputId": "1b870ad0-4266-42a6-e4ca-5b1d27c5958e"
      },
      "execution_count": 90,
      "outputs": [
        {
          "output_type": "execute_result",
          "data": {
            "text/plain": [
              "<matplotlib.axes._subplots.AxesSubplot at 0x7fcfc856fc10>"
            ]
          },
          "metadata": {},
          "execution_count": 90
        },
        {
          "output_type": "display_data",
          "data": {
            "text/plain": [
              "<Figure size 432x288 with 1 Axes>"
            ],
            "image/png": "[encoded data removed]"
          },
          "metadata": {
            "needs_background": "light"
          }
        }
      ]
    },
    {
      "cell_type": "markdown",
      "source": [
        "Since the dataset is imbalanced we must use stratified split"
      ],
      "metadata": {
        "id": "rAHeYSuuW4WW"
      }
    },
    {
      "cell_type": "code",
      "source": [
        "X_train, X_test, y_train, y_test = train_test_split(X, y, test_size=0.2, stratify=train[\"Loan_Status\"])"
      ],
      "metadata": {
        "id": "7smXfVp9X06C"
      },
      "execution_count": 91,
      "outputs": []
    },
    {
      "cell_type": "markdown",
      "source": [
        "#####Referring to the previous frequency plot we find y_train has the same distribution of positive samples and negative samples"
      ],
      "metadata": {
        "id": "5Ii4NvBwYnBr"
      }
    },
    {
      "cell_type": "code",
      "source": [
        "sns.countplot(y_train) "
      ],
      "metadata": {
        "colab": {
          "base_uri": "https://localhost:8080/",
          "height": 298
        },
        "id": "gajwAQ_vYQdY",
        "outputId": "c9cecf71-6407-4c0b-d710-f5f4e631e401"
      },
      "execution_count": 92,
      "outputs": [
        {
          "output_type": "execute_result",
          "data": {
            "text/plain": [
              "<matplotlib.axes._subplots.AxesSubplot at 0x7fcfc5f55790>"
            ]
          },
          "metadata": {},
          "execution_count": 92
        },
        {
          "output_type": "display_data",
          "data": {
            "text/plain": [
              "<Figure size 432x288 with 1 Axes>"
            ],
            "image/png": "[encoded data removed]"
          },
          "metadata": {
            "needs_background": "light"
          }
        }
      ]
    },
    {
      "cell_type": "code",
      "source": [
        "sns.countplot(y_test) "
      ],
      "metadata": {
        "colab": {
          "base_uri": "https://localhost:8080/",
          "height": 298
        },
        "id": "IjNvtOmIYXJh",
        "outputId": "1772e4c3-e545-413b-e0f8-28eb8ef1f6ff"
      },
      "execution_count": 93,
      "outputs": [
        {
          "output_type": "execute_result",
          "data": {
            "text/plain": [
              "<matplotlib.axes._subplots.AxesSubplot at 0x7fcfc62a8f10>"
            ]
          },
          "metadata": {},
          "execution_count": 93
        },
        {
          "output_type": "display_data",
          "data": {
            "text/plain": [
              "<Figure size 432x288 with 1 Axes>"
            ],
            "image/png": "[encoded data removed]"
          },
          "metadata": {
            "needs_background": "light"
          }
        }
      ]
    },
    {
      "cell_type": "markdown",
      "source": [
        "##Treating Class imbalance with SMOTE"
      ],
      "metadata": {
        "id": "pDRGfvGYY4-N"
      }
    },
    {
      "cell_type": "code",
      "source": [
        "X_resampled, y_resampled = SMOTE().fit_resample(X_train, y_train)"
      ],
      "metadata": {
        "id": "nhjP-JgvY9Md"
      },
      "execution_count": 176,
      "outputs": []
    },
    {
      "cell_type": "markdown",
      "source": [
        "#####From the below frequency plot it can be observed that the class imbalance is no longer there.\n",
        "\n",
        "*SMOTE is oversampling the positive cases which are in deficit in the dataset. Oversampling in this way should in general increase the number of false positives.* \n",
        "\n",
        "Although this can be potentially dangerous for certain businesses, however in our case that is not so. This is because in the case of loan defaults false negatives should be intuitively more dangerous than false postives, i.e, defaulters getting predicted as clean(false negative) are much more harmful than a non-defaulter being predicted to default(false positive).  "
      ],
      "metadata": {
        "id": "nscP4EnrbSVW"
      }
    },
    {
      "cell_type": "code",
      "source": [
        "sns.countplot(y_resampled)"
      ],
      "metadata": {
        "colab": {
          "base_uri": "https://localhost:8080/",
          "height": 298
        },
        "id": "WtJz_lApbNfg",
        "outputId": "16d41465-ec37-4b82-ee6a-bcff50e1dc6e"
      },
      "execution_count": 108,
      "outputs": [
        {
          "output_type": "execute_result",
          "data": {
            "text/plain": [
              "<matplotlib.axes._subplots.AxesSubplot at 0x7fcfcdf4f450>"
            ]
          },
          "metadata": {},
          "execution_count": 108
        },
        {
          "output_type": "display_data",
          "data": {
            "text/plain": [
              "<Figure size 432x288 with 1 Axes>"
            ],
            "image/png": "[encoded data removed]"
          },
          "metadata": {
            "needs_background": "light"
          }
        }
      ]
    },
    {
      "cell_type": "markdown",
      "source": [
        "First we train the machine learning model on the preprocessed dataset. Then we'll use the generated dataset to try improve our prediction. This is because the generated data may add false information to our model."
      ],
      "metadata": {
        "id": "CSEgjjFfeEDv"
      }
    },
    {
      "cell_type": "markdown",
      "source": [
        "##Scaling the Data"
      ],
      "metadata": {
        "id": "6GJ5L4hQUcar"
      }
    },
    {
      "cell_type": "code",
      "source": [
        "X_train.info()"
      ],
      "metadata": {
        "colab": {
          "base_uri": "https://localhost:8080/"
        },
        "id": "ulX7zyDXUdWC",
        "outputId": "e26e6696-0777-4e76-d54c-b7e1d73ca0bf"
      },
      "execution_count": 64,
      "outputs": [
        {
          "output_type": "stream",
          "name": "stdout",
          "text": [
            "<class 'pandas.core.frame.DataFrame'>\n",
            "Int64Index: 46220 entries, 36387 to 36540\n",
            "Data columns (total 26 columns):\n",
            " #   Column                        Non-Null Count  Dtype  \n",
            "---  ------                        --------------  -----  \n",
            " 0   ID                            46220 non-null  int64  \n",
            " 1   Loan_Amount                   46220 non-null  int64  \n",
            " 2   Funded_Amount                 46220 non-null  int64  \n",
            " 3   Funded_Amount_Investor        46220 non-null  float64\n",
            " 4   Term                          46220 non-null  int64  \n",
            " 5   Batch_Enrolled                46220 non-null  int64  \n",
            " 6   Interest_Rate                 46220 non-null  float64\n",
            " 7   Grade                         46220 non-null  int64  \n",
            " 8   Sub_Grade                     46220 non-null  int64  \n",
            " 9   Employment_Duration           46220 non-null  int64  \n",
            " 10  Home_Ownership                46220 non-null  float64\n",
            " 11  Verification_Status           46220 non-null  int64  \n",
            " 12  Loan_Title                    46220 non-null  int64  \n",
            " 13  Debit_to_Income               46220 non-null  float64\n",
            " 14  Delinquency__two_years        46220 non-null  int64  \n",
            " 15  Inquires__six_months          46220 non-null  int64  \n",
            " 16  Open_Account                  46220 non-null  int64  \n",
            " 17  Public_Record                 46220 non-null  int64  \n",
            " 18  Revolving_Balance             46220 non-null  int64  \n",
            " 19  Revolving_Utilities           46220 non-null  float64\n",
            " 20  Total_Accounts                46220 non-null  int64  \n",
            " 21  Initial_List_Status           46220 non-null  int64  \n",
            " 22  Total_Received_Interest       46220 non-null  float64\n",
            " 23  Last_week_Pay                 46220 non-null  int64  \n",
            " 24  Total_Current_Balance         46220 non-null  int64  \n",
            " 25  Total_Revolving_Credit_Limit  46220 non-null  int64  \n",
            "dtypes: float64(6), int64(20)\n",
            "memory usage: 9.5 MB\n"
          ]
        }
      ]
    },
    {
      "cell_type": "code",
      "source": [
        "# List for columns to scale\n",
        "cols_to_scale = ['Term','Interest_Rate','Employment_Duration','Debit_to_Income','Inquires__six_months','Public_Record',\n",
        "'Available_Accounts','Loan_Amount','Funded_Amount_Investor']\n",
        "\n",
        "# Create scaler\n",
        "scaler = StandardScaler()\n",
        "\n",
        "# Create a copy of the datasets\n",
        "X_train_scaled = X_train.copy()\n",
        "test_scaled = test.copy()\n",
        "\n",
        "# Scale selected data\n",
        "X_train_scaled[cols_to_scale] = scaler.fit_transform(X_train[cols_to_scale])\n",
        "X_train_scaled = pd.DataFrame(X_train_scaled, columns = X_train.columns)"
      ],
      "metadata": {
        "id": "IgEmD23MWHba"
      },
      "execution_count": 98,
      "outputs": []
    },
    {
      "cell_type": "code",
      "source": [
        "X_test_scaled = X_test.copy()\n",
        "X_test_scaled[cols_to_scale] = scaler.transform(X_test[cols_to_scale])\n",
        "X_test_scaled = pd.DataFrame(X_test_scaled, columns = X_test.columns)"
      ],
      "metadata": {
        "id": "RsCiMLkI2cfe"
      },
      "execution_count": 141,
      "outputs": []
    },
    {
      "cell_type": "code",
      "source": [
        "X_train_scaled = X_train_scaled.drop(\"ID\", axis=1)"
      ],
      "metadata": {
        "id": "RJt7vLCjdX5n"
      },
      "execution_count": 101,
      "outputs": []
    },
    {
      "cell_type": "code",
      "source": [
        "X_test_scaled = X_test_scaled.drop([\"ID\"], axis=1)"
      ],
      "metadata": {
        "id": "5e55NsqB27s3"
      },
      "execution_count": 142,
      "outputs": []
    },
    {
      "cell_type": "code",
      "source": [
        "X_train_scaled"
      ],
      "metadata": {
        "colab": {
          "base_uri": "https://localhost:8080/",
          "height": 488
        },
        "id": "EgqQKz5SdtXY",
        "outputId": "3ec9d52d-ab01-4074-e6ef-169ba37a22ae"
      },
      "execution_count": 102,
      "outputs": [
        {
          "output_type": "execute_result",
          "data": {
            "text/plain": [
              "       Loan_Amount  Funded_Amount  Funded_Amount_Investor      Term  \\\n",
              "30729     0.380433          13277               -0.923190  0.249183   \n",
              "20124     0.538301          11512               -0.378859  0.249183   \n",
              "24417     0.051071           7303               -1.804194 -0.048995   \n",
              "10142     0.025975          10782               -0.659702  0.249183   \n",
              "54677     0.637492          31052                0.890126  0.249183   \n",
              "...            ...            ...                     ...       ...   \n",
              "1381     -0.388476          18362               -0.412236  0.249183   \n",
              "65687    -0.544791          25545               -0.918801  0.249183   \n",
              "17448    -0.044295          22615                0.391938 -0.048995   \n",
              "53329     1.066881          26906                0.268892  0.249183   \n",
              "2036     -1.334015           8733                0.218312 -0.048995   \n",
              "\n",
              "       Batch_Enrolled  Interest_Rate  Grade  Sub_Grade  Employment_Duration  \\\n",
              "30729              20      -0.271676      0          5            -0.877167   \n",
              "20124              16      -1.224365      3          9            -0.877167   \n",
              "24417               7      -1.132817      1          8             0.199198   \n",
              "10142               4      -0.552044      0         13            -0.877167   \n",
              "54677              12       1.328889      2         18             0.199198   \n",
              "...               ...            ...    ...        ...                  ...   \n",
              "1381                0      -0.613893      5          5            -0.877167   \n",
              "65687              13      -0.529803      1         17             1.275564   \n",
              "17448              17      -0.532691      4         11            -0.877167   \n",
              "53329              11       0.039588      2         10            -0.877167   \n",
              "2036                2       0.251293      0          7             1.275564   \n",
              "\n",
              "       Home_Ownership  ...  Inquires__six_months  Public_Record  \\\n",
              "30729     94624.72442  ...             -0.308362      -0.232833   \n",
              "20124     88626.35122  ...              1.817637      -0.232833   \n",
              "24417     85355.98163  ...              1.817637       2.656563   \n",
              "10142     33707.22095  ...             -0.308362      -0.232833   \n",
              "54677     59947.18755  ...             -0.308362      -0.232833   \n",
              "...               ...  ...                   ...            ...   \n",
              "1381      46737.59678  ...             -0.308362      -0.232833   \n",
              "65687    212038.29520  ...             -0.308362      -0.232833   \n",
              "17448     84092.43229  ...             -0.308362      -0.232833   \n",
              "53329     55671.30937  ...             -0.308362      -0.232833   \n",
              "2036      98067.83256  ...             -0.308362      -0.232833   \n",
              "\n",
              "       Revolving_Balance  Revolving_Utilities  Initial_List_Status  \\\n",
              "30729               8145            27.446031                    1   \n",
              "20124              22940            18.454492                    0   \n",
              "24417              37043            62.072446                    0   \n",
              "10142               3941            88.025882                    1   \n",
              "54677               7399            21.221142                    0   \n",
              "...                  ...                  ...                  ...   \n",
              "1381               11249            53.433118                    1   \n",
              "65687               3320            26.554974                    1   \n",
              "17448               6158            15.985932                    1   \n",
              "53329              14711            42.799793                    0   \n",
              "2036                7057            48.897627                    1   \n",
              "\n",
              "       Total_Received_Interest  Last_week_Pay  Total_Current_Balance  \\\n",
              "30729               830.012175            134                 164193   \n",
              "20124              2607.692362             85                  14454   \n",
              "24417              1170.081118             36                 404290   \n",
              "10142                67.653421             65                 179218   \n",
              "54677              5097.182332            122                  52602   \n",
              "...                        ...            ...                    ...   \n",
              "1381               3418.653162            123                 204638   \n",
              "65687              1986.762080             40                 409163   \n",
              "17448              8456.552095             79                 436331   \n",
              "53329              2610.418422            145                  89009   \n",
              "2036               3320.015206             36                  48302   \n",
              "\n",
              "       Total_Revolving_Credit_Limit  Available_Accounts  \n",
              "30729                         20871            0.599213  \n",
              "20124                         53801            0.599213  \n",
              "24417                         38265           -0.845754  \n",
              "10142                         26360            0.165723  \n",
              "54677                          2815           -0.701257  \n",
              "...                             ...                 ...  \n",
              "1381                           7205           -1.279244  \n",
              "65687                          3918            1.032703  \n",
              "17448                          2285           -1.134748  \n",
              "53329                         56540            0.021226  \n",
              "2036                          29543           -0.412264  \n",
              "\n",
              "[53970 rows x 24 columns]"
            ],
            "text/html": [
              "\n",
              "  <div id=\"df-caf7bb6a-17f0-4680-b9c4-ffe825029cdb\">\n",
              "    <div class=\"colab-df-container\">\n",
              "      <div>\n",
              "<style scoped>\n",
              "    .dataframe tbody tr th:only-of-type {\n",
              "        vertical-align: middle;\n",
              "    }\n",
              "\n",
              "    .dataframe tbody tr th {\n",
              "        vertical-align: top;\n",
              "    }\n",
              "\n",
              "    .dataframe thead th {\n",
              "        text-align: right;\n",
              "    }\n",
              "</style>\n",
              "<table border=\"1\" class=\"dataframe\">\n",
              "  <thead>\n",
              "    <tr style=\"text-align: right;\">\n",
              "      <th></th>\n",
              "      <th>Loan_Amount</th>\n",
              "      <th>Funded_Amount</th>\n",
              "      <th>Funded_Amount_Investor</th>\n",
              "      <th>Term</th>\n",
              "      <th>Batch_Enrolled</th>\n",
              "      <th>Interest_Rate</th>\n",
              "      <th>Grade</th>\n",
              "      <th>Sub_Grade</th>\n",
              "      <th>Employment_Duration</th>\n",
              "      <th>Home_Ownership</th>\n",
              "      <th>...</th>\n",
              "      <th>Inquires__six_months</th>\n",
              "      <th>Public_Record</th>\n",
              "      <th>Revolving_Balance</th>\n",
              "      <th>Revolving_Utilities</th>\n",
              "      <th>Initial_List_Status</th>\n",
              "      <th>Total_Received_Interest</th>\n",
              "      <th>Last_week_Pay</th>\n",
              "      <th>Total_Current_Balance</th>\n",
              "      <th>Total_Revolving_Credit_Limit</th>\n",
              "      <th>Available_Accounts</th>\n",
              "    </tr>\n",
              "  </thead>\n",
              "  <tbody>\n",
              "    <tr>\n",
              "      <th>30729</th>\n",
              "      <td>0.380433</td>\n",
              "      <td>13277</td>\n",
              "      <td>-0.923190</td>\n",
              "      <td>0.249183</td>\n",
              "      <td>20</td>\n",
              "      <td>-0.271676</td>\n",
              "      <td>0</td>\n",
              "      <td>5</td>\n",
              "      <td>-0.877167</td>\n",
              "      <td>94624.72442</td>\n",
              "      <td>...</td>\n",
              "      <td>-0.308362</td>\n",
              "      <td>-0.232833</td>\n",
              "      <td>8145</td>\n",
              "      <td>27.446031</td>\n",
              "      <td>1</td>\n",
              "      <td>830.012175</td>\n",
              "      <td>134</td>\n",
              "      <td>164193</td>\n",
              "      <td>20871</td>\n",
              "      <td>0.599213</td>\n",
              "    </tr>\n",
              "    <tr>\n",
              "      <th>20124</th>\n",
              "      <td>0.538301</td>\n",
              "      <td>11512</td>\n",
              "      <td>-0.378859</td>\n",
              "      <td>0.249183</td>\n",
              "      <td>16</td>\n",
              "      <td>-1.224365</td>\n",
              "      <td>3</td>\n",
              "      <td>9</td>\n",
              "      <td>-0.877167</td>\n",
              "      <td>88626.35122</td>\n",
              "      <td>...</td>\n",
              "      <td>1.817637</td>\n",
              "      <td>-0.232833</td>\n",
              "      <td>22940</td>\n",
              "      <td>18.454492</td>\n",
              "      <td>0</td>\n",
              "      <td>2607.692362</td>\n",
              "      <td>85</td>\n",
              "      <td>14454</td>\n",
              "      <td>53801</td>\n",
              "      <td>0.599213</td>\n",
              "    </tr>\n",
              "    <tr>\n",
              "      <th>24417</th>\n",
              "      <td>0.051071</td>\n",
              "      <td>7303</td>\n",
              "      <td>-1.804194</td>\n",
              "      <td>-0.048995</td>\n",
              "      <td>7</td>\n",
              "      <td>-1.132817</td>\n",
              "      <td>1</td>\n",
              "      <td>8</td>\n",
              "      <td>0.199198</td>\n",
              "      <td>85355.98163</td>\n",
              "      <td>...</td>\n",
              "      <td>1.817637</td>\n",
              "      <td>2.656563</td>\n",
              "      <td>37043</td>\n",
              "      <td>62.072446</td>\n",
              "      <td>0</td>\n",
              "      <td>1170.081118</td>\n",
              "      <td>36</td>\n",
              "      <td>404290</td>\n",
              "      <td>38265</td>\n",
              "      <td>-0.845754</td>\n",
              "    </tr>\n",
              "    <tr>\n",
              "      <th>10142</th>\n",
              "      <td>0.025975</td>\n",
              "      <td>10782</td>\n",
              "      <td>-0.659702</td>\n",
              "      <td>0.249183</td>\n",
              "      <td>4</td>\n",
              "      <td>-0.552044</td>\n",
              "      <td>0</td>\n",
              "      <td>13</td>\n",
              "      <td>-0.877167</td>\n",
              "      <td>33707.22095</td>\n",
              "      <td>...</td>\n",
              "      <td>-0.308362</td>\n",
              "      <td>-0.232833</td>\n",
              "      <td>3941</td>\n",
              "      <td>88.025882</td>\n",
              "      <td>1</td>\n",
              "      <td>67.653421</td>\n",
              "      <td>65</td>\n",
              "      <td>179218</td>\n",
              "      <td>26360</td>\n",
              "      <td>0.165723</td>\n",
              "    </tr>\n",
              "    <tr>\n",
              "      <th>54677</th>\n",
              "      <td>0.637492</td>\n",
              "      <td>31052</td>\n",
              "      <td>0.890126</td>\n",
              "      <td>0.249183</td>\n",
              "      <td>12</td>\n",
              "      <td>1.328889</td>\n",
              "      <td>2</td>\n",
              "      <td>18</td>\n",
              "      <td>0.199198</td>\n",
              "      <td>59947.18755</td>\n",
              "      <td>...</td>\n",
              "      <td>-0.308362</td>\n",
              "      <td>-0.232833</td>\n",
              "      <td>7399</td>\n",
              "      <td>21.221142</td>\n",
              "      <td>0</td>\n",
              "      <td>5097.182332</td>\n",
              "      <td>122</td>\n",
              "      <td>52602</td>\n",
              "      <td>2815</td>\n",
              "      <td>-0.701257</td>\n",
              "    </tr>\n",
              "    <tr>\n",
              "      <th>...</th>\n",
              "      <td>...</td>\n",
              "      <td>...</td>\n",
              "      <td>...</td>\n",
              "      <td>...</td>\n",
              "      <td>...</td>\n",
              "      <td>...</td>\n",
              "      <td>...</td>\n",
              "      <td>...</td>\n",
              "      <td>...</td>\n",
              "      <td>...</td>\n",
              "      <td>...</td>\n",
              "      <td>...</td>\n",
              "      <td>...</td>\n",
              "      <td>...</td>\n",
              "      <td>...</td>\n",
              "      <td>...</td>\n",
              "      <td>...</td>\n",
              "      <td>...</td>\n",
              "      <td>...</td>\n",
              "      <td>...</td>\n",
              "      <td>...</td>\n",
              "    </tr>\n",
              "    <tr>\n",
              "      <th>1381</th>\n",
              "      <td>-0.388476</td>\n",
              "      <td>18362</td>\n",
              "      <td>-0.412236</td>\n",
              "      <td>0.249183</td>\n",
              "      <td>0</td>\n",
              "      <td>-0.613893</td>\n",
              "      <td>5</td>\n",
              "      <td>5</td>\n",
              "      <td>-0.877167</td>\n",
              "      <td>46737.59678</td>\n",
              "      <td>...</td>\n",
              "      <td>-0.308362</td>\n",
              "      <td>-0.232833</td>\n",
              "      <td>11249</td>\n",
              "      <td>53.433118</td>\n",
              "      <td>1</td>\n",
              "      <td>3418.653162</td>\n",
              "      <td>123</td>\n",
              "      <td>204638</td>\n",
              "      <td>7205</td>\n",
              "      <td>-1.279244</td>\n",
              "    </tr>\n",
              "    <tr>\n",
              "      <th>65687</th>\n",
              "      <td>-0.544791</td>\n",
              "      <td>25545</td>\n",
              "      <td>-0.918801</td>\n",
              "      <td>0.249183</td>\n",
              "      <td>13</td>\n",
              "      <td>-0.529803</td>\n",
              "      <td>1</td>\n",
              "      <td>17</td>\n",
              "      <td>1.275564</td>\n",
              "      <td>212038.29520</td>\n",
              "      <td>...</td>\n",
              "      <td>-0.308362</td>\n",
              "      <td>-0.232833</td>\n",
              "      <td>3320</td>\n",
              "      <td>26.554974</td>\n",
              "      <td>1</td>\n",
              "      <td>1986.762080</td>\n",
              "      <td>40</td>\n",
              "      <td>409163</td>\n",
              "      <td>3918</td>\n",
              "      <td>1.032703</td>\n",
              "    </tr>\n",
              "    <tr>\n",
              "      <th>17448</th>\n",
              "      <td>-0.044295</td>\n",
              "      <td>22615</td>\n",
              "      <td>0.391938</td>\n",
              "      <td>-0.048995</td>\n",
              "      <td>17</td>\n",
              "      <td>-0.532691</td>\n",
              "      <td>4</td>\n",
              "      <td>11</td>\n",
              "      <td>-0.877167</td>\n",
              "      <td>84092.43229</td>\n",
              "      <td>...</td>\n",
              "      <td>-0.308362</td>\n",
              "      <td>-0.232833</td>\n",
              "      <td>6158</td>\n",
              "      <td>15.985932</td>\n",
              "      <td>1</td>\n",
              "      <td>8456.552095</td>\n",
              "      <td>79</td>\n",
              "      <td>436331</td>\n",
              "      <td>2285</td>\n",
              "      <td>-1.134748</td>\n",
              "    </tr>\n",
              "    <tr>\n",
              "      <th>53329</th>\n",
              "      <td>1.066881</td>\n",
              "      <td>26906</td>\n",
              "      <td>0.268892</td>\n",
              "      <td>0.249183</td>\n",
              "      <td>11</td>\n",
              "      <td>0.039588</td>\n",
              "      <td>2</td>\n",
              "      <td>10</td>\n",
              "      <td>-0.877167</td>\n",
              "      <td>55671.30937</td>\n",
              "      <td>...</td>\n",
              "      <td>-0.308362</td>\n",
              "      <td>-0.232833</td>\n",
              "      <td>14711</td>\n",
              "      <td>42.799793</td>\n",
              "      <td>0</td>\n",
              "      <td>2610.418422</td>\n",
              "      <td>145</td>\n",
              "      <td>89009</td>\n",
              "      <td>56540</td>\n",
              "      <td>0.021226</td>\n",
              "    </tr>\n",
              "    <tr>\n",
              "      <th>2036</th>\n",
              "      <td>-1.334015</td>\n",
              "      <td>8733</td>\n",
              "      <td>0.218312</td>\n",
              "      <td>-0.048995</td>\n",
              "      <td>2</td>\n",
              "      <td>0.251293</td>\n",
              "      <td>0</td>\n",
              "      <td>7</td>\n",
              "      <td>1.275564</td>\n",
              "      <td>98067.83256</td>\n",
              "      <td>...</td>\n",
              "      <td>-0.308362</td>\n",
              "      <td>-0.232833</td>\n",
              "      <td>7057</td>\n",
              "      <td>48.897627</td>\n",
              "      <td>1</td>\n",
              "      <td>3320.015206</td>\n",
              "      <td>36</td>\n",
              "      <td>48302</td>\n",
              "      <td>29543</td>\n",
              "      <td>-0.412264</td>\n",
              "    </tr>\n",
              "  </tbody>\n",
              "</table>\n",
              "<p>53970 rows × 24 columns</p>\n",
              "</div>\n",
              "      <button class=\"colab-df-convert\" onclick=\"convertToInteractive('df-caf7bb6a-17f0-4680-b9c4-ffe825029cdb')\"\n",
              "              title=\"Convert this dataframe to an interactive table.\"\n",
              "              style=\"display:none;\">\n",
              "        \n",
              "  <svg xmlns=\"http://www.w3.org/2000/svg\" height=\"24px\"viewBox=\"0 0 24 24\"\n",
              "       width=\"24px\">\n",
              "    <path d=\"M0 0h24v24H0V0z\" fill=\"none\"/>\n",
              "    <path d=\"M18.56 5.44l.94 2.06.94-2.06 2.06-.94-2.06-.94-.94-2.06-.94 2.06-2.06.94zm-11 1L8.5 8.5l.94-2.06 2.06-.94-2.06-.94L8.5 2.5l-.94 2.06-2.06.94zm10 10l.94 2.06.94-2.06 2.06-.94-2.06-.94-.94-2.06-.94 2.06-2.06.94z\"/><path d=\"M17.41 7.96l-1.37-1.37c-.4-.4-.92-.59-1.43-.59-.52 0-1.04.2-1.43.59L10.3 9.45l-7.72 7.72c-.78.78-.78 2.05 0 2.83L4 21.41c.39.39.9.59 1.41.59.51 0 1.02-.2 1.41-.59l7.78-7.78 2.81-2.81c.8-.78.8-2.07 0-2.86zM5.41 20L4 18.59l7.72-7.72 1.47 1.35L5.41 20z\"/>\n",
              "  </svg>\n",
              "      </button>\n",
              "      \n",
              "  <style>\n",
              "    .colab-df-container {\n",
              "      display:flex;\n",
              "      flex-wrap:wrap;\n",
              "      gap: 12px;\n",
              "    }\n",
              "\n",
              "    .colab-df-convert {\n",
              "      background-color: #E8F0FE;\n",
              "      border: none;\n",
              "      border-radius: 50%;\n",
              "      cursor: pointer;\n",
              "      display: none;\n",
              "      fill: #1967D2;\n",
              "      height: 32px;\n",
              "      padding: 0 0 0 0;\n",
              "      width: 32px;\n",
              "    }\n",
              "\n",
              "    .colab-df-convert:hover {\n",
              "      background-color: #E2EBFA;\n",
              "      box-shadow: 0px 1px 2px rgba(60, 64, 67, 0.3), 0px 1px 3px 1px rgba(60, 64, 67, 0.15);\n",
              "      fill: #174EA6;\n",
              "    }\n",
              "\n",
              "    [theme=dark] .colab-df-convert {\n",
              "      background-color: #3B4455;\n",
              "      fill: #D2E3FC;\n",
              "    }\n",
              "\n",
              "    [theme=dark] .colab-df-convert:hover {\n",
              "      background-color: #434B5C;\n",
              "      box-shadow: 0px 1px 3px 1px rgba(0, 0, 0, 0.15);\n",
              "      filter: drop-shadow(0px 1px 2px rgba(0, 0, 0, 0.3));\n",
              "      fill: #FFFFFF;\n",
              "    }\n",
              "  </style>\n",
              "\n",
              "      <script>\n",
              "        const buttonEl =\n",
              "          document.querySelector('#df-caf7bb6a-17f0-4680-b9c4-ffe825029cdb button.colab-df-convert');\n",
              "        buttonEl.style.display =\n",
              "          google.colab.kernel.accessAllowed ? 'block' : 'none';\n",
              "\n",
              "        async function convertToInteractive(key) {\n",
              "          const element = document.querySelector('#df-caf7bb6a-17f0-4680-b9c4-ffe825029cdb');\n",
              "          const dataTable =\n",
              "            await google.colab.kernel.invokeFunction('convertToInteractive',\n",
              "                                                     [key], {});\n",
              "          if (!dataTable) return;\n",
              "\n",
              "          const docLinkHtml = 'Like what you see? Visit the ' +\n",
              "            '<a target=\"_blank\" href=https://colab.research.google.com/notebooks/data_table.ipynb>data table notebook</a>'\n",
              "            + ' to learn more about interactive tables.';\n",
              "          element.innerHTML = '';\n",
              "          dataTable['output_type'] = 'display_data';\n",
              "          await google.colab.output.renderOutput(dataTable, element);\n",
              "          const docLink = document.createElement('div');\n",
              "          docLink.innerHTML = docLinkHtml;\n",
              "          element.appendChild(docLink);\n",
              "        }\n",
              "      </script>\n",
              "    </div>\n",
              "  </div>\n",
              "  "
            ]
          },
          "metadata": {},
          "execution_count": 102
        }
      ]
    },
    {
      "cell_type": "markdown",
      "source": [
        "Scaling the resampled data as well"
      ],
      "metadata": {
        "id": "ggGrFQ19e-jm"
      }
    },
    {
      "cell_type": "code",
      "source": [
        "# List for columns to scale\n",
        "cols_to_scale = ['Term','Interest_Rate','Employment_Duration','Debit_to_Income','Inquires__six_months','Public_Record',\n",
        "'Available_Accounts','Loan_Amount','Funded_Amount_Investor']\n",
        "\n",
        "# Create scaler\n",
        "scaler2 = StandardScaler()\n",
        "\n",
        "# Create a copy of the datasets\n",
        "X_resampled_scaled = X_resampled.copy()\n",
        "\n",
        "# Scale selected data\n",
        "X_resampled_scaled[cols_to_scale] = scaler2.fit_transform(X_resampled[cols_to_scale])\n",
        "X_resampled_scaled = pd.DataFrame(X_resampled_scaled, columns = X_resampled.columns)"
      ],
      "metadata": {
        "id": "DCHYoLjFd_Lo"
      },
      "execution_count": 109,
      "outputs": []
    },
    {
      "cell_type": "code",
      "source": [
        "X_resampled_scaled = X_resampled_scaled.drop([\"ID\"], axis=1)"
      ],
      "metadata": {
        "id": "H_AYoNqTfmOu"
      },
      "execution_count": 110,
      "outputs": []
    },
    {
      "cell_type": "code",
      "source": [
        "X_resampled_scaled"
      ],
      "metadata": {
        "colab": {
          "base_uri": "https://localhost:8080/",
          "height": 488
        },
        "id": "-waXOnsPfuQS",
        "outputId": "5ba47669-fb2b-45e8-a36b-4e6ac4973b0a"
      },
      "execution_count": 111,
      "outputs": [
        {
          "output_type": "execute_result",
          "data": {
            "text/plain": [
              "       Loan_Amount  Funded_Amount  Funded_Amount_Investor      Term  \\\n",
              "0         0.427446          13277               -0.998348  0.300005   \n",
              "1         0.598299          11512               -0.411146  0.300005   \n",
              "2         0.070996           7303               -1.948740 -0.009596   \n",
              "3         0.043835          10782               -0.714109  0.300005   \n",
              "4         0.705647          31052                0.957784  0.300005   \n",
              "...            ...            ...                     ...       ...   \n",
              "97949     0.000120           8738                1.263951 -0.009596   \n",
              "97950     0.239391          18399               -0.408061 -0.009596   \n",
              "97951     1.072315          17776               -0.295594  0.300005   \n",
              "97952    -0.762186          23198               -0.469296  0.300005   \n",
              "97953    -0.081233          25922               -0.751047 -0.009596   \n",
              "\n",
              "       Batch_Enrolled  Interest_Rate  Grade  Sub_Grade  Employment_Duration  \\\n",
              "0                  20      -0.294049      0          5            -0.824988   \n",
              "1                  16      -1.320193      3          9            -0.824988   \n",
              "2                   7      -1.221586      1          8             0.348906   \n",
              "3                   4      -0.596034      0         13            -0.824988   \n",
              "4                  12       1.429924      2         18             0.348906   \n",
              "...               ...            ...    ...        ...                  ...   \n",
              "97949              34       0.416804      0          4            -0.824988   \n",
              "97950              24      -0.092557      2         19             0.348906   \n",
              "97951              17      -0.711327      2         11            -0.824988   \n",
              "97952              13       0.255059      3         11             0.348906   \n",
              "97953               8      -0.485442      1         19             0.348906   \n",
              "\n",
              "       Home_Ownership  ...  Inquires__six_months  Public_Record  \\\n",
              "0        94624.724420  ...             -0.263434      -0.186424   \n",
              "1        88626.351220  ...              2.300085      -0.186424   \n",
              "2        85355.981630  ...              2.300085       3.221752   \n",
              "3        33707.220950  ...             -0.263434      -0.186424   \n",
              "4        59947.187550  ...             -0.263434      -0.186424   \n",
              "...               ...  ...                   ...            ...   \n",
              "97949    58609.632985  ...             -0.263434      -0.186424   \n",
              "97950    57971.118656  ...             -0.263434      -0.186424   \n",
              "97951    55763.503660  ...             -0.263434      -0.186424   \n",
              "97952    94618.535420  ...             -0.263434      -0.186424   \n",
              "97953    37214.240138  ...             -0.263434      -0.186424   \n",
              "\n",
              "       Revolving_Balance  Revolving_Utilities  Initial_List_Status  \\\n",
              "0                   8145            27.446031                    1   \n",
              "1                  22940            18.454492                    0   \n",
              "2                  37043            62.072446                    0   \n",
              "3                   3941            88.025882                    1   \n",
              "4                   7399            21.221142                    0   \n",
              "...                  ...                  ...                  ...   \n",
              "97949               8206            56.372383                    1   \n",
              "97950               2885            67.469462                    0   \n",
              "97951               5980            54.678083                    0   \n",
              "97952              17605            12.301151                    0   \n",
              "97953               6787            43.483231                    1   \n",
              "\n",
              "       Total_Received_Interest  Last_week_Pay  Total_Current_Balance  \\\n",
              "0                   830.012175            134                 164193   \n",
              "1                  2607.692362             85                  14454   \n",
              "2                  1170.081118             36                 404290   \n",
              "3                    67.653421             65                 179218   \n",
              "4                  5097.182332            122                  52602   \n",
              "...                        ...            ...                    ...   \n",
              "97949              2409.229796             88                 127892   \n",
              "97950              1670.825887             81                  47278   \n",
              "97951               627.052689             42                 185153   \n",
              "97952              1792.293464             43                  56074   \n",
              "97953              1932.893224             73                  96898   \n",
              "\n",
              "       Total_Revolving_Credit_Limit  Available_Accounts  \n",
              "0                             20871            0.671833  \n",
              "1                             53801            0.671833  \n",
              "2                             38265           -0.888152  \n",
              "3                             26360            0.203838  \n",
              "4                              2815           -0.732153  \n",
              "...                             ...                 ...  \n",
              "97949                         11597            0.359836  \n",
              "97950                          6310            0.203838  \n",
              "97951                          4712           -0.732153  \n",
              "97952                         19983            0.827832  \n",
              "97953                          6112            1.607824  \n",
              "\n",
              "[97954 rows x 24 columns]"
            ],
            "text/html": [
              "\n",
              "  <div id=\"df-d2274031-0ab1-47ba-bf88-f47ae169810d\">\n",
              "    <div class=\"colab-df-container\">\n",
              "      <div>\n",
              "<style scoped>\n",
              "    .dataframe tbody tr th:only-of-type {\n",
              "        vertical-align: middle;\n",
              "    }\n",
              "\n",
              "    .dataframe tbody tr th {\n",
              "        vertical-align: top;\n",
              "    }\n",
              "\n",
              "    .dataframe thead th {\n",
              "        text-align: right;\n",
              "    }\n",
              "</style>\n",
              "<table border=\"1\" class=\"dataframe\">\n",
              "  <thead>\n",
              "    <tr style=\"text-align: right;\">\n",
              "      <th></th>\n",
              "      <th>Loan_Amount</th>\n",
              "      <th>Funded_Amount</th>\n",
              "      <th>Funded_Amount_Investor</th>\n",
              "      <th>Term</th>\n",
              "      <th>Batch_Enrolled</th>\n",
              "      <th>Interest_Rate</th>\n",
              "      <th>Grade</th>\n",
              "      <th>Sub_Grade</th>\n",
              "      <th>Employment_Duration</th>\n",
              "      <th>Home_Ownership</th>\n",
              "      <th>...</th>\n",
              "      <th>Inquires__six_months</th>\n",
              "      <th>Public_Record</th>\n",
              "      <th>Revolving_Balance</th>\n",
              "      <th>Revolving_Utilities</th>\n",
              "      <th>Initial_List_Status</th>\n",
              "      <th>Total_Received_Interest</th>\n",
              "      <th>Last_week_Pay</th>\n",
              "      <th>Total_Current_Balance</th>\n",
              "      <th>Total_Revolving_Credit_Limit</th>\n",
              "      <th>Available_Accounts</th>\n",
              "    </tr>\n",
              "  </thead>\n",
              "  <tbody>\n",
              "    <tr>\n",
              "      <th>0</th>\n",
              "      <td>0.427446</td>\n",
              "      <td>13277</td>\n",
              "      <td>-0.998348</td>\n",
              "      <td>0.300005</td>\n",
              "      <td>20</td>\n",
              "      <td>-0.294049</td>\n",
              "      <td>0</td>\n",
              "      <td>5</td>\n",
              "      <td>-0.824988</td>\n",
              "      <td>94624.724420</td>\n",
              "      <td>...</td>\n",
              "      <td>-0.263434</td>\n",
              "      <td>-0.186424</td>\n",
              "      <td>8145</td>\n",
              "      <td>27.446031</td>\n",
              "      <td>1</td>\n",
              "      <td>830.012175</td>\n",
              "      <td>134</td>\n",
              "      <td>164193</td>\n",
              "      <td>20871</td>\n",
              "      <td>0.671833</td>\n",
              "    </tr>\n",
              "    <tr>\n",
              "      <th>1</th>\n",
              "      <td>0.598299</td>\n",
              "      <td>11512</td>\n",
              "      <td>-0.411146</td>\n",
              "      <td>0.300005</td>\n",
              "      <td>16</td>\n",
              "      <td>-1.320193</td>\n",
              "      <td>3</td>\n",
              "      <td>9</td>\n",
              "      <td>-0.824988</td>\n",
              "      <td>88626.351220</td>\n",
              "      <td>...</td>\n",
              "      <td>2.300085</td>\n",
              "      <td>-0.186424</td>\n",
              "      <td>22940</td>\n",
              "      <td>18.454492</td>\n",
              "      <td>0</td>\n",
              "      <td>2607.692362</td>\n",
              "      <td>85</td>\n",
              "      <td>14454</td>\n",
              "      <td>53801</td>\n",
              "      <td>0.671833</td>\n",
              "    </tr>\n",
              "    <tr>\n",
              "      <th>2</th>\n",
              "      <td>0.070996</td>\n",
              "      <td>7303</td>\n",
              "      <td>-1.948740</td>\n",
              "      <td>-0.009596</td>\n",
              "      <td>7</td>\n",
              "      <td>-1.221586</td>\n",
              "      <td>1</td>\n",
              "      <td>8</td>\n",
              "      <td>0.348906</td>\n",
              "      <td>85355.981630</td>\n",
              "      <td>...</td>\n",
              "      <td>2.300085</td>\n",
              "      <td>3.221752</td>\n",
              "      <td>37043</td>\n",
              "      <td>62.072446</td>\n",
              "      <td>0</td>\n",
              "      <td>1170.081118</td>\n",
              "      <td>36</td>\n",
              "      <td>404290</td>\n",
              "      <td>38265</td>\n",
              "      <td>-0.888152</td>\n",
              "    </tr>\n",
              "    <tr>\n",
              "      <th>3</th>\n",
              "      <td>0.043835</td>\n",
              "      <td>10782</td>\n",
              "      <td>-0.714109</td>\n",
              "      <td>0.300005</td>\n",
              "      <td>4</td>\n",
              "      <td>-0.596034</td>\n",
              "      <td>0</td>\n",
              "      <td>13</td>\n",
              "      <td>-0.824988</td>\n",
              "      <td>33707.220950</td>\n",
              "      <td>...</td>\n",
              "      <td>-0.263434</td>\n",
              "      <td>-0.186424</td>\n",
              "      <td>3941</td>\n",
              "      <td>88.025882</td>\n",
              "      <td>1</td>\n",
              "      <td>67.653421</td>\n",
              "      <td>65</td>\n",
              "      <td>179218</td>\n",
              "      <td>26360</td>\n",
              "      <td>0.203838</td>\n",
              "    </tr>\n",
              "    <tr>\n",
              "      <th>4</th>\n",
              "      <td>0.705647</td>\n",
              "      <td>31052</td>\n",
              "      <td>0.957784</td>\n",
              "      <td>0.300005</td>\n",
              "      <td>12</td>\n",
              "      <td>1.429924</td>\n",
              "      <td>2</td>\n",
              "      <td>18</td>\n",
              "      <td>0.348906</td>\n",
              "      <td>59947.187550</td>\n",
              "      <td>...</td>\n",
              "      <td>-0.263434</td>\n",
              "      <td>-0.186424</td>\n",
              "      <td>7399</td>\n",
              "      <td>21.221142</td>\n",
              "      <td>0</td>\n",
              "      <td>5097.182332</td>\n",
              "      <td>122</td>\n",
              "      <td>52602</td>\n",
              "      <td>2815</td>\n",
              "      <td>-0.732153</td>\n",
              "    </tr>\n",
              "    <tr>\n",
              "      <th>...</th>\n",
              "      <td>...</td>\n",
              "      <td>...</td>\n",
              "      <td>...</td>\n",
              "      <td>...</td>\n",
              "      <td>...</td>\n",
              "      <td>...</td>\n",
              "      <td>...</td>\n",
              "      <td>...</td>\n",
              "      <td>...</td>\n",
              "      <td>...</td>\n",
              "      <td>...</td>\n",
              "      <td>...</td>\n",
              "      <td>...</td>\n",
              "      <td>...</td>\n",
              "      <td>...</td>\n",
              "      <td>...</td>\n",
              "      <td>...</td>\n",
              "      <td>...</td>\n",
              "      <td>...</td>\n",
              "      <td>...</td>\n",
              "      <td>...</td>\n",
              "    </tr>\n",
              "    <tr>\n",
              "      <th>97949</th>\n",
              "      <td>0.000120</td>\n",
              "      <td>8738</td>\n",
              "      <td>1.263951</td>\n",
              "      <td>-0.009596</td>\n",
              "      <td>34</td>\n",
              "      <td>0.416804</td>\n",
              "      <td>0</td>\n",
              "      <td>4</td>\n",
              "      <td>-0.824988</td>\n",
              "      <td>58609.632985</td>\n",
              "      <td>...</td>\n",
              "      <td>-0.263434</td>\n",
              "      <td>-0.186424</td>\n",
              "      <td>8206</td>\n",
              "      <td>56.372383</td>\n",
              "      <td>1</td>\n",
              "      <td>2409.229796</td>\n",
              "      <td>88</td>\n",
              "      <td>127892</td>\n",
              "      <td>11597</td>\n",
              "      <td>0.359836</td>\n",
              "    </tr>\n",
              "    <tr>\n",
              "      <th>97950</th>\n",
              "      <td>0.239391</td>\n",
              "      <td>18399</td>\n",
              "      <td>-0.408061</td>\n",
              "      <td>-0.009596</td>\n",
              "      <td>24</td>\n",
              "      <td>-0.092557</td>\n",
              "      <td>2</td>\n",
              "      <td>19</td>\n",
              "      <td>0.348906</td>\n",
              "      <td>57971.118656</td>\n",
              "      <td>...</td>\n",
              "      <td>-0.263434</td>\n",
              "      <td>-0.186424</td>\n",
              "      <td>2885</td>\n",
              "      <td>67.469462</td>\n",
              "      <td>0</td>\n",
              "      <td>1670.825887</td>\n",
              "      <td>81</td>\n",
              "      <td>47278</td>\n",
              "      <td>6310</td>\n",
              "      <td>0.203838</td>\n",
              "    </tr>\n",
              "    <tr>\n",
              "      <th>97951</th>\n",
              "      <td>1.072315</td>\n",
              "      <td>17776</td>\n",
              "      <td>-0.295594</td>\n",
              "      <td>0.300005</td>\n",
              "      <td>17</td>\n",
              "      <td>-0.711327</td>\n",
              "      <td>2</td>\n",
              "      <td>11</td>\n",
              "      <td>-0.824988</td>\n",
              "      <td>55763.503660</td>\n",
              "      <td>...</td>\n",
              "      <td>-0.263434</td>\n",
              "      <td>-0.186424</td>\n",
              "      <td>5980</td>\n",
              "      <td>54.678083</td>\n",
              "      <td>0</td>\n",
              "      <td>627.052689</td>\n",
              "      <td>42</td>\n",
              "      <td>185153</td>\n",
              "      <td>4712</td>\n",
              "      <td>-0.732153</td>\n",
              "    </tr>\n",
              "    <tr>\n",
              "      <th>97952</th>\n",
              "      <td>-0.762186</td>\n",
              "      <td>23198</td>\n",
              "      <td>-0.469296</td>\n",
              "      <td>0.300005</td>\n",
              "      <td>13</td>\n",
              "      <td>0.255059</td>\n",
              "      <td>3</td>\n",
              "      <td>11</td>\n",
              "      <td>0.348906</td>\n",
              "      <td>94618.535420</td>\n",
              "      <td>...</td>\n",
              "      <td>-0.263434</td>\n",
              "      <td>-0.186424</td>\n",
              "      <td>17605</td>\n",
              "      <td>12.301151</td>\n",
              "      <td>0</td>\n",
              "      <td>1792.293464</td>\n",
              "      <td>43</td>\n",
              "      <td>56074</td>\n",
              "      <td>19983</td>\n",
              "      <td>0.827832</td>\n",
              "    </tr>\n",
              "    <tr>\n",
              "      <th>97953</th>\n",
              "      <td>-0.081233</td>\n",
              "      <td>25922</td>\n",
              "      <td>-0.751047</td>\n",
              "      <td>-0.009596</td>\n",
              "      <td>8</td>\n",
              "      <td>-0.485442</td>\n",
              "      <td>1</td>\n",
              "      <td>19</td>\n",
              "      <td>0.348906</td>\n",
              "      <td>37214.240138</td>\n",
              "      <td>...</td>\n",
              "      <td>-0.263434</td>\n",
              "      <td>-0.186424</td>\n",
              "      <td>6787</td>\n",
              "      <td>43.483231</td>\n",
              "      <td>1</td>\n",
              "      <td>1932.893224</td>\n",
              "      <td>73</td>\n",
              "      <td>96898</td>\n",
              "      <td>6112</td>\n",
              "      <td>1.607824</td>\n",
              "    </tr>\n",
              "  </tbody>\n",
              "</table>\n",
              "<p>97954 rows × 24 columns</p>\n",
              "</div>\n",
              "      <button class=\"colab-df-convert\" onclick=\"convertToInteractive('df-d2274031-0ab1-47ba-bf88-f47ae169810d')\"\n",
              "              title=\"Convert this dataframe to an interactive table.\"\n",
              "              style=\"display:none;\">\n",
              "        \n",
              "  <svg xmlns=\"http://www.w3.org/2000/svg\" height=\"24px\"viewBox=\"0 0 24 24\"\n",
              "       width=\"24px\">\n",
              "    <path d=\"M0 0h24v24H0V0z\" fill=\"none\"/>\n",
              "    <path d=\"M18.56 5.44l.94 2.06.94-2.06 2.06-.94-2.06-.94-.94-2.06-.94 2.06-2.06.94zm-11 1L8.5 8.5l.94-2.06 2.06-.94-2.06-.94L8.5 2.5l-.94 2.06-2.06.94zm10 10l.94 2.06.94-2.06 2.06-.94-2.06-.94-.94-2.06-.94 2.06-2.06.94z\"/><path d=\"M17.41 7.96l-1.37-1.37c-.4-.4-.92-.59-1.43-.59-.52 0-1.04.2-1.43.59L10.3 9.45l-7.72 7.72c-.78.78-.78 2.05 0 2.83L4 21.41c.39.39.9.59 1.41.59.51 0 1.02-.2 1.41-.59l7.78-7.78 2.81-2.81c.8-.78.8-2.07 0-2.86zM5.41 20L4 18.59l7.72-7.72 1.47 1.35L5.41 20z\"/>\n",
              "  </svg>\n",
              "      </button>\n",
              "      \n",
              "  <style>\n",
              "    .colab-df-container {\n",
              "      display:flex;\n",
              "      flex-wrap:wrap;\n",
              "      gap: 12px;\n",
              "    }\n",
              "\n",
              "    .colab-df-convert {\n",
              "      background-color: #E8F0FE;\n",
              "      border: none;\n",
              "      border-radius: 50%;\n",
              "      cursor: pointer;\n",
              "      display: none;\n",
              "      fill: #1967D2;\n",
              "      height: 32px;\n",
              "      padding: 0 0 0 0;\n",
              "      width: 32px;\n",
              "    }\n",
              "\n",
              "    .colab-df-convert:hover {\n",
              "      background-color: #E2EBFA;\n",
              "      box-shadow: 0px 1px 2px rgba(60, 64, 67, 0.3), 0px 1px 3px 1px rgba(60, 64, 67, 0.15);\n",
              "      fill: #174EA6;\n",
              "    }\n",
              "\n",
              "    [theme=dark] .colab-df-convert {\n",
              "      background-color: #3B4455;\n",
              "      fill: #D2E3FC;\n",
              "    }\n",
              "\n",
              "    [theme=dark] .colab-df-convert:hover {\n",
              "      background-color: #434B5C;\n",
              "      box-shadow: 0px 1px 3px 1px rgba(0, 0, 0, 0.15);\n",
              "      filter: drop-shadow(0px 1px 2px rgba(0, 0, 0, 0.3));\n",
              "      fill: #FFFFFF;\n",
              "    }\n",
              "  </style>\n",
              "\n",
              "      <script>\n",
              "        const buttonEl =\n",
              "          document.querySelector('#df-d2274031-0ab1-47ba-bf88-f47ae169810d button.colab-df-convert');\n",
              "        buttonEl.style.display =\n",
              "          google.colab.kernel.accessAllowed ? 'block' : 'none';\n",
              "\n",
              "        async function convertToInteractive(key) {\n",
              "          const element = document.querySelector('#df-d2274031-0ab1-47ba-bf88-f47ae169810d');\n",
              "          const dataTable =\n",
              "            await google.colab.kernel.invokeFunction('convertToInteractive',\n",
              "                                                     [key], {});\n",
              "          if (!dataTable) return;\n",
              "\n",
              "          const docLinkHtml = 'Like what you see? Visit the ' +\n",
              "            '<a target=\"_blank\" href=https://colab.research.google.com/notebooks/data_table.ipynb>data table notebook</a>'\n",
              "            + ' to learn more about interactive tables.';\n",
              "          element.innerHTML = '';\n",
              "          dataTable['output_type'] = 'display_data';\n",
              "          await google.colab.output.renderOutput(dataTable, element);\n",
              "          const docLink = document.createElement('div');\n",
              "          docLink.innerHTML = docLinkHtml;\n",
              "          element.appendChild(docLink);\n",
              "        }\n",
              "      </script>\n",
              "    </div>\n",
              "  </div>\n",
              "  "
            ]
          },
          "metadata": {},
          "execution_count": 111
        }
      ]
    },
    {
      "cell_type": "markdown",
      "source": [
        "##Feature Selection"
      ],
      "metadata": {
        "id": "Q4Xk686of2Hl"
      }
    },
    {
      "cell_type": "code",
      "source": [
        "# Defin feature selection \n",
        "selector = SelectKBest(mutual_info_classif, k = 16)\n",
        "\n",
        "# Apply transformation to the training set\n",
        "X_new = selector.fit_transform(X_train_scaled, y_train)  \n",
        "\n",
        "# Get names of the selected features\n",
        "mask = selector.get_support()     \n",
        "\n",
        "# Scores for selected features\n",
        "print(selector.scores_)     \n",
        "\n",
        "# Get a list of selected features\n",
        "new_features = X_train_scaled.columns[mask]\n",
        "print(new_features)   \n",
        "\n",
        "X_tr = X_train_scaled[new_features]\n",
        "test = test_scaled[new_features]"
      ],
      "metadata": {
        "colab": {
          "base_uri": "https://localhost:8080/"
        },
        "id": "tcKHOAyOf37W",
        "outputId": "dc231372-702e-41e6-b413-3175f64a887b"
      },
      "execution_count": 114,
      "outputs": [
        {
          "output_type": "stream",
          "name": "stdout",
          "text": [
            "[0.00197845 0.00065069 0.         0.         0.00108242 0.00081738\n",
            " 0.00306134 0.         0.00463012 0.         0.00443009 0.00585094\n",
            " 0.00049324 0.         0.00326649 0.00347029 0.00179991 0.00234607\n",
            " 0.00385194 0.00100605 0.         0.         0.00042285 0.00174406]\n",
            "Index(['Loan_Amount', 'Funded_Amount', 'Batch_Enrolled', 'Interest_Rate',\n",
            "       'Grade', 'Employment_Duration', 'Verification_Status', 'Loan_Title',\n",
            "       'Debit_to_Income', 'Inquires__six_months', 'Public_Record',\n",
            "       'Revolving_Balance', 'Revolving_Utilities', 'Initial_List_Status',\n",
            "       'Total_Received_Interest', 'Available_Accounts'],\n",
            "      dtype='object')\n"
          ]
        }
      ]
    },
    {
      "cell_type": "code",
      "source": [
        "X_tst = X_test_scaled[new_features]"
      ],
      "metadata": {
        "id": "_MmczIzx2XKx"
      },
      "execution_count": 145,
      "outputs": []
    },
    {
      "cell_type": "code",
      "source": [
        "# X_resampled = X_resampled[new_features]"
      ],
      "metadata": {
        "id": "bTAcRMSE_yiU"
      },
      "execution_count": 158,
      "outputs": []
    },
    {
      "cell_type": "code",
      "source": [
        "X_tr = X_tr.reset_index(drop=True)"
      ],
      "metadata": {
        "id": "_i8s35nAmdrQ"
      },
      "execution_count": 123,
      "outputs": []
    },
    {
      "cell_type": "code",
      "source": [
        "y_train = y_train.reset_index(drop=True)"
      ],
      "metadata": {
        "id": "XTHl3k7FmsM_"
      },
      "execution_count": 126,
      "outputs": []
    },
    {
      "cell_type": "code",
      "source": [
        "X_tst = X_tst.reset_index(drop=True)\n",
        "y_test = y_test.reset_index(drop=True)"
      ],
      "metadata": {
        "id": "ZQdFHBRm3ZH0"
      },
      "execution_count": 146,
      "outputs": []
    },
    {
      "cell_type": "code",
      "source": [
        "X_resampled = X_resampled.reset_index(drop=True)\n",
        "y_resampled = y_resampled.reset_index(drop=True)"
      ],
      "metadata": {
        "id": "wppOAWLk_98Q"
      },
      "execution_count": 177,
      "outputs": []
    },
    {
      "cell_type": "markdown",
      "source": [
        "##Building Machine Learning Models"
      ],
      "metadata": {
        "id": "rNQ1G5mjke1y"
      }
    },
    {
      "cell_type": "markdown",
      "source": [
        "###Training on data with original distribution"
      ],
      "metadata": {
        "id": "TNAn8Fps_NU3"
      }
    },
    {
      "cell_type": "code",
      "source": [
        "from sklearn.model_selection import StratifiedKFold, RandomizedSearchCV\n",
        "from sklearn.metrics import log_loss, classification_report\n",
        "from sklearn.linear_model import LogisticRegression\n",
        "from sklearn.ensemble import RandomForestClassifier"
      ],
      "metadata": {
        "id": "EpWoJ2EpkvMe"
      },
      "execution_count": 150,
      "outputs": []
    },
    {
      "cell_type": "code",
      "source": [
        "# Implement cross validation\n",
        "def stkfold_cv(X, y, algorithm, params,n_jobs=-1):\n",
        "    skf = StratifiedKFold(n_splits=5,shuffle=True,random_state=42)\n",
        " \n",
        " \n",
        "    for train_index , test_index in skf.split(X,y):\n",
        "        X_train , X_test = X.iloc[train_index,:],X.iloc[test_index,:]\n",
        "        y_train , y_test = y[train_index] , y[test_index]\n",
        "\n",
        "        model = algorithm(**params) \n",
        "        model.fit(X_train,y_train)\n",
        "        pred = model.predict_proba(X_test)[:,1]\n",
        "        pred_clipped = np.clip(pred,0.05,0.95)\n",
        "\n",
        "        score = log_loss(y_test, pred)\n",
        "        print(f'Log-loss: {score}')\n",
        "        \n",
        "    return model"
      ],
      "metadata": {
        "id": "yrjI-vKwjFmN"
      },
      "execution_count": 128,
      "outputs": []
    },
    {
      "cell_type": "markdown",
      "source": [
        "####Model 1"
      ],
      "metadata": {
        "id": "Fn5IT7fWlIfv"
      }
    },
    {
      "cell_type": "code",
      "source": [
        "## Initial Logit model\n",
        "logit_params = {}\n",
        "logit_model = stkfold_cv(X_tr,y_train,LogisticRegression,logit_params)"
      ],
      "metadata": {
        "colab": {
          "base_uri": "https://localhost:8080/"
        },
        "id": "SL8F8QS5k67b",
        "outputId": "b97adb47-d520-490a-87aa-16b60b384fca"
      },
      "execution_count": 129,
      "outputs": [
        {
          "output_type": "stream",
          "name": "stdout",
          "text": [
            "Log-loss: 0.31621730134018255\n",
            "Log-loss: 0.3152197225897798\n",
            "Log-loss: 0.3175264980266242\n",
            "Log-loss: 0.3159582542469688\n",
            "Log-loss: 0.31339358580536497\n"
          ]
        }
      ]
    },
    {
      "cell_type": "markdown",
      "source": [
        "Hyperparameter Tuning to improve the model"
      ],
      "metadata": {
        "id": "JBJSCRXToSID"
      }
    },
    {
      "cell_type": "code",
      "source": [
        "# Define a grid of parameters\n",
        "param_grid = {'penalty': ['l1','l2'],\n",
        "'C': [0.001,0.01,0.1,1,10,100],}\n",
        "\n",
        "# Initialize grid search\n",
        "classifier = LogisticRegression(n_jobs=-1,random_state=42)\n",
        "\n",
        "model = RandomizedSearchCV(estimator=classifier,\n",
        "param_distributions=param_grid,\n",
        "scoring='neg_log_loss',\n",
        "verbose=10,\n",
        "n_jobs=1,\n",
        "cv=StratifiedKFold(5,shuffle=True))\n",
        "\n",
        "# Fit the model and extract best score\n",
        "model.fit(X_tr, y_train)\n",
        "print(f'Best score: {model.best_score_}')\n",
        "print('Best parameters set:')\n",
        "best_parameters = model.best_estimator_.get_params()\n",
        "for param_name in sorted(param_grid.keys()):\n",
        "    print(f'\\t{param_name}: {best_parameters[param_name]}')"
      ],
      "metadata": {
        "colab": {
          "base_uri": "https://localhost:8080/"
        },
        "id": "gOpKCo7VoaPI",
        "outputId": "e27c6a1d-b1d4-40fa-9d25-b3d9fc9c49f8"
      },
      "execution_count": 131,
      "outputs": [
        {
          "output_type": "stream",
          "name": "stdout",
          "text": [
            "Fitting 5 folds for each of 10 candidates, totalling 50 fits\n",
            "[CV 1/5; 1/10] START C=0.001, penalty=l2........................................\n",
            "[CV 1/5; 1/10] END ........C=0.001, penalty=l2;, score=-0.317 total time=   2.1s\n",
            "[CV 2/5; 1/10] START C=0.001, penalty=l2........................................\n",
            "[CV 2/5; 1/10] END ........C=0.001, penalty=l2;, score=-0.317 total time=   1.6s\n",
            "[CV 3/5; 1/10] START C=0.001, penalty=l2........................................\n",
            "[CV 3/5; 1/10] END ........C=0.001, penalty=l2;, score=-0.315 total time=   1.2s\n",
            "[CV 4/5; 1/10] START C=0.001, penalty=l2........................................\n",
            "[CV 4/5; 1/10] END ........C=0.001, penalty=l2;, score=-0.314 total time=   1.3s\n",
            "[CV 5/5; 1/10] START C=0.001, penalty=l2........................................\n",
            "[CV 5/5; 1/10] END ........C=0.001, penalty=l2;, score=-0.315 total time=   1.2s\n",
            "[CV 1/5; 2/10] START C=100, penalty=l2..........................................\n",
            "[CV 1/5; 2/10] END ..........C=100, penalty=l2;, score=-0.317 total time=   1.2s\n",
            "[CV 2/5; 2/10] START C=100, penalty=l2..........................................\n",
            "[CV 2/5; 2/10] END ..........C=100, penalty=l2;, score=-0.318 total time=   1.3s\n",
            "[CV 3/5; 2/10] START C=100, penalty=l2..........................................\n",
            "[CV 3/5; 2/10] END ..........C=100, penalty=l2;, score=-0.315 total time=   1.2s\n",
            "[CV 4/5; 2/10] START C=100, penalty=l2..........................................\n",
            "[CV 4/5; 2/10] END ..........C=100, penalty=l2;, score=-0.314 total time=   1.3s\n",
            "[CV 5/5; 2/10] START C=100, penalty=l2..........................................\n",
            "[CV 5/5; 2/10] END ..........C=100, penalty=l2;, score=-0.315 total time=   1.1s\n",
            "[CV 1/5; 3/10] START C=0.1, penalty=l1..........................................\n",
            "[CV 1/5; 3/10] END .............C=0.1, penalty=l1;, score=nan total time=   0.0s\n",
            "[CV 2/5; 3/10] START C=0.1, penalty=l1..........................................\n",
            "[CV 2/5; 3/10] END .............C=0.1, penalty=l1;, score=nan total time=   0.0s\n",
            "[CV 3/5; 3/10] START C=0.1, penalty=l1..........................................\n",
            "[CV 3/5; 3/10] END .............C=0.1, penalty=l1;, score=nan total time=   0.0s\n",
            "[CV 4/5; 3/10] START C=0.1, penalty=l1..........................................\n",
            "[CV 4/5; 3/10] END .............C=0.1, penalty=l1;, score=nan total time=   0.0s\n",
            "[CV 5/5; 3/10] START C=0.1, penalty=l1..........................................\n",
            "[CV 5/5; 3/10] END .............C=0.1, penalty=l1;, score=nan total time=   0.0s\n",
            "[CV 1/5; 4/10] START C=0.01, penalty=l2.........................................\n",
            "[CV 1/5; 4/10] END .........C=0.01, penalty=l2;, score=-0.317 total time=   1.2s\n",
            "[CV 2/5; 4/10] START C=0.01, penalty=l2.........................................\n",
            "[CV 2/5; 4/10] END .........C=0.01, penalty=l2;, score=-0.317 total time=   1.3s\n",
            "[CV 3/5; 4/10] START C=0.01, penalty=l2.........................................\n",
            "[CV 3/5; 4/10] END .........C=0.01, penalty=l2;, score=-0.315 total time=   1.1s\n",
            "[CV 4/5; 4/10] START C=0.01, penalty=l2.........................................\n",
            "[CV 4/5; 4/10] END .........C=0.01, penalty=l2;, score=-0.314 total time=   1.1s\n",
            "[CV 5/5; 4/10] START C=0.01, penalty=l2.........................................\n",
            "[CV 5/5; 4/10] END .........C=0.01, penalty=l2;, score=-0.315 total time=   1.2s\n",
            "[CV 1/5; 5/10] START C=1, penalty=l2............................................\n",
            "[CV 1/5; 5/10] END ............C=1, penalty=l2;, score=-0.317 total time=   1.3s\n",
            "[CV 2/5; 5/10] START C=1, penalty=l2............................................\n",
            "[CV 2/5; 5/10] END ............C=1, penalty=l2;, score=-0.317 total time=   1.4s\n",
            "[CV 3/5; 5/10] START C=1, penalty=l2............................................\n",
            "[CV 3/5; 5/10] END ............C=1, penalty=l2;, score=-0.315 total time=   1.2s\n",
            "[CV 4/5; 5/10] START C=1, penalty=l2............................................\n",
            "[CV 4/5; 5/10] END ............C=1, penalty=l2;, score=-0.314 total time=   1.3s\n",
            "[CV 5/5; 5/10] START C=1, penalty=l2............................................\n",
            "[CV 5/5; 5/10] END ............C=1, penalty=l2;, score=-0.315 total time=   1.3s\n",
            "[CV 1/5; 6/10] START C=10, penalty=l2...........................................\n",
            "[CV 1/5; 6/10] END ...........C=10, penalty=l2;, score=-0.317 total time=   1.2s\n",
            "[CV 2/5; 6/10] START C=10, penalty=l2...........................................\n",
            "[CV 2/5; 6/10] END ...........C=10, penalty=l2;, score=-0.317 total time=   1.4s\n",
            "[CV 3/5; 6/10] START C=10, penalty=l2...........................................\n",
            "[CV 3/5; 6/10] END ...........C=10, penalty=l2;, score=-0.315 total time=   1.2s\n",
            "[CV 4/5; 6/10] START C=10, penalty=l2...........................................\n",
            "[CV 4/5; 6/10] END ...........C=10, penalty=l2;, score=-0.314 total time=   1.3s\n",
            "[CV 5/5; 6/10] START C=10, penalty=l2...........................................\n",
            "[CV 5/5; 6/10] END ...........C=10, penalty=l2;, score=-0.315 total time=   1.0s\n",
            "[CV 1/5; 7/10] START C=0.1, penalty=l2..........................................\n",
            "[CV 1/5; 7/10] END ..........C=0.1, penalty=l2;, score=-0.317 total time=   1.3s\n",
            "[CV 2/5; 7/10] START C=0.1, penalty=l2..........................................\n",
            "[CV 2/5; 7/10] END ..........C=0.1, penalty=l2;, score=-0.317 total time=   1.4s\n",
            "[CV 3/5; 7/10] START C=0.1, penalty=l2..........................................\n",
            "[CV 3/5; 7/10] END ..........C=0.1, penalty=l2;, score=-0.315 total time=   1.2s\n",
            "[CV 4/5; 7/10] START C=0.1, penalty=l2..........................................\n",
            "[CV 4/5; 7/10] END ..........C=0.1, penalty=l2;, score=-0.314 total time=   1.4s\n",
            "[CV 5/5; 7/10] START C=0.1, penalty=l2..........................................\n",
            "[CV 5/5; 7/10] END ..........C=0.1, penalty=l2;, score=-0.315 total time=   1.1s\n",
            "[CV 1/5; 8/10] START C=100, penalty=l1..........................................\n",
            "[CV 1/5; 8/10] END .............C=100, penalty=l1;, score=nan total time=   0.0s\n",
            "[CV 2/5; 8/10] START C=100, penalty=l1..........................................\n",
            "[CV 2/5; 8/10] END .............C=100, penalty=l1;, score=nan total time=   0.0s\n",
            "[CV 3/5; 8/10] START C=100, penalty=l1..........................................\n",
            "[CV 3/5; 8/10] END .............C=100, penalty=l1;, score=nan total time=   0.0s\n",
            "[CV 4/5; 8/10] START C=100, penalty=l1..........................................\n",
            "[CV 4/5; 8/10] END .............C=100, penalty=l1;, score=nan total time=   0.0s\n",
            "[CV 5/5; 8/10] START C=100, penalty=l1..........................................\n",
            "[CV 5/5; 8/10] END .............C=100, penalty=l1;, score=nan total time=   0.0s\n",
            "[CV 1/5; 9/10] START C=1, penalty=l1............................................\n",
            "[CV 1/5; 9/10] END ...............C=1, penalty=l1;, score=nan total time=   0.0s\n",
            "[CV 2/5; 9/10] START C=1, penalty=l1............................................\n",
            "[CV 2/5; 9/10] END ...............C=1, penalty=l1;, score=nan total time=   0.0s\n",
            "[CV 3/5; 9/10] START C=1, penalty=l1............................................\n",
            "[CV 3/5; 9/10] END ...............C=1, penalty=l1;, score=nan total time=   0.0s\n",
            "[CV 4/5; 9/10] START C=1, penalty=l1............................................\n",
            "[CV 4/5; 9/10] END ...............C=1, penalty=l1;, score=nan total time=   0.0s\n",
            "[CV 5/5; 9/10] START C=1, penalty=l1............................................\n",
            "[CV 5/5; 9/10] END ...............C=1, penalty=l1;, score=nan total time=   0.0s\n",
            "[CV 1/5; 10/10] START C=0.01, penalty=l1........................................\n",
            "[CV 1/5; 10/10] END ...........C=0.01, penalty=l1;, score=nan total time=   0.0s\n",
            "[CV 2/5; 10/10] START C=0.01, penalty=l1........................................\n",
            "[CV 2/5; 10/10] END ...........C=0.01, penalty=l1;, score=nan total time=   0.0s\n",
            "[CV 3/5; 10/10] START C=0.01, penalty=l1........................................\n",
            "[CV 3/5; 10/10] END ...........C=0.01, penalty=l1;, score=nan total time=   0.0s\n",
            "[CV 4/5; 10/10] START C=0.01, penalty=l1........................................\n",
            "[CV 4/5; 10/10] END ...........C=0.01, penalty=l1;, score=nan total time=   0.0s\n",
            "[CV 5/5; 10/10] START C=0.01, penalty=l1........................................\n",
            "[CV 5/5; 10/10] END ...........C=0.01, penalty=l1;, score=nan total time=   0.0s\n",
            "Best score: -0.31560861439502225\n",
            "Best parameters set:\n",
            "\tC: 0.1\n",
            "\tpenalty: l2\n"
          ]
        }
      ]
    },
    {
      "cell_type": "markdown",
      "source": [
        "Training the Logistic regression model with tuned hyperparameters"
      ],
      "metadata": {
        "id": "OTmChMOUpZCH"
      }
    },
    {
      "cell_type": "code",
      "source": [
        "## Logit model with tuned hyperparameters\n",
        "logit_params = {'penalty':'l2','C': 0.1}\n",
        "logit_model = stkfold_cv(X_tr,y_train,LogisticRegression,logit_params)"
      ],
      "metadata": {
        "colab": {
          "base_uri": "https://localhost:8080/"
        },
        "id": "LmkUJ-PKpdzg",
        "outputId": "b16bfc95-c0db-4f4c-b9cb-e157bcb37861"
      },
      "execution_count": 132,
      "outputs": [
        {
          "output_type": "stream",
          "name": "stdout",
          "text": [
            "Log-loss: 0.3162037490681814\n",
            "Log-loss: 0.31521906529887356\n",
            "Log-loss: 0.31752489013090807\n",
            "Log-loss: 0.3159580339820675\n",
            "Log-loss: 0.3133935120069188\n"
          ]
        }
      ]
    },
    {
      "cell_type": "markdown",
      "source": [
        "####Model 2"
      ],
      "metadata": {
        "id": "rJwJtCPvqHTw"
      }
    },
    {
      "cell_type": "code",
      "source": [
        "## Initial Random Forest model\n",
        "rf_params = {}\n",
        "rf_model = stkfold_cv(X_tr, y_train,RandomForestClassifier,rf_params)"
      ],
      "metadata": {
        "colab": {
          "base_uri": "https://localhost:8080/"
        },
        "id": "BRRpmG3pqJWH",
        "outputId": "a59eb900-e04a-4575-fc7b-41956d7bad21"
      },
      "execution_count": 135,
      "outputs": [
        {
          "output_type": "stream",
          "name": "stdout",
          "text": [
            "Log-loss: 0.32404054799560705\n",
            "Log-loss: 0.3209209227494773\n",
            "Log-loss: 0.3190116241736597\n",
            "Log-loss: 0.3195336882012768\n",
            "Log-loss: 0.3210565519468517\n"
          ]
        }
      ]
    },
    {
      "cell_type": "code",
      "source": [
        "## Hyperparameter Tuning for Random Forest Classifier\n",
        "from sklearn import model_selection\n",
        "\n",
        "# Define a grid of parameters\n",
        "param_grid = {'n_estimators': [100, 200, 250, 300, 400, 500],\n",
        "'max_depth': [1, 2, 5, 7, 11, 15],\n",
        "'criterion': ['gini', 'entropy'],\n",
        "'min_samples_split': [1, 2, 5, 10, 15, 100],\n",
        "'min_samples_leaf': [1, 2, 5, 10],\n",
        "'max_features': ['log2', 'sqrt','None']}\n",
        "\n",
        "# Initialize randomized search\n",
        "classifier = RandomForestClassifier(n_jobs=-1,random_state=42)\n",
        "\n",
        "model = model_selection.RandomizedSearchCV(estimator=classifier,\n",
        "param_distributions=param_grid,\n",
        "scoring='neg_log_loss',\n",
        "verbose=10,\n",
        "n_jobs=1,\n",
        "cv=StratifiedKFold(5,shuffle=True))\n",
        "\n",
        "# Fit the model and extract best score\n",
        "model.fit(X_tr, y_train)\n",
        "print(f'Best score: {model.best_score_}')\n",
        "print('Best parameters set:')\n",
        "best_parameters = model.best_estimator_.get_params()\n",
        "for param_name in sorted(param_grid.keys()):\n",
        "    print(f'\\t{param_name}: {best_parameters[param_name]}')"
      ],
      "metadata": {
        "colab": {
          "base_uri": "https://localhost:8080/"
        },
        "id": "q17gG7rgr4LL",
        "outputId": "98069cb5-d2bc-43d4-cc47-03eefe2b3f6b"
      },
      "execution_count": 136,
      "outputs": [
        {
          "output_type": "stream",
          "name": "stdout",
          "text": [
            "Fitting 5 folds for each of 10 candidates, totalling 50 fits\n",
            "[CV 1/5; 1/10] START criterion=entropy, max_depth=7, max_features=log2, min_samples_leaf=10, min_samples_split=2, n_estimators=500\n",
            "[CV 1/5; 1/10] END criterion=entropy, max_depth=7, max_features=log2, min_samples_leaf=10, min_samples_split=2, n_estimators=500;, score=-0.308 total time=  40.8s\n",
            "[CV 2/5; 1/10] START criterion=entropy, max_depth=7, max_features=log2, min_samples_leaf=10, min_samples_split=2, n_estimators=500\n",
            "[CV 2/5; 1/10] END criterion=entropy, max_depth=7, max_features=log2, min_samples_leaf=10, min_samples_split=2, n_estimators=500;, score=-0.309 total time=  38.9s\n",
            "[CV 3/5; 1/10] START criterion=entropy, max_depth=7, max_features=log2, min_samples_leaf=10, min_samples_split=2, n_estimators=500\n",
            "[CV 3/5; 1/10] END criterion=entropy, max_depth=7, max_features=log2, min_samples_leaf=10, min_samples_split=2, n_estimators=500;, score=-0.308 total time=  38.9s\n",
            "[CV 4/5; 1/10] START criterion=entropy, max_depth=7, max_features=log2, min_samples_leaf=10, min_samples_split=2, n_estimators=500\n",
            "[CV 4/5; 1/10] END criterion=entropy, max_depth=7, max_features=log2, min_samples_leaf=10, min_samples_split=2, n_estimators=500;, score=-0.308 total time=  38.9s\n",
            "[CV 5/5; 1/10] START criterion=entropy, max_depth=7, max_features=log2, min_samples_leaf=10, min_samples_split=2, n_estimators=500\n",
            "[CV 5/5; 1/10] END criterion=entropy, max_depth=7, max_features=log2, min_samples_leaf=10, min_samples_split=2, n_estimators=500;, score=-0.308 total time=  39.1s\n",
            "[CV 1/5; 2/10] START criterion=entropy, max_depth=2, max_features=sqrt, min_samples_leaf=2, min_samples_split=10, n_estimators=500\n",
            "[CV 1/5; 2/10] END criterion=entropy, max_depth=2, max_features=sqrt, min_samples_leaf=2, min_samples_split=10, n_estimators=500;, score=-0.308 total time=  13.6s\n",
            "[CV 2/5; 2/10] START criterion=entropy, max_depth=2, max_features=sqrt, min_samples_leaf=2, min_samples_split=10, n_estimators=500\n",
            "[CV 2/5; 2/10] END criterion=entropy, max_depth=2, max_features=sqrt, min_samples_leaf=2, min_samples_split=10, n_estimators=500;, score=-0.308 total time=  13.7s\n",
            "[CV 3/5; 2/10] START criterion=entropy, max_depth=2, max_features=sqrt, min_samples_leaf=2, min_samples_split=10, n_estimators=500\n",
            "[CV 3/5; 2/10] END criterion=entropy, max_depth=2, max_features=sqrt, min_samples_leaf=2, min_samples_split=10, n_estimators=500;, score=-0.308 total time=  13.6s\n",
            "[CV 4/5; 2/10] START criterion=entropy, max_depth=2, max_features=sqrt, min_samples_leaf=2, min_samples_split=10, n_estimators=500\n",
            "[CV 4/5; 2/10] END criterion=entropy, max_depth=2, max_features=sqrt, min_samples_leaf=2, min_samples_split=10, n_estimators=500;, score=-0.308 total time=  13.8s\n",
            "[CV 5/5; 2/10] START criterion=entropy, max_depth=2, max_features=sqrt, min_samples_leaf=2, min_samples_split=10, n_estimators=500\n",
            "[CV 5/5; 2/10] END criterion=entropy, max_depth=2, max_features=sqrt, min_samples_leaf=2, min_samples_split=10, n_estimators=500;, score=-0.308 total time=  14.8s\n",
            "[CV 1/5; 3/10] START criterion=gini, max_depth=15, max_features=None, min_samples_leaf=2, min_samples_split=2, n_estimators=300\n",
            "[CV 1/5; 3/10] END criterion=gini, max_depth=15, max_features=None, min_samples_leaf=2, min_samples_split=2, n_estimators=300;, score=nan total time=   0.2s\n",
            "[CV 2/5; 3/10] START criterion=gini, max_depth=15, max_features=None, min_samples_leaf=2, min_samples_split=2, n_estimators=300\n",
            "[CV 2/5; 3/10] END criterion=gini, max_depth=15, max_features=None, min_samples_leaf=2, min_samples_split=2, n_estimators=300;, score=nan total time=   1.0s\n",
            "[CV 3/5; 3/10] START criterion=gini, max_depth=15, max_features=None, min_samples_leaf=2, min_samples_split=2, n_estimators=300\n",
            "[CV 3/5; 3/10] END criterion=gini, max_depth=15, max_features=None, min_samples_leaf=2, min_samples_split=2, n_estimators=300;, score=nan total time=   1.0s\n",
            "[CV 4/5; 3/10] START criterion=gini, max_depth=15, max_features=None, min_samples_leaf=2, min_samples_split=2, n_estimators=300\n",
            "[CV 4/5; 3/10] END criterion=gini, max_depth=15, max_features=None, min_samples_leaf=2, min_samples_split=2, n_estimators=300;, score=nan total time=   1.0s\n",
            "[CV 5/5; 3/10] START criterion=gini, max_depth=15, max_features=None, min_samples_leaf=2, min_samples_split=2, n_estimators=300\n",
            "[CV 5/5; 3/10] END criterion=gini, max_depth=15, max_features=None, min_samples_leaf=2, min_samples_split=2, n_estimators=300;, score=nan total time=   1.0s\n",
            "[CV 1/5; 4/10] START criterion=entropy, max_depth=1, max_features=log2, min_samples_leaf=1, min_samples_split=15, n_estimators=250\n",
            "[CV 1/5; 4/10] END criterion=entropy, max_depth=1, max_features=log2, min_samples_leaf=1, min_samples_split=15, n_estimators=250;, score=-0.308 total time=   5.1s\n",
            "[CV 2/5; 4/10] START criterion=entropy, max_depth=1, max_features=log2, min_samples_leaf=1, min_samples_split=15, n_estimators=250\n",
            "[CV 2/5; 4/10] END criterion=entropy, max_depth=1, max_features=log2, min_samples_leaf=1, min_samples_split=15, n_estimators=250;, score=-0.308 total time=   4.2s\n",
            "[CV 3/5; 4/10] START criterion=entropy, max_depth=1, max_features=log2, min_samples_leaf=1, min_samples_split=15, n_estimators=250\n",
            "[CV 3/5; 4/10] END criterion=entropy, max_depth=1, max_features=log2, min_samples_leaf=1, min_samples_split=15, n_estimators=250;, score=-0.308 total time=   4.2s\n",
            "[CV 4/5; 4/10] START criterion=entropy, max_depth=1, max_features=log2, min_samples_leaf=1, min_samples_split=15, n_estimators=250\n",
            "[CV 4/5; 4/10] END criterion=entropy, max_depth=1, max_features=log2, min_samples_leaf=1, min_samples_split=15, n_estimators=250;, score=-0.308 total time=   4.2s\n",
            "[CV 5/5; 4/10] START criterion=entropy, max_depth=1, max_features=log2, min_samples_leaf=1, min_samples_split=15, n_estimators=250\n",
            "[CV 5/5; 4/10] END criterion=entropy, max_depth=1, max_features=log2, min_samples_leaf=1, min_samples_split=15, n_estimators=250;, score=-0.308 total time=   4.3s\n",
            "[CV 1/5; 5/10] START criterion=entropy, max_depth=11, max_features=None, min_samples_leaf=2, min_samples_split=2, n_estimators=100\n",
            "[CV 1/5; 5/10] END criterion=entropy, max_depth=11, max_features=None, min_samples_leaf=2, min_samples_split=2, n_estimators=100;, score=nan total time=   0.1s\n",
            "[CV 2/5; 5/10] START criterion=entropy, max_depth=11, max_features=None, min_samples_leaf=2, min_samples_split=2, n_estimators=100\n",
            "[CV 2/5; 5/10] END criterion=entropy, max_depth=11, max_features=None, min_samples_leaf=2, min_samples_split=2, n_estimators=100;, score=nan total time=   0.9s\n",
            "[CV 3/5; 5/10] START criterion=entropy, max_depth=11, max_features=None, min_samples_leaf=2, min_samples_split=2, n_estimators=100\n",
            "[CV 3/5; 5/10] END criterion=entropy, max_depth=11, max_features=None, min_samples_leaf=2, min_samples_split=2, n_estimators=100;, score=nan total time=   0.9s\n",
            "[CV 4/5; 5/10] START criterion=entropy, max_depth=11, max_features=None, min_samples_leaf=2, min_samples_split=2, n_estimators=100\n",
            "[CV 4/5; 5/10] END criterion=entropy, max_depth=11, max_features=None, min_samples_leaf=2, min_samples_split=2, n_estimators=100;, score=nan total time=   0.9s\n",
            "[CV 5/5; 5/10] START criterion=entropy, max_depth=11, max_features=None, min_samples_leaf=2, min_samples_split=2, n_estimators=100\n",
            "[CV 5/5; 5/10] END criterion=entropy, max_depth=11, max_features=None, min_samples_leaf=2, min_samples_split=2, n_estimators=100;, score=nan total time=   0.9s\n",
            "[CV 1/5; 6/10] START criterion=entropy, max_depth=11, max_features=log2, min_samples_leaf=5, min_samples_split=10, n_estimators=500\n",
            "[CV 1/5; 6/10] END criterion=entropy, max_depth=11, max_features=log2, min_samples_leaf=5, min_samples_split=10, n_estimators=500;, score=-0.308 total time=  59.5s\n",
            "[CV 2/5; 6/10] START criterion=entropy, max_depth=11, max_features=log2, min_samples_leaf=5, min_samples_split=10, n_estimators=500\n",
            "[CV 2/5; 6/10] END criterion=entropy, max_depth=11, max_features=log2, min_samples_leaf=5, min_samples_split=10, n_estimators=500;, score=-0.309 total time=  59.2s\n",
            "[CV 3/5; 6/10] START criterion=entropy, max_depth=11, max_features=log2, min_samples_leaf=5, min_samples_split=10, n_estimators=500\n",
            "[CV 3/5; 6/10] END criterion=entropy, max_depth=11, max_features=log2, min_samples_leaf=5, min_samples_split=10, n_estimators=500;, score=-0.308 total time=  59.1s\n",
            "[CV 4/5; 6/10] START criterion=entropy, max_depth=11, max_features=log2, min_samples_leaf=5, min_samples_split=10, n_estimators=500\n",
            "[CV 4/5; 6/10] END criterion=entropy, max_depth=11, max_features=log2, min_samples_leaf=5, min_samples_split=10, n_estimators=500;, score=-0.309 total time=  58.1s\n",
            "[CV 5/5; 6/10] START criterion=entropy, max_depth=11, max_features=log2, min_samples_leaf=5, min_samples_split=10, n_estimators=500\n",
            "[CV 5/5; 6/10] END criterion=entropy, max_depth=11, max_features=log2, min_samples_leaf=5, min_samples_split=10, n_estimators=500;, score=-0.308 total time=  59.0s\n",
            "[CV 1/5; 7/10] START criterion=gini, max_depth=7, max_features=log2, min_samples_leaf=2, min_samples_split=15, n_estimators=100\n",
            "[CV 1/5; 7/10] END criterion=gini, max_depth=7, max_features=log2, min_samples_leaf=2, min_samples_split=15, n_estimators=100;, score=-0.308 total time=   5.2s\n",
            "[CV 2/5; 7/10] START criterion=gini, max_depth=7, max_features=log2, min_samples_leaf=2, min_samples_split=15, n_estimators=100\n",
            "[CV 2/5; 7/10] END criterion=gini, max_depth=7, max_features=log2, min_samples_leaf=2, min_samples_split=15, n_estimators=100;, score=-0.309 total time=   5.3s\n",
            "[CV 3/5; 7/10] START criterion=gini, max_depth=7, max_features=log2, min_samples_leaf=2, min_samples_split=15, n_estimators=100\n",
            "[CV 3/5; 7/10] END criterion=gini, max_depth=7, max_features=log2, min_samples_leaf=2, min_samples_split=15, n_estimators=100;, score=-0.308 total time=   5.3s\n",
            "[CV 4/5; 7/10] START criterion=gini, max_depth=7, max_features=log2, min_samples_leaf=2, min_samples_split=15, n_estimators=100\n",
            "[CV 4/5; 7/10] END criterion=gini, max_depth=7, max_features=log2, min_samples_leaf=2, min_samples_split=15, n_estimators=100;, score=-0.308 total time=   5.3s\n",
            "[CV 5/5; 7/10] START criterion=gini, max_depth=7, max_features=log2, min_samples_leaf=2, min_samples_split=15, n_estimators=100\n",
            "[CV 5/5; 7/10] END criterion=gini, max_depth=7, max_features=log2, min_samples_leaf=2, min_samples_split=15, n_estimators=100;, score=-0.308 total time=   5.2s\n",
            "[CV 1/5; 8/10] START criterion=entropy, max_depth=5, max_features=log2, min_samples_leaf=1, min_samples_split=10, n_estimators=200\n",
            "[CV 1/5; 8/10] END criterion=entropy, max_depth=5, max_features=log2, min_samples_leaf=1, min_samples_split=10, n_estimators=200;, score=-0.308 total time=  11.4s\n",
            "[CV 2/5; 8/10] START criterion=entropy, max_depth=5, max_features=log2, min_samples_leaf=1, min_samples_split=10, n_estimators=200\n",
            "[CV 2/5; 8/10] END criterion=entropy, max_depth=5, max_features=log2, min_samples_leaf=1, min_samples_split=10, n_estimators=200;, score=-0.309 total time=  11.3s\n",
            "[CV 3/5; 8/10] START criterion=entropy, max_depth=5, max_features=log2, min_samples_leaf=1, min_samples_split=10, n_estimators=200\n",
            "[CV 3/5; 8/10] END criterion=entropy, max_depth=5, max_features=log2, min_samples_leaf=1, min_samples_split=10, n_estimators=200;, score=-0.308 total time=  11.3s\n",
            "[CV 4/5; 8/10] START criterion=entropy, max_depth=5, max_features=log2, min_samples_leaf=1, min_samples_split=10, n_estimators=200\n",
            "[CV 4/5; 8/10] END criterion=entropy, max_depth=5, max_features=log2, min_samples_leaf=1, min_samples_split=10, n_estimators=200;, score=-0.308 total time=  11.5s\n",
            "[CV 5/5; 8/10] START criterion=entropy, max_depth=5, max_features=log2, min_samples_leaf=1, min_samples_split=10, n_estimators=200\n",
            "[CV 5/5; 8/10] END criterion=entropy, max_depth=5, max_features=log2, min_samples_leaf=1, min_samples_split=10, n_estimators=200;, score=-0.308 total time=  11.4s\n",
            "[CV 1/5; 9/10] START criterion=entropy, max_depth=15, max_features=sqrt, min_samples_leaf=1, min_samples_split=15, n_estimators=500\n",
            "[CV 1/5; 9/10] END criterion=entropy, max_depth=15, max_features=sqrt, min_samples_leaf=1, min_samples_split=15, n_estimators=500;, score=-0.308 total time= 1.2min\n",
            "[CV 2/5; 9/10] START criterion=entropy, max_depth=15, max_features=sqrt, min_samples_leaf=1, min_samples_split=15, n_estimators=500\n",
            "[CV 2/5; 9/10] END criterion=entropy, max_depth=15, max_features=sqrt, min_samples_leaf=1, min_samples_split=15, n_estimators=500;, score=-0.309 total time= 1.3min\n",
            "[CV 3/5; 9/10] START criterion=entropy, max_depth=15, max_features=sqrt, min_samples_leaf=1, min_samples_split=15, n_estimators=500\n",
            "[CV 3/5; 9/10] END criterion=entropy, max_depth=15, max_features=sqrt, min_samples_leaf=1, min_samples_split=15, n_estimators=500;, score=-0.308 total time= 1.3min\n",
            "[CV 4/5; 9/10] START criterion=entropy, max_depth=15, max_features=sqrt, min_samples_leaf=1, min_samples_split=15, n_estimators=500\n",
            "[CV 4/5; 9/10] END criterion=entropy, max_depth=15, max_features=sqrt, min_samples_leaf=1, min_samples_split=15, n_estimators=500;, score=-0.309 total time= 1.3min\n",
            "[CV 5/5; 9/10] START criterion=entropy, max_depth=15, max_features=sqrt, min_samples_leaf=1, min_samples_split=15, n_estimators=500\n",
            "[CV 5/5; 9/10] END criterion=entropy, max_depth=15, max_features=sqrt, min_samples_leaf=1, min_samples_split=15, n_estimators=500;, score=-0.309 total time= 1.3min\n",
            "[CV 1/5; 10/10] START criterion=entropy, max_depth=7, max_features=sqrt, min_samples_leaf=1, min_samples_split=10, n_estimators=100\n",
            "[CV 1/5; 10/10] END criterion=entropy, max_depth=7, max_features=sqrt, min_samples_leaf=1, min_samples_split=10, n_estimators=100;, score=-0.308 total time=   7.8s\n",
            "[CV 2/5; 10/10] START criterion=entropy, max_depth=7, max_features=sqrt, min_samples_leaf=1, min_samples_split=10, n_estimators=100\n",
            "[CV 2/5; 10/10] END criterion=entropy, max_depth=7, max_features=sqrt, min_samples_leaf=1, min_samples_split=10, n_estimators=100;, score=-0.309 total time=   7.8s\n",
            "[CV 3/5; 10/10] START criterion=entropy, max_depth=7, max_features=sqrt, min_samples_leaf=1, min_samples_split=10, n_estimators=100\n",
            "[CV 3/5; 10/10] END criterion=entropy, max_depth=7, max_features=sqrt, min_samples_leaf=1, min_samples_split=10, n_estimators=100;, score=-0.308 total time=   7.8s\n",
            "[CV 4/5; 10/10] START criterion=entropy, max_depth=7, max_features=sqrt, min_samples_leaf=1, min_samples_split=10, n_estimators=100\n",
            "[CV 4/5; 10/10] END criterion=entropy, max_depth=7, max_features=sqrt, min_samples_leaf=1, min_samples_split=10, n_estimators=100;, score=-0.308 total time=   7.8s\n",
            "[CV 5/5; 10/10] START criterion=entropy, max_depth=7, max_features=sqrt, min_samples_leaf=1, min_samples_split=10, n_estimators=100\n",
            "[CV 5/5; 10/10] END criterion=entropy, max_depth=7, max_features=sqrt, min_samples_leaf=1, min_samples_split=10, n_estimators=100;, score=-0.308 total time=   7.8s\n",
            "Best score: -0.30819365362155865\n",
            "Best parameters set:\n",
            "\tcriterion: entropy\n",
            "\tmax_depth: 5\n",
            "\tmax_features: log2\n",
            "\tmin_samples_leaf: 1\n",
            "\tmin_samples_split: 10\n",
            "\tn_estimators: 200\n"
          ]
        }
      ]
    },
    {
      "cell_type": "markdown",
      "source": [
        "Training Random Forest model with tuned hyperparameters"
      ],
      "metadata": {
        "id": "PJySE7ikywDF"
      }
    },
    {
      "cell_type": "code",
      "source": [
        "rf_params = {'n_estimators':200,\n",
        "'max_depth': 5,'criterion': 'entropy',\n",
        "'min_samples_split': 5,\n",
        "'min_samples_leaf': 1,\n",
        "'max_features':'log2'} \n",
        "rf_model = stkfold_cv(X_tr, y_train,RandomForestClassifier,rf_params)"
      ],
      "metadata": {
        "colab": {
          "base_uri": "https://localhost:8080/"
        },
        "id": "Y_Tck9_FyNLj",
        "outputId": "5d3ad988-7f21-45c2-af19-9b424c142856"
      },
      "execution_count": 137,
      "outputs": [
        {
          "output_type": "stream",
          "name": "stdout",
          "text": [
            "Log-loss: 0.3083797531557429\n",
            "Log-loss: 0.30869770982881767\n",
            "Log-loss: 0.308294174702992\n",
            "Log-loss: 0.3079341872207546\n",
            "Log-loss: 0.30792462485598787\n"
          ]
        }
      ]
    },
    {
      "cell_type": "code",
      "source": [
        "col_names = X_tr.columns\n",
        "importances = rf_model.feature_importances_\n",
        "idxs = np.argsort(importances)\n",
        "plt.title('Feature Importances')\n",
        "plt.barh(range(len(idxs)), importances[idxs], align='center')\n",
        "plt.yticks(range(len(idxs)), [col_names[i] for i in idxs])\n",
        "plt.xlabel('Random Forest Feature Importance')\n",
        "plt.show()"
      ],
      "metadata": {
        "colab": {
          "base_uri": "https://localhost:8080/",
          "height": 295
        },
        "id": "3OJBxiBNzDQz",
        "outputId": "dfe6eacc-e783-4215-b271-4b3100c6c315"
      },
      "execution_count": 138,
      "outputs": [
        {
          "output_type": "display_data",
          "data": {
            "text/plain": [
              "<Figure size 432x288 with 1 Axes>"
            ],
            "image/png": "[encoded data removed]"
          },
          "metadata": {
            "needs_background": "light"
          }
        }
      ]
    },
    {
      "cell_type": "markdown",
      "source": [
        "###Training on resampled data"
      ],
      "metadata": {
        "id": "Y-O8PJOE_ZLS"
      }
    },
    {
      "cell_type": "markdown",
      "source": [
        "####Model 1"
      ],
      "metadata": {
        "id": "3RP-tQN3Avzv"
      }
    },
    {
      "cell_type": "code",
      "source": [
        "## Initial Logit model\n",
        "logit_params = {}\n",
        "logit_model = stkfold_cv(X_resampled,y_resampled,LogisticRegression,logit_params)"
      ],
      "metadata": {
        "colab": {
          "base_uri": "https://localhost:8080/"
        },
        "id": "RRNeFFZz_iGW",
        "outputId": "8a1e524d-9272-4ce9-d4b9-1385b43fa52f"
      },
      "execution_count": 178,
      "outputs": [
        {
          "output_type": "stream",
          "name": "stdout",
          "text": [
            "Log-loss: 0.69264668603918\n",
            "Log-loss: 0.6929420306401601\n",
            "Log-loss: 0.6926618613725853\n",
            "Log-loss: 0.6927004961752639\n",
            "Log-loss: 0.6930628103951708\n"
          ]
        }
      ]
    },
    {
      "cell_type": "markdown",
      "source": [
        "Hyperparameter Tuning to improve model"
      ],
      "metadata": {
        "id": "utl_MICwA00O"
      }
    },
    {
      "cell_type": "code",
      "source": [
        "# Define a grid of parameters\n",
        "param_grid = {'penalty': ['l1','l2'],\n",
        "'C': [0.001,0.01,0.1,1,10,100],}\n",
        "\n",
        "# Initialize grid search\n",
        "classifier = LogisticRegression(n_jobs=-1,random_state=42)\n",
        "\n",
        "model = RandomizedSearchCV(estimator=classifier,\n",
        "param_distributions=param_grid,\n",
        "scoring='neg_log_loss',\n",
        "verbose=10,\n",
        "n_jobs=1,\n",
        "cv=StratifiedKFold(5,shuffle=True))\n",
        "\n",
        "# Fit the model and extract best score\n",
        "model.fit(X_resampled, y_resampled)\n",
        "print(f'Best score: {model.best_score_}')\n",
        "print('Best parameters set:')\n",
        "best_parameters = model.best_estimator_.get_params()\n",
        "for param_name in sorted(param_grid.keys()):\n",
        "    print(f'\\t{param_name}: {best_parameters[param_name]}')"
      ],
      "metadata": {
        "colab": {
          "base_uri": "https://localhost:8080/"
        },
        "id": "d-s7PZh7ArSp",
        "outputId": "3ea170b9-a7ea-41e2-f855-e4008e09da9b"
      },
      "execution_count": 179,
      "outputs": [
        {
          "output_type": "stream",
          "name": "stdout",
          "text": [
            "Fitting 5 folds for each of 10 candidates, totalling 50 fits\n",
            "[CV 1/5; 1/10] START C=0.01, penalty=l1.........................................\n",
            "[CV 1/5; 1/10] END ............C=0.01, penalty=l1;, score=nan total time=   0.0s\n",
            "[CV 2/5; 1/10] START C=0.01, penalty=l1.........................................\n",
            "[CV 2/5; 1/10] END ............C=0.01, penalty=l1;, score=nan total time=   0.0s\n",
            "[CV 3/5; 1/10] START C=0.01, penalty=l1.........................................\n",
            "[CV 3/5; 1/10] END ............C=0.01, penalty=l1;, score=nan total time=   0.0s\n",
            "[CV 4/5; 1/10] START C=0.01, penalty=l1.........................................\n",
            "[CV 4/5; 1/10] END ............C=0.01, penalty=l1;, score=nan total time=   0.0s\n",
            "[CV 5/5; 1/10] START C=0.01, penalty=l1.........................................\n",
            "[CV 5/5; 1/10] END ............C=0.01, penalty=l1;, score=nan total time=   0.0s\n",
            "[CV 1/5; 2/10] START C=0.1, penalty=l1..........................................\n",
            "[CV 1/5; 2/10] END .............C=0.1, penalty=l1;, score=nan total time=   0.0s\n",
            "[CV 2/5; 2/10] START C=0.1, penalty=l1..........................................\n",
            "[CV 2/5; 2/10] END .............C=0.1, penalty=l1;, score=nan total time=   0.0s\n",
            "[CV 3/5; 2/10] START C=0.1, penalty=l1..........................................\n",
            "[CV 3/5; 2/10] END .............C=0.1, penalty=l1;, score=nan total time=   0.0s\n",
            "[CV 4/5; 2/10] START C=0.1, penalty=l1..........................................\n",
            "[CV 4/5; 2/10] END .............C=0.1, penalty=l1;, score=nan total time=   0.0s\n",
            "[CV 5/5; 2/10] START C=0.1, penalty=l1..........................................\n",
            "[CV 5/5; 2/10] END .............C=0.1, penalty=l1;, score=nan total time=   0.0s\n",
            "[CV 1/5; 3/10] START C=10, penalty=l1...........................................\n",
            "[CV 1/5; 3/10] END ..............C=10, penalty=l1;, score=nan total time=   0.0s\n",
            "[CV 2/5; 3/10] START C=10, penalty=l1...........................................\n",
            "[CV 2/5; 3/10] END ..............C=10, penalty=l1;, score=nan total time=   0.0s\n",
            "[CV 3/5; 3/10] START C=10, penalty=l1...........................................\n",
            "[CV 3/5; 3/10] END ..............C=10, penalty=l1;, score=nan total time=   0.0s\n",
            "[CV 4/5; 3/10] START C=10, penalty=l1...........................................\n",
            "[CV 4/5; 3/10] END ..............C=10, penalty=l1;, score=nan total time=   0.0s\n",
            "[CV 5/5; 3/10] START C=10, penalty=l1...........................................\n",
            "[CV 5/5; 3/10] END ..............C=10, penalty=l1;, score=nan total time=   0.0s\n",
            "[CV 1/5; 4/10] START C=100, penalty=l2..........................................\n",
            "[CV 1/5; 4/10] END ..........C=100, penalty=l2;, score=-0.692 total time=   3.0s\n",
            "[CV 2/5; 4/10] START C=100, penalty=l2..........................................\n",
            "[CV 2/5; 4/10] END ..........C=100, penalty=l2;, score=-0.693 total time=   2.4s\n",
            "[CV 3/5; 4/10] START C=100, penalty=l2..........................................\n",
            "[CV 3/5; 4/10] END ..........C=100, penalty=l2;, score=-0.692 total time=   2.0s\n",
            "[CV 4/5; 4/10] START C=100, penalty=l2..........................................\n",
            "[CV 4/5; 4/10] END ..........C=100, penalty=l2;, score=-0.693 total time=   1.0s\n",
            "[CV 5/5; 4/10] START C=100, penalty=l2..........................................\n",
            "[CV 5/5; 4/10] END ..........C=100, penalty=l2;, score=-0.693 total time=   2.4s\n",
            "[CV 1/5; 5/10] START C=0.001, penalty=l2........................................\n",
            "[CV 1/5; 5/10] END ........C=0.001, penalty=l2;, score=-0.692 total time=   2.0s\n",
            "[CV 2/5; 5/10] START C=0.001, penalty=l2........................................\n",
            "[CV 2/5; 5/10] END ........C=0.001, penalty=l2;, score=-0.693 total time=   2.1s\n",
            "[CV 3/5; 5/10] START C=0.001, penalty=l2........................................\n",
            "[CV 3/5; 5/10] END ........C=0.001, penalty=l2;, score=-0.692 total time=   1.8s\n",
            "[CV 4/5; 5/10] START C=0.001, penalty=l2........................................\n",
            "[CV 4/5; 5/10] END ........C=0.001, penalty=l2;, score=-0.693 total time=   1.0s\n",
            "[CV 5/5; 5/10] START C=0.001, penalty=l2........................................\n",
            "[CV 5/5; 5/10] END ........C=0.001, penalty=l2;, score=-0.693 total time=   2.4s\n",
            "[CV 1/5; 6/10] START C=0.01, penalty=l2.........................................\n",
            "[CV 1/5; 6/10] END .........C=0.01, penalty=l2;, score=-0.692 total time=   2.0s\n",
            "[CV 2/5; 6/10] START C=0.01, penalty=l2.........................................\n",
            "[CV 2/5; 6/10] END .........C=0.01, penalty=l2;, score=-0.693 total time=   2.0s\n",
            "[CV 3/5; 6/10] START C=0.01, penalty=l2.........................................\n",
            "[CV 3/5; 6/10] END .........C=0.01, penalty=l2;, score=-0.692 total time=   1.9s\n",
            "[CV 4/5; 6/10] START C=0.01, penalty=l2.........................................\n",
            "[CV 4/5; 6/10] END .........C=0.01, penalty=l2;, score=-0.693 total time=   1.0s\n",
            "[CV 5/5; 6/10] START C=0.01, penalty=l2.........................................\n",
            "[CV 5/5; 6/10] END .........C=0.01, penalty=l2;, score=-0.693 total time=   2.4s\n",
            "[CV 1/5; 7/10] START C=1, penalty=l2............................................\n",
            "[CV 1/5; 7/10] END ............C=1, penalty=l2;, score=-0.692 total time=   2.0s\n",
            "[CV 2/5; 7/10] START C=1, penalty=l2............................................\n",
            "[CV 2/5; 7/10] END ............C=1, penalty=l2;, score=-0.693 total time=   2.1s\n",
            "[CV 3/5; 7/10] START C=1, penalty=l2............................................\n",
            "[CV 3/5; 7/10] END ............C=1, penalty=l2;, score=-0.692 total time=   1.8s\n",
            "[CV 4/5; 7/10] START C=1, penalty=l2............................................\n",
            "[CV 4/5; 7/10] END ............C=1, penalty=l2;, score=-0.693 total time=   1.0s\n",
            "[CV 5/5; 7/10] START C=1, penalty=l2............................................\n",
            "[CV 5/5; 7/10] END ............C=1, penalty=l2;, score=-0.693 total time=   2.4s\n",
            "[CV 1/5; 8/10] START C=10, penalty=l2...........................................\n",
            "[CV 1/5; 8/10] END ...........C=10, penalty=l2;, score=-0.692 total time=   2.0s\n",
            "[CV 2/5; 8/10] START C=10, penalty=l2...........................................\n",
            "[CV 2/5; 8/10] END ...........C=10, penalty=l2;, score=-0.693 total time=   2.0s\n",
            "[CV 3/5; 8/10] START C=10, penalty=l2...........................................\n",
            "[CV 3/5; 8/10] END ...........C=10, penalty=l2;, score=-0.692 total time=   1.9s\n",
            "[CV 4/5; 8/10] START C=10, penalty=l2...........................................\n",
            "[CV 4/5; 8/10] END ...........C=10, penalty=l2;, score=-0.693 total time=   1.0s\n",
            "[CV 5/5; 8/10] START C=10, penalty=l2...........................................\n",
            "[CV 5/5; 8/10] END ...........C=10, penalty=l2;, score=-0.693 total time=   2.4s\n",
            "[CV 1/5; 9/10] START C=0.1, penalty=l2..........................................\n",
            "[CV 1/5; 9/10] END ..........C=0.1, penalty=l2;, score=-0.692 total time=   2.0s\n",
            "[CV 2/5; 9/10] START C=0.1, penalty=l2..........................................\n",
            "[CV 2/5; 9/10] END ..........C=0.1, penalty=l2;, score=-0.693 total time=   2.0s\n",
            "[CV 3/5; 9/10] START C=0.1, penalty=l2..........................................\n",
            "[CV 3/5; 9/10] END ..........C=0.1, penalty=l2;, score=-0.692 total time=   1.8s\n",
            "[CV 4/5; 9/10] START C=0.1, penalty=l2..........................................\n",
            "[CV 4/5; 9/10] END ..........C=0.1, penalty=l2;, score=-0.693 total time=   1.0s\n",
            "[CV 5/5; 9/10] START C=0.1, penalty=l2..........................................\n",
            "[CV 5/5; 9/10] END ..........C=0.1, penalty=l2;, score=-0.693 total time=   2.4s\n",
            "[CV 1/5; 10/10] START C=1, penalty=l1...........................................\n",
            "[CV 1/5; 10/10] END ..............C=1, penalty=l1;, score=nan total time=   0.0s\n",
            "[CV 2/5; 10/10] START C=1, penalty=l1...........................................\n",
            "[CV 2/5; 10/10] END ..............C=1, penalty=l1;, score=nan total time=   0.0s\n",
            "[CV 3/5; 10/10] START C=1, penalty=l1...........................................\n",
            "[CV 3/5; 10/10] END ..............C=1, penalty=l1;, score=nan total time=   0.0s\n",
            "[CV 4/5; 10/10] START C=1, penalty=l1...........................................\n",
            "[CV 4/5; 10/10] END ..............C=1, penalty=l1;, score=nan total time=   0.0s\n",
            "[CV 5/5; 10/10] START C=1, penalty=l1...........................................\n",
            "[CV 5/5; 10/10] END ..............C=1, penalty=l1;, score=nan total time=   0.0s\n",
            "Best score: -0.6927396407239994\n",
            "Best parameters set:\n",
            "\tC: 0.001\n",
            "\tpenalty: l2\n"
          ]
        }
      ]
    },
    {
      "cell_type": "markdown",
      "source": [
        "Training the Logistic regression model with trained hyperparameters"
      ],
      "metadata": {
        "id": "CcgEve7hBRgb"
      }
    },
    {
      "cell_type": "code",
      "source": [
        "## Logit model with tuned hyperparameters\n",
        "logit_params = {'penalty':'l2','C': 0.001}\n",
        "logit_model = stkfold_cv(X_resampled,y_resampled,LogisticRegression,logit_params)"
      ],
      "metadata": {
        "colab": {
          "base_uri": "https://localhost:8080/"
        },
        "id": "t7jQig7vBOcw",
        "outputId": "3c5ad0fa-1f07-4407-8fb6-0e7b497afe1d"
      },
      "execution_count": 180,
      "outputs": [
        {
          "output_type": "stream",
          "name": "stdout",
          "text": [
            "Log-loss: 0.6926215992632055\n",
            "Log-loss: 0.6929420306401611\n",
            "Log-loss: 0.6926618613726158\n",
            "Log-loss: 0.6927004961751255\n",
            "Log-loss: 0.6930628103951685\n"
          ]
        }
      ]
    },
    {
      "cell_type": "markdown",
      "source": [
        "####Model 2"
      ],
      "metadata": {
        "id": "Ogy1TUWqBtcp"
      }
    },
    {
      "cell_type": "code",
      "source": [
        "## Random Forest model\n",
        "rf_params = {}\n",
        "rf_model = stkfold_cv(X_resampled, y_resampled,RandomForestClassifier,rf_params)"
      ],
      "metadata": {
        "colab": {
          "base_uri": "https://localhost:8080/"
        },
        "id": "oz7NDgqoB0iU",
        "outputId": "b8cb387d-5d23-4981-e786-ef22f4e60917"
      },
      "execution_count": 181,
      "outputs": [
        {
          "output_type": "stream",
          "name": "stdout",
          "text": [
            "Log-loss: 0.37670342334369805\n",
            "Log-loss: 0.37239085236664643\n",
            "Log-loss: 0.37090151774059166\n",
            "Log-loss: 0.374056124810487\n",
            "Log-loss: 0.3728831641419003\n"
          ]
        }
      ]
    },
    {
      "cell_type": "markdown",
      "source": [
        "Training the Random forest model with tuned hyperparameters"
      ],
      "metadata": {
        "id": "_VwP2UKmGU0x"
      }
    },
    {
      "cell_type": "code",
      "source": [
        "col_names = X_resampled.columns\n",
        "importances = rf_model.feature_importances_\n",
        "idxs = np.argsort(importances)\n",
        "plt.figure(figsize=(10,6))\n",
        "plt.title('Feature Importances')\n",
        "plt.barh(range(len(idxs)), importances[idxs], align='center')\n",
        "plt.yticks(range(len(idxs)), [col_names[i] for i in idxs])\n",
        "plt.xlabel('Random Forest Feature Importance')\n",
        "plt.show()"
      ],
      "metadata": {
        "colab": {
          "base_uri": "https://localhost:8080/",
          "height": 404
        },
        "id": "mMbnbtV1Gmx6",
        "outputId": "20753632-7e39-493d-a3c4-706c6463e785"
      },
      "execution_count": 192,
      "outputs": [
        {
          "output_type": "display_data",
          "data": {
            "text/plain": [
              "<Figure size 720x432 with 1 Axes>"
            ],
            "image/png": "[encoded data removed]"
          },
          "metadata": {
            "needs_background": "light"
          }
        }
      ]
    },
    {
      "cell_type": "markdown",
      "source": [
        "##Performance on test data"
      ],
      "metadata": {
        "id": "OqT--8xZzK0p"
      }
    },
    {
      "cell_type": "markdown",
      "source": [
        "###Models trained on data with original distribution"
      ],
      "metadata": {
        "id": "MS66NTPPGw3W"
      }
    },
    {
      "cell_type": "markdown",
      "source": [
        "####Model 1 Analysis"
      ],
      "metadata": {
        "id": "LhS0pZOo3nO7"
      }
    },
    {
      "cell_type": "code",
      "source": [
        "logit_preds = logit_model.predict(X_tst)"
      ],
      "metadata": {
        "id": "BA_iACWczNwX"
      },
      "execution_count": 148,
      "outputs": []
    },
    {
      "cell_type": "code",
      "source": [
        "print(classification_report(logit_preds, y_test))"
      ],
      "metadata": {
        "colab": {
          "base_uri": "https://localhost:8080/"
        },
        "id": "PwHYaWdG38sX",
        "outputId": "5abe39ac-5702-43a9-a057-b257d6e520c5"
      },
      "execution_count": 152,
      "outputs": [
        {
          "output_type": "stream",
          "name": "stdout",
          "text": [
            "              precision    recall  f1-score   support\n",
            "\n",
            "         0.0       1.00      0.91      0.95     13493\n",
            "         1.0       0.00      0.00      0.00         0\n",
            "\n",
            "    accuracy                           0.91     13493\n",
            "   macro avg       0.50      0.45      0.48     13493\n",
            "weighted avg       1.00      0.91      0.95     13493\n",
            "\n"
          ]
        }
      ]
    },
    {
      "cell_type": "markdown",
      "source": [
        "####Model 2 Analysis"
      ],
      "metadata": {
        "id": "hcAYLT7Z4S2y"
      }
    },
    {
      "cell_type": "code",
      "source": [
        "rf_preds = rf_model.predict(X_tst)"
      ],
      "metadata": {
        "id": "DiiIxRng4VZt"
      },
      "execution_count": 153,
      "outputs": []
    },
    {
      "cell_type": "code",
      "source": [
        "print(classification_report(rf_preds, y_test))"
      ],
      "metadata": {
        "colab": {
          "base_uri": "https://localhost:8080/"
        },
        "id": "xKa6VaDE4bmi",
        "outputId": "3cb3f5d9-dcb5-41ea-df35-1196e363e44d"
      },
      "execution_count": 155,
      "outputs": [
        {
          "output_type": "stream",
          "name": "stdout",
          "text": [
            "              precision    recall  f1-score   support\n",
            "\n",
            "         0.0       1.00      0.91      0.95     13493\n",
            "         1.0       0.00      0.00      0.00         0\n",
            "\n",
            "    accuracy                           0.91     13493\n",
            "   macro avg       0.50      0.45      0.48     13493\n",
            "weighted avg       1.00      0.91      0.95     13493\n",
            "\n"
          ]
        }
      ]
    },
    {
      "cell_type": "markdown",
      "source": [
        "###Models trained with resampled data"
      ],
      "metadata": {
        "id": "orDogXJSG39G"
      }
    },
    {
      "cell_type": "markdown",
      "source": [
        "####Model 1 analysis"
      ],
      "metadata": {
        "id": "_rQQ_ePJG-4c"
      }
    },
    {
      "cell_type": "code",
      "source": [
        "logit_preds = logit_model.predict(X_tst)"
      ],
      "metadata": {
        "id": "JPpIflNfG68t"
      },
      "execution_count": 172,
      "outputs": []
    },
    {
      "cell_type": "code",
      "source": [
        "print(classification_report(logit_preds, y_test))"
      ],
      "metadata": {
        "colab": {
          "base_uri": "https://localhost:8080/"
        },
        "id": "yW-SXrn9HERv",
        "outputId": "1e464a94-09f9-47fb-d645-7fbecd007151"
      },
      "execution_count": 173,
      "outputs": [
        {
          "output_type": "stream",
          "name": "stdout",
          "text": [
            "              precision    recall  f1-score   support\n",
            "\n",
            "         0.0       0.47      0.91      0.62      6409\n",
            "         1.0       0.52      0.09      0.16      7084\n",
            "\n",
            "    accuracy                           0.48     13493\n",
            "   macro avg       0.50      0.50      0.39     13493\n",
            "weighted avg       0.50      0.48      0.38     13493\n",
            "\n"
          ]
        }
      ]
    },
    {
      "cell_type": "markdown",
      "source": [
        "####Model 2 analysis"
      ],
      "metadata": {
        "id": "TCOFrKemHH2b"
      }
    },
    {
      "cell_type": "code",
      "source": [
        "rf_preds = rf_model.predict(X_test)"
      ],
      "metadata": {
        "id": "CF9Iqg37HKLB"
      },
      "execution_count": 183,
      "outputs": []
    },
    {
      "cell_type": "code",
      "source": [
        "print(classification_report(rf_preds, y_test))"
      ],
      "metadata": {
        "colab": {
          "base_uri": "https://localhost:8080/"
        },
        "id": "CGXnxLRNHPLK",
        "outputId": "d0e5425c-ed89-4d1c-9a70-0059faebfa9f"
      },
      "execution_count": 184,
      "outputs": [
        {
          "output_type": "stream",
          "name": "stdout",
          "text": [
            "              precision    recall  f1-score   support\n",
            "\n",
            "         0.0       0.89      0.91      0.90     11965\n",
            "         1.0       0.11      0.09      0.10      1528\n",
            "\n",
            "    accuracy                           0.81     13493\n",
            "   macro avg       0.50      0.50      0.50     13493\n",
            "weighted avg       0.80      0.81      0.81     13493\n",
            "\n"
          ]
        }
      ]
    },
    {
      "cell_type": "markdown",
      "source": [
        "##Conclusion\n",
        "\n",
        "Comparing all the 4 models we find that the models fitted on data with original distribution have no capacity of predicting the true positives, owing to the lack of samples of that class during training.\n",
        "\n",
        "However, the models trained on data after SMOTE resampling are able to predict true positives observed from the increased precision, recall and f1-score, at the cost of accuracy. The second model generalizes much better and thus, we select the Random Forest regressor trained on resampled data as our solution.\n",
        "\n",
        "\n",
        "\n",
        "---\n",
        "\n"
      ],
      "metadata": {
        "id": "vn_sKmF5OtPZ"
      }
    }
  ]
}